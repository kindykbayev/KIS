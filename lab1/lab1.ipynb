{
  "cells": [
    {
      "cell_type": "code",
      "execution_count": 103,
      "id": "9c8a95e8-0ac0-4a8b-b2a0-1decd36361ed",
      "metadata": {
        "id": "9c8a95e8-0ac0-4a8b-b2a0-1decd36361ed"
      },
      "outputs": [],
      "source": [
        "# Установить необходимый пакет для работы с URL\n",
        "install.packages(\"readr\")\n",
        "\n",
        "# Загрузить библиотеку\n",
        "library(readr)"
      ]
    },
    {
      "cell_type": "code",
      "source": [
        "# Указать URL-адрес файла CSV на GitHub\n",
        "url <- \"https://raw.githubusercontent.com/kindykbayev/KIS/main/lab1/Computers.csv\""
      ],
      "metadata": {
        "id": "Lj7gsiCcdyAm"
      },
      "id": "Lj7gsiCcdyAm",
      "execution_count": 104,
      "outputs": []
    },
    {
      "cell_type": "code",
      "source": [
        "Sys.setenv(\"VROOM_CONNECTION_SIZE\" = 1048576)"
      ],
      "metadata": {
        "id": "0lTraVZ6fVt9"
      },
      "id": "0lTraVZ6fVt9",
      "execution_count": 105,
      "outputs": []
    },
    {
      "cell_type": "code",
      "source": [
        "# Прочитать CSV-файл\n",
        "data <- read_csv(url, col_types = cols(.default = \"integer\", cd = col_character(), multi = col_character(), premium = col_character()))"
      ],
      "metadata": {
        "colab": {
          "base_uri": "https://localhost:8080/"
        },
        "id": "CjqtDQvVeIb_",
        "outputId": "33c67984-bba1-4571-cc7a-582a26fbc918"
      },
      "id": "CjqtDQvVeIb_",
      "execution_count": 106,
      "outputs": [
        {
          "output_type": "stream",
          "name": "stderr",
          "text": [
            "\u001b[1m\u001b[22mNew names:\n",
            "\u001b[36m•\u001b[39m `` -> `...1`\n"
          ]
        }
      ]
    },
    {
      "cell_type": "code",
      "source": [
        "View(data)"
      ],
      "metadata": {
        "colab": {
          "base_uri": "https://localhost:8080/",
          "height": 1000
        },
        "id": "6H5YqfSXgWgJ",
        "outputId": "d1343927-3151-4aa5-bdeb-6bceb5f1bfd5"
      },
      "id": "6H5YqfSXgWgJ",
      "execution_count": 107,
      "outputs": [
        {
          "output_type": "display_data",
          "data": {
            "text/plain": [
              "     ...1 price speed hd   ram screen cd  multi premium ads trend\n",
              "1     1   1499  25     80   4  14     no  no    yes     94  1    \n",
              "2     2   1795  33     85   2  14     no  no    yes     94  1    \n",
              "3     3   1595  25    170   4  15     no  no    yes     94  1    \n",
              "4     4   1849  25    170   8  14     no  no    no      94  1    \n",
              "5     5   3295  33    340  16  14     no  no    yes     94  1    \n",
              "6     6   3695  66    340  16  14     no  no    yes     94  1    \n",
              "7     7   1720  25    170   4  14     yes no    yes     94  1    \n",
              "8     8   1995  50     85   2  14     no  no    yes     94  1    \n",
              "9     9   2225  50    210   8  14     no  no    yes     94  1    \n",
              "10   10   2575  50    210   4  15     no  no    yes     94  1    \n",
              "11   11   2195  33    170   8  15     no  no    yes     94  1    \n",
              "12   12   2605  66    210   8  14     no  no    yes     94  1    \n",
              "13   13   2045  50    130   4  14     no  no    yes     94  1    \n",
              "14   14   2295  25    245   8  14     no  no    yes     94  1    \n",
              "15   15   2699  50    212   8  14     no  no    yes     94  1    \n",
              "16   16   2225  50    130   4  14     no  no    yes     94  1    \n",
              "17   17   1595  33     85   2  14     no  no    yes     94  1    \n",
              "18   18   2325  33    210   4  15     no  no    yes     94  1    \n",
              "19   19   2095  33    250   4  15     no  no    yes     94  1    \n",
              "20   20   4395  66    452   8  14     no  no    yes     94  1    \n",
              "21   21   1695  33    130   4  14     no  no    yes     94  1    \n",
              "22   22   2795  66    130   4  14     no  no    yes     94  1    \n",
              "23   23   2895  25    340  16  14     no  no    yes     94  1    \n",
              "24   24   2875  50    210   4  17     no  no    yes     94  1    \n",
              "25   25   4195  50    452   8  14     no  no    yes     94  1    \n",
              "26   26   1290  33     80   2  14     no  no    yes     94  1    \n",
              "27   27   1975  33    130   4  14     no  no    yes     94  1    \n",
              "28   28   3995  33    452   8  14     no  no    yes     94  1    \n",
              "29   29   3095  33    340  16  14     no  no    yes     94  1    \n",
              "30   30   3244  66    245   8  14     no  no    yes     94  1    \n",
              "⋮    ⋮    ⋮     ⋮     ⋮    ⋮   ⋮      ⋮   ⋮     ⋮       ⋮   ⋮    \n",
              "6230 6230 2344   66    850 16  15     yes no    yes     39  35   \n",
              "6231 6231 2890  100   1200 24  17     yes no    yes     39  35   \n",
              "6232 6232 2390   66    850 16  17     yes no    yes     39  35   \n",
              "6233 6233 1495   66    528  8  14     no  no    yes     39  35   \n",
              "6234 6234 1844  100    528  8  14     no  no    yes     39  35   \n",
              "6235 6235 1699   66    630  8  15     no  no    no      39  35   \n",
              "6236 6236 3290   75   1600 32  17     yes no    yes     39  35   \n",
              "6237 6237 2790   66   1200 24  17     yes no    yes     39  35   \n",
              "6238 6238 2845  100   1600 24  15     yes no    yes     39  35   \n",
              "6239 6239 1744   66    528  8  14     no  no    yes     39  35   \n",
              "6240 6240 3095  100   1600 32  15     yes no    yes     39  35   \n",
              "6241 6241 1595  100    528  8  14     no  no    yes     39  35   \n",
              "6242 6242 2254  100    850 16  15     yes no    yes     39  35   \n",
              "6243 6243 2723  100   1200 24  15     yes yes   yes     39  35   \n",
              "6244 6244 2745   66   1600 24  15     yes no    yes     39  35   \n",
              "6245 6245 3054   75   1600 32  15     yes no    yes     39  35   \n",
              "6246 6246 2744   66   1200 24  15     yes no    yes     39  35   \n",
              "6247 6247 1554   66    528  8  14     no  no    yes     39  35   \n",
              "6248 6248 1654  100    528  8  14     no  no    yes     39  35   \n",
              "6249 6249 2623   66   1200 24  15     yes yes   yes     39  35   \n",
              "6250 6250 2095   66    850 16  15     yes no    yes     39  35   \n",
              "6251 6251 2495   66   1200 24  15     yes no    yes     39  35   \n",
              "6252 6252 2995   66   1600 32  15     yes no    yes     39  35   \n",
              "6253 6253 1690   66   1200  8  14     no  no    yes     39  35   \n",
              "6254 6254 2154   66    850 16  15     yes no    yes     39  35   \n",
              "6255 6255 1690  100    528  8  15     no  no    yes     39  35   \n",
              "6256 6256 2223   66    850 16  15     yes yes   yes     39  35   \n",
              "6257 6257 2654  100   1200 24  15     yes no    yes     39  35   \n",
              "6258 6258 2195  100    850 16  15     yes no    yes     39  35   \n",
              "6259 6259 2490  100    850 16  17     yes no    yes     39  35   "
            ],
            "text/html": [
              "<table class=\"dataframe\">\n",
              "<caption>A spec_tbl_df: 6259 × 11</caption>\n",
              "<thead>\n",
              "\t<tr><th scope=col>...1</th><th scope=col>price</th><th scope=col>speed</th><th scope=col>hd</th><th scope=col>ram</th><th scope=col>screen</th><th scope=col>cd</th><th scope=col>multi</th><th scope=col>premium</th><th scope=col>ads</th><th scope=col>trend</th></tr>\n",
              "\t<tr><th scope=col>&lt;int&gt;</th><th scope=col>&lt;int&gt;</th><th scope=col>&lt;int&gt;</th><th scope=col>&lt;int&gt;</th><th scope=col>&lt;int&gt;</th><th scope=col>&lt;int&gt;</th><th scope=col>&lt;chr&gt;</th><th scope=col>&lt;chr&gt;</th><th scope=col>&lt;chr&gt;</th><th scope=col>&lt;int&gt;</th><th scope=col>&lt;int&gt;</th></tr>\n",
              "</thead>\n",
              "<tbody>\n",
              "\t<tr><td> 1</td><td>1499</td><td>25</td><td> 80</td><td> 4</td><td>14</td><td>no </td><td>no</td><td>yes</td><td>94</td><td>1</td></tr>\n",
              "\t<tr><td> 2</td><td>1795</td><td>33</td><td> 85</td><td> 2</td><td>14</td><td>no </td><td>no</td><td>yes</td><td>94</td><td>1</td></tr>\n",
              "\t<tr><td> 3</td><td>1595</td><td>25</td><td>170</td><td> 4</td><td>15</td><td>no </td><td>no</td><td>yes</td><td>94</td><td>1</td></tr>\n",
              "\t<tr><td> 4</td><td>1849</td><td>25</td><td>170</td><td> 8</td><td>14</td><td>no </td><td>no</td><td>no </td><td>94</td><td>1</td></tr>\n",
              "\t<tr><td> 5</td><td>3295</td><td>33</td><td>340</td><td>16</td><td>14</td><td>no </td><td>no</td><td>yes</td><td>94</td><td>1</td></tr>\n",
              "\t<tr><td> 6</td><td>3695</td><td>66</td><td>340</td><td>16</td><td>14</td><td>no </td><td>no</td><td>yes</td><td>94</td><td>1</td></tr>\n",
              "\t<tr><td> 7</td><td>1720</td><td>25</td><td>170</td><td> 4</td><td>14</td><td>yes</td><td>no</td><td>yes</td><td>94</td><td>1</td></tr>\n",
              "\t<tr><td> 8</td><td>1995</td><td>50</td><td> 85</td><td> 2</td><td>14</td><td>no </td><td>no</td><td>yes</td><td>94</td><td>1</td></tr>\n",
              "\t<tr><td> 9</td><td>2225</td><td>50</td><td>210</td><td> 8</td><td>14</td><td>no </td><td>no</td><td>yes</td><td>94</td><td>1</td></tr>\n",
              "\t<tr><td>10</td><td>2575</td><td>50</td><td>210</td><td> 4</td><td>15</td><td>no </td><td>no</td><td>yes</td><td>94</td><td>1</td></tr>\n",
              "\t<tr><td>11</td><td>2195</td><td>33</td><td>170</td><td> 8</td><td>15</td><td>no </td><td>no</td><td>yes</td><td>94</td><td>1</td></tr>\n",
              "\t<tr><td>12</td><td>2605</td><td>66</td><td>210</td><td> 8</td><td>14</td><td>no </td><td>no</td><td>yes</td><td>94</td><td>1</td></tr>\n",
              "\t<tr><td>13</td><td>2045</td><td>50</td><td>130</td><td> 4</td><td>14</td><td>no </td><td>no</td><td>yes</td><td>94</td><td>1</td></tr>\n",
              "\t<tr><td>14</td><td>2295</td><td>25</td><td>245</td><td> 8</td><td>14</td><td>no </td><td>no</td><td>yes</td><td>94</td><td>1</td></tr>\n",
              "\t<tr><td>15</td><td>2699</td><td>50</td><td>212</td><td> 8</td><td>14</td><td>no </td><td>no</td><td>yes</td><td>94</td><td>1</td></tr>\n",
              "\t<tr><td>16</td><td>2225</td><td>50</td><td>130</td><td> 4</td><td>14</td><td>no </td><td>no</td><td>yes</td><td>94</td><td>1</td></tr>\n",
              "\t<tr><td>17</td><td>1595</td><td>33</td><td> 85</td><td> 2</td><td>14</td><td>no </td><td>no</td><td>yes</td><td>94</td><td>1</td></tr>\n",
              "\t<tr><td>18</td><td>2325</td><td>33</td><td>210</td><td> 4</td><td>15</td><td>no </td><td>no</td><td>yes</td><td>94</td><td>1</td></tr>\n",
              "\t<tr><td>19</td><td>2095</td><td>33</td><td>250</td><td> 4</td><td>15</td><td>no </td><td>no</td><td>yes</td><td>94</td><td>1</td></tr>\n",
              "\t<tr><td>20</td><td>4395</td><td>66</td><td>452</td><td> 8</td><td>14</td><td>no </td><td>no</td><td>yes</td><td>94</td><td>1</td></tr>\n",
              "\t<tr><td>21</td><td>1695</td><td>33</td><td>130</td><td> 4</td><td>14</td><td>no </td><td>no</td><td>yes</td><td>94</td><td>1</td></tr>\n",
              "\t<tr><td>22</td><td>2795</td><td>66</td><td>130</td><td> 4</td><td>14</td><td>no </td><td>no</td><td>yes</td><td>94</td><td>1</td></tr>\n",
              "\t<tr><td>23</td><td>2895</td><td>25</td><td>340</td><td>16</td><td>14</td><td>no </td><td>no</td><td>yes</td><td>94</td><td>1</td></tr>\n",
              "\t<tr><td>24</td><td>2875</td><td>50</td><td>210</td><td> 4</td><td>17</td><td>no </td><td>no</td><td>yes</td><td>94</td><td>1</td></tr>\n",
              "\t<tr><td>25</td><td>4195</td><td>50</td><td>452</td><td> 8</td><td>14</td><td>no </td><td>no</td><td>yes</td><td>94</td><td>1</td></tr>\n",
              "\t<tr><td>26</td><td>1290</td><td>33</td><td> 80</td><td> 2</td><td>14</td><td>no </td><td>no</td><td>yes</td><td>94</td><td>1</td></tr>\n",
              "\t<tr><td>27</td><td>1975</td><td>33</td><td>130</td><td> 4</td><td>14</td><td>no </td><td>no</td><td>yes</td><td>94</td><td>1</td></tr>\n",
              "\t<tr><td>28</td><td>3995</td><td>33</td><td>452</td><td> 8</td><td>14</td><td>no </td><td>no</td><td>yes</td><td>94</td><td>1</td></tr>\n",
              "\t<tr><td>29</td><td>3095</td><td>33</td><td>340</td><td>16</td><td>14</td><td>no </td><td>no</td><td>yes</td><td>94</td><td>1</td></tr>\n",
              "\t<tr><td>30</td><td>3244</td><td>66</td><td>245</td><td> 8</td><td>14</td><td>no </td><td>no</td><td>yes</td><td>94</td><td>1</td></tr>\n",
              "\t<tr><td>⋮</td><td>⋮</td><td>⋮</td><td>⋮</td><td>⋮</td><td>⋮</td><td>⋮</td><td>⋮</td><td>⋮</td><td>⋮</td><td>⋮</td></tr>\n",
              "\t<tr><td>6230</td><td>2344</td><td> 66</td><td> 850</td><td>16</td><td>15</td><td>yes</td><td>no </td><td>yes</td><td>39</td><td>35</td></tr>\n",
              "\t<tr><td>6231</td><td>2890</td><td>100</td><td>1200</td><td>24</td><td>17</td><td>yes</td><td>no </td><td>yes</td><td>39</td><td>35</td></tr>\n",
              "\t<tr><td>6232</td><td>2390</td><td> 66</td><td> 850</td><td>16</td><td>17</td><td>yes</td><td>no </td><td>yes</td><td>39</td><td>35</td></tr>\n",
              "\t<tr><td>6233</td><td>1495</td><td> 66</td><td> 528</td><td> 8</td><td>14</td><td>no </td><td>no </td><td>yes</td><td>39</td><td>35</td></tr>\n",
              "\t<tr><td>6234</td><td>1844</td><td>100</td><td> 528</td><td> 8</td><td>14</td><td>no </td><td>no </td><td>yes</td><td>39</td><td>35</td></tr>\n",
              "\t<tr><td>6235</td><td>1699</td><td> 66</td><td> 630</td><td> 8</td><td>15</td><td>no </td><td>no </td><td>no </td><td>39</td><td>35</td></tr>\n",
              "\t<tr><td>6236</td><td>3290</td><td> 75</td><td>1600</td><td>32</td><td>17</td><td>yes</td><td>no </td><td>yes</td><td>39</td><td>35</td></tr>\n",
              "\t<tr><td>6237</td><td>2790</td><td> 66</td><td>1200</td><td>24</td><td>17</td><td>yes</td><td>no </td><td>yes</td><td>39</td><td>35</td></tr>\n",
              "\t<tr><td>6238</td><td>2845</td><td>100</td><td>1600</td><td>24</td><td>15</td><td>yes</td><td>no </td><td>yes</td><td>39</td><td>35</td></tr>\n",
              "\t<tr><td>6239</td><td>1744</td><td> 66</td><td> 528</td><td> 8</td><td>14</td><td>no </td><td>no </td><td>yes</td><td>39</td><td>35</td></tr>\n",
              "\t<tr><td>6240</td><td>3095</td><td>100</td><td>1600</td><td>32</td><td>15</td><td>yes</td><td>no </td><td>yes</td><td>39</td><td>35</td></tr>\n",
              "\t<tr><td>6241</td><td>1595</td><td>100</td><td> 528</td><td> 8</td><td>14</td><td>no </td><td>no </td><td>yes</td><td>39</td><td>35</td></tr>\n",
              "\t<tr><td>6242</td><td>2254</td><td>100</td><td> 850</td><td>16</td><td>15</td><td>yes</td><td>no </td><td>yes</td><td>39</td><td>35</td></tr>\n",
              "\t<tr><td>6243</td><td>2723</td><td>100</td><td>1200</td><td>24</td><td>15</td><td>yes</td><td>yes</td><td>yes</td><td>39</td><td>35</td></tr>\n",
              "\t<tr><td>6244</td><td>2745</td><td> 66</td><td>1600</td><td>24</td><td>15</td><td>yes</td><td>no </td><td>yes</td><td>39</td><td>35</td></tr>\n",
              "\t<tr><td>6245</td><td>3054</td><td> 75</td><td>1600</td><td>32</td><td>15</td><td>yes</td><td>no </td><td>yes</td><td>39</td><td>35</td></tr>\n",
              "\t<tr><td>6246</td><td>2744</td><td> 66</td><td>1200</td><td>24</td><td>15</td><td>yes</td><td>no </td><td>yes</td><td>39</td><td>35</td></tr>\n",
              "\t<tr><td>6247</td><td>1554</td><td> 66</td><td> 528</td><td> 8</td><td>14</td><td>no </td><td>no </td><td>yes</td><td>39</td><td>35</td></tr>\n",
              "\t<tr><td>6248</td><td>1654</td><td>100</td><td> 528</td><td> 8</td><td>14</td><td>no </td><td>no </td><td>yes</td><td>39</td><td>35</td></tr>\n",
              "\t<tr><td>6249</td><td>2623</td><td> 66</td><td>1200</td><td>24</td><td>15</td><td>yes</td><td>yes</td><td>yes</td><td>39</td><td>35</td></tr>\n",
              "\t<tr><td>6250</td><td>2095</td><td> 66</td><td> 850</td><td>16</td><td>15</td><td>yes</td><td>no </td><td>yes</td><td>39</td><td>35</td></tr>\n",
              "\t<tr><td>6251</td><td>2495</td><td> 66</td><td>1200</td><td>24</td><td>15</td><td>yes</td><td>no </td><td>yes</td><td>39</td><td>35</td></tr>\n",
              "\t<tr><td>6252</td><td>2995</td><td> 66</td><td>1600</td><td>32</td><td>15</td><td>yes</td><td>no </td><td>yes</td><td>39</td><td>35</td></tr>\n",
              "\t<tr><td>6253</td><td>1690</td><td> 66</td><td>1200</td><td> 8</td><td>14</td><td>no </td><td>no </td><td>yes</td><td>39</td><td>35</td></tr>\n",
              "\t<tr><td>6254</td><td>2154</td><td> 66</td><td> 850</td><td>16</td><td>15</td><td>yes</td><td>no </td><td>yes</td><td>39</td><td>35</td></tr>\n",
              "\t<tr><td>6255</td><td>1690</td><td>100</td><td> 528</td><td> 8</td><td>15</td><td>no </td><td>no </td><td>yes</td><td>39</td><td>35</td></tr>\n",
              "\t<tr><td>6256</td><td>2223</td><td> 66</td><td> 850</td><td>16</td><td>15</td><td>yes</td><td>yes</td><td>yes</td><td>39</td><td>35</td></tr>\n",
              "\t<tr><td>6257</td><td>2654</td><td>100</td><td>1200</td><td>24</td><td>15</td><td>yes</td><td>no </td><td>yes</td><td>39</td><td>35</td></tr>\n",
              "\t<tr><td>6258</td><td>2195</td><td>100</td><td> 850</td><td>16</td><td>15</td><td>yes</td><td>no </td><td>yes</td><td>39</td><td>35</td></tr>\n",
              "\t<tr><td>6259</td><td>2490</td><td>100</td><td> 850</td><td>16</td><td>17</td><td>yes</td><td>no </td><td>yes</td><td>39</td><td>35</td></tr>\n",
              "</tbody>\n",
              "</table>\n"
            ],
            "text/markdown": "\nA spec_tbl_df: 6259 × 11\n\n| ...1 &lt;int&gt; | price &lt;int&gt; | speed &lt;int&gt; | hd &lt;int&gt; | ram &lt;int&gt; | screen &lt;int&gt; | cd &lt;chr&gt; | multi &lt;chr&gt; | premium &lt;chr&gt; | ads &lt;int&gt; | trend &lt;int&gt; |\n|---|---|---|---|---|---|---|---|---|---|---|\n|  1 | 1499 | 25 |  80 |  4 | 14 | no  | no | yes | 94 | 1 |\n|  2 | 1795 | 33 |  85 |  2 | 14 | no  | no | yes | 94 | 1 |\n|  3 | 1595 | 25 | 170 |  4 | 15 | no  | no | yes | 94 | 1 |\n|  4 | 1849 | 25 | 170 |  8 | 14 | no  | no | no  | 94 | 1 |\n|  5 | 3295 | 33 | 340 | 16 | 14 | no  | no | yes | 94 | 1 |\n|  6 | 3695 | 66 | 340 | 16 | 14 | no  | no | yes | 94 | 1 |\n|  7 | 1720 | 25 | 170 |  4 | 14 | yes | no | yes | 94 | 1 |\n|  8 | 1995 | 50 |  85 |  2 | 14 | no  | no | yes | 94 | 1 |\n|  9 | 2225 | 50 | 210 |  8 | 14 | no  | no | yes | 94 | 1 |\n| 10 | 2575 | 50 | 210 |  4 | 15 | no  | no | yes | 94 | 1 |\n| 11 | 2195 | 33 | 170 |  8 | 15 | no  | no | yes | 94 | 1 |\n| 12 | 2605 | 66 | 210 |  8 | 14 | no  | no | yes | 94 | 1 |\n| 13 | 2045 | 50 | 130 |  4 | 14 | no  | no | yes | 94 | 1 |\n| 14 | 2295 | 25 | 245 |  8 | 14 | no  | no | yes | 94 | 1 |\n| 15 | 2699 | 50 | 212 |  8 | 14 | no  | no | yes | 94 | 1 |\n| 16 | 2225 | 50 | 130 |  4 | 14 | no  | no | yes | 94 | 1 |\n| 17 | 1595 | 33 |  85 |  2 | 14 | no  | no | yes | 94 | 1 |\n| 18 | 2325 | 33 | 210 |  4 | 15 | no  | no | yes | 94 | 1 |\n| 19 | 2095 | 33 | 250 |  4 | 15 | no  | no | yes | 94 | 1 |\n| 20 | 4395 | 66 | 452 |  8 | 14 | no  | no | yes | 94 | 1 |\n| 21 | 1695 | 33 | 130 |  4 | 14 | no  | no | yes | 94 | 1 |\n| 22 | 2795 | 66 | 130 |  4 | 14 | no  | no | yes | 94 | 1 |\n| 23 | 2895 | 25 | 340 | 16 | 14 | no  | no | yes | 94 | 1 |\n| 24 | 2875 | 50 | 210 |  4 | 17 | no  | no | yes | 94 | 1 |\n| 25 | 4195 | 50 | 452 |  8 | 14 | no  | no | yes | 94 | 1 |\n| 26 | 1290 | 33 |  80 |  2 | 14 | no  | no | yes | 94 | 1 |\n| 27 | 1975 | 33 | 130 |  4 | 14 | no  | no | yes | 94 | 1 |\n| 28 | 3995 | 33 | 452 |  8 | 14 | no  | no | yes | 94 | 1 |\n| 29 | 3095 | 33 | 340 | 16 | 14 | no  | no | yes | 94 | 1 |\n| 30 | 3244 | 66 | 245 |  8 | 14 | no  | no | yes | 94 | 1 |\n| ⋮ | ⋮ | ⋮ | ⋮ | ⋮ | ⋮ | ⋮ | ⋮ | ⋮ | ⋮ | ⋮ |\n| 6230 | 2344 |  66 |  850 | 16 | 15 | yes | no  | yes | 39 | 35 |\n| 6231 | 2890 | 100 | 1200 | 24 | 17 | yes | no  | yes | 39 | 35 |\n| 6232 | 2390 |  66 |  850 | 16 | 17 | yes | no  | yes | 39 | 35 |\n| 6233 | 1495 |  66 |  528 |  8 | 14 | no  | no  | yes | 39 | 35 |\n| 6234 | 1844 | 100 |  528 |  8 | 14 | no  | no  | yes | 39 | 35 |\n| 6235 | 1699 |  66 |  630 |  8 | 15 | no  | no  | no  | 39 | 35 |\n| 6236 | 3290 |  75 | 1600 | 32 | 17 | yes | no  | yes | 39 | 35 |\n| 6237 | 2790 |  66 | 1200 | 24 | 17 | yes | no  | yes | 39 | 35 |\n| 6238 | 2845 | 100 | 1600 | 24 | 15 | yes | no  | yes | 39 | 35 |\n| 6239 | 1744 |  66 |  528 |  8 | 14 | no  | no  | yes | 39 | 35 |\n| 6240 | 3095 | 100 | 1600 | 32 | 15 | yes | no  | yes | 39 | 35 |\n| 6241 | 1595 | 100 |  528 |  8 | 14 | no  | no  | yes | 39 | 35 |\n| 6242 | 2254 | 100 |  850 | 16 | 15 | yes | no  | yes | 39 | 35 |\n| 6243 | 2723 | 100 | 1200 | 24 | 15 | yes | yes | yes | 39 | 35 |\n| 6244 | 2745 |  66 | 1600 | 24 | 15 | yes | no  | yes | 39 | 35 |\n| 6245 | 3054 |  75 | 1600 | 32 | 15 | yes | no  | yes | 39 | 35 |\n| 6246 | 2744 |  66 | 1200 | 24 | 15 | yes | no  | yes | 39 | 35 |\n| 6247 | 1554 |  66 |  528 |  8 | 14 | no  | no  | yes | 39 | 35 |\n| 6248 | 1654 | 100 |  528 |  8 | 14 | no  | no  | yes | 39 | 35 |\n| 6249 | 2623 |  66 | 1200 | 24 | 15 | yes | yes | yes | 39 | 35 |\n| 6250 | 2095 |  66 |  850 | 16 | 15 | yes | no  | yes | 39 | 35 |\n| 6251 | 2495 |  66 | 1200 | 24 | 15 | yes | no  | yes | 39 | 35 |\n| 6252 | 2995 |  66 | 1600 | 32 | 15 | yes | no  | yes | 39 | 35 |\n| 6253 | 1690 |  66 | 1200 |  8 | 14 | no  | no  | yes | 39 | 35 |\n| 6254 | 2154 |  66 |  850 | 16 | 15 | yes | no  | yes | 39 | 35 |\n| 6255 | 1690 | 100 |  528 |  8 | 15 | no  | no  | yes | 39 | 35 |\n| 6256 | 2223 |  66 |  850 | 16 | 15 | yes | yes | yes | 39 | 35 |\n| 6257 | 2654 | 100 | 1200 | 24 | 15 | yes | no  | yes | 39 | 35 |\n| 6258 | 2195 | 100 |  850 | 16 | 15 | yes | no  | yes | 39 | 35 |\n| 6259 | 2490 | 100 |  850 | 16 | 17 | yes | no  | yes | 39 | 35 |\n\n",
            "text/latex": "A spec\\_tbl\\_df: 6259 × 11\n\\begin{tabular}{lllllllllll}\n ...1 & price & speed & hd & ram & screen & cd & multi & premium & ads & trend\\\\\n <int> & <int> & <int> & <int> & <int> & <int> & <chr> & <chr> & <chr> & <int> & <int>\\\\\n\\hline\n\t  1 & 1499 & 25 &  80 &  4 & 14 & no  & no & yes & 94 & 1\\\\\n\t  2 & 1795 & 33 &  85 &  2 & 14 & no  & no & yes & 94 & 1\\\\\n\t  3 & 1595 & 25 & 170 &  4 & 15 & no  & no & yes & 94 & 1\\\\\n\t  4 & 1849 & 25 & 170 &  8 & 14 & no  & no & no  & 94 & 1\\\\\n\t  5 & 3295 & 33 & 340 & 16 & 14 & no  & no & yes & 94 & 1\\\\\n\t  6 & 3695 & 66 & 340 & 16 & 14 & no  & no & yes & 94 & 1\\\\\n\t  7 & 1720 & 25 & 170 &  4 & 14 & yes & no & yes & 94 & 1\\\\\n\t  8 & 1995 & 50 &  85 &  2 & 14 & no  & no & yes & 94 & 1\\\\\n\t  9 & 2225 & 50 & 210 &  8 & 14 & no  & no & yes & 94 & 1\\\\\n\t 10 & 2575 & 50 & 210 &  4 & 15 & no  & no & yes & 94 & 1\\\\\n\t 11 & 2195 & 33 & 170 &  8 & 15 & no  & no & yes & 94 & 1\\\\\n\t 12 & 2605 & 66 & 210 &  8 & 14 & no  & no & yes & 94 & 1\\\\\n\t 13 & 2045 & 50 & 130 &  4 & 14 & no  & no & yes & 94 & 1\\\\\n\t 14 & 2295 & 25 & 245 &  8 & 14 & no  & no & yes & 94 & 1\\\\\n\t 15 & 2699 & 50 & 212 &  8 & 14 & no  & no & yes & 94 & 1\\\\\n\t 16 & 2225 & 50 & 130 &  4 & 14 & no  & no & yes & 94 & 1\\\\\n\t 17 & 1595 & 33 &  85 &  2 & 14 & no  & no & yes & 94 & 1\\\\\n\t 18 & 2325 & 33 & 210 &  4 & 15 & no  & no & yes & 94 & 1\\\\\n\t 19 & 2095 & 33 & 250 &  4 & 15 & no  & no & yes & 94 & 1\\\\\n\t 20 & 4395 & 66 & 452 &  8 & 14 & no  & no & yes & 94 & 1\\\\\n\t 21 & 1695 & 33 & 130 &  4 & 14 & no  & no & yes & 94 & 1\\\\\n\t 22 & 2795 & 66 & 130 &  4 & 14 & no  & no & yes & 94 & 1\\\\\n\t 23 & 2895 & 25 & 340 & 16 & 14 & no  & no & yes & 94 & 1\\\\\n\t 24 & 2875 & 50 & 210 &  4 & 17 & no  & no & yes & 94 & 1\\\\\n\t 25 & 4195 & 50 & 452 &  8 & 14 & no  & no & yes & 94 & 1\\\\\n\t 26 & 1290 & 33 &  80 &  2 & 14 & no  & no & yes & 94 & 1\\\\\n\t 27 & 1975 & 33 & 130 &  4 & 14 & no  & no & yes & 94 & 1\\\\\n\t 28 & 3995 & 33 & 452 &  8 & 14 & no  & no & yes & 94 & 1\\\\\n\t 29 & 3095 & 33 & 340 & 16 & 14 & no  & no & yes & 94 & 1\\\\\n\t 30 & 3244 & 66 & 245 &  8 & 14 & no  & no & yes & 94 & 1\\\\\n\t ⋮ & ⋮ & ⋮ & ⋮ & ⋮ & ⋮ & ⋮ & ⋮ & ⋮ & ⋮ & ⋮\\\\\n\t 6230 & 2344 &  66 &  850 & 16 & 15 & yes & no  & yes & 39 & 35\\\\\n\t 6231 & 2890 & 100 & 1200 & 24 & 17 & yes & no  & yes & 39 & 35\\\\\n\t 6232 & 2390 &  66 &  850 & 16 & 17 & yes & no  & yes & 39 & 35\\\\\n\t 6233 & 1495 &  66 &  528 &  8 & 14 & no  & no  & yes & 39 & 35\\\\\n\t 6234 & 1844 & 100 &  528 &  8 & 14 & no  & no  & yes & 39 & 35\\\\\n\t 6235 & 1699 &  66 &  630 &  8 & 15 & no  & no  & no  & 39 & 35\\\\\n\t 6236 & 3290 &  75 & 1600 & 32 & 17 & yes & no  & yes & 39 & 35\\\\\n\t 6237 & 2790 &  66 & 1200 & 24 & 17 & yes & no  & yes & 39 & 35\\\\\n\t 6238 & 2845 & 100 & 1600 & 24 & 15 & yes & no  & yes & 39 & 35\\\\\n\t 6239 & 1744 &  66 &  528 &  8 & 14 & no  & no  & yes & 39 & 35\\\\\n\t 6240 & 3095 & 100 & 1600 & 32 & 15 & yes & no  & yes & 39 & 35\\\\\n\t 6241 & 1595 & 100 &  528 &  8 & 14 & no  & no  & yes & 39 & 35\\\\\n\t 6242 & 2254 & 100 &  850 & 16 & 15 & yes & no  & yes & 39 & 35\\\\\n\t 6243 & 2723 & 100 & 1200 & 24 & 15 & yes & yes & yes & 39 & 35\\\\\n\t 6244 & 2745 &  66 & 1600 & 24 & 15 & yes & no  & yes & 39 & 35\\\\\n\t 6245 & 3054 &  75 & 1600 & 32 & 15 & yes & no  & yes & 39 & 35\\\\\n\t 6246 & 2744 &  66 & 1200 & 24 & 15 & yes & no  & yes & 39 & 35\\\\\n\t 6247 & 1554 &  66 &  528 &  8 & 14 & no  & no  & yes & 39 & 35\\\\\n\t 6248 & 1654 & 100 &  528 &  8 & 14 & no  & no  & yes & 39 & 35\\\\\n\t 6249 & 2623 &  66 & 1200 & 24 & 15 & yes & yes & yes & 39 & 35\\\\\n\t 6250 & 2095 &  66 &  850 & 16 & 15 & yes & no  & yes & 39 & 35\\\\\n\t 6251 & 2495 &  66 & 1200 & 24 & 15 & yes & no  & yes & 39 & 35\\\\\n\t 6252 & 2995 &  66 & 1600 & 32 & 15 & yes & no  & yes & 39 & 35\\\\\n\t 6253 & 1690 &  66 & 1200 &  8 & 14 & no  & no  & yes & 39 & 35\\\\\n\t 6254 & 2154 &  66 &  850 & 16 & 15 & yes & no  & yes & 39 & 35\\\\\n\t 6255 & 1690 & 100 &  528 &  8 & 15 & no  & no  & yes & 39 & 35\\\\\n\t 6256 & 2223 &  66 &  850 & 16 & 15 & yes & yes & yes & 39 & 35\\\\\n\t 6257 & 2654 & 100 & 1200 & 24 & 15 & yes & no  & yes & 39 & 35\\\\\n\t 6258 & 2195 & 100 &  850 & 16 & 15 & yes & no  & yes & 39 & 35\\\\\n\t 6259 & 2490 & 100 &  850 & 16 & 17 & yes & no  & yes & 39 & 35\\\\\n\\end{tabular}\n"
          },
          "metadata": {}
        }
      ]
    },
    {
      "cell_type": "code",
      "source": [
        "set.seed(13)\n",
        "Count_low<-data.frame()\n",
        "for (i in c(1:50)){\n",
        "    Count_low<-rbind(Count_low, c(i,sample(c(3:6),1), sample(c(6:20),1), sample(c(1:20),1), sample(c(1:9),1)))}\n",
        "colnames(Count_low)<-c(\"Вариант\",\"Количество С1 >=\",\"Количество С2 >=\", \"Количество С3 >=\", \"Количество С4 >=\")\n",
        "View(Count_low[6, ])"
      ],
      "metadata": {
        "id": "jH6rvGj_Mp0s",
        "outputId": "e774fd9b-ea64-4d87-bffb-60beac373f0c",
        "colab": {
          "base_uri": "https://localhost:8080/",
          "height": 129
        }
      },
      "id": "jH6rvGj_Mp0s",
      "execution_count": 108,
      "outputs": [
        {
          "output_type": "display_data",
          "data": {
            "text/plain": [
              "  Вариант Количество С1 >= Количество С2 >= Количество С3 >= Количество С4 >=\n",
              "6 6       6                6                11               4               "
            ],
            "text/html": [
              "<table class=\"dataframe\">\n",
              "<caption>A data.frame: 1 × 5</caption>\n",
              "<thead>\n",
              "\t<tr><th></th><th scope=col>Вариант</th><th scope=col>Количество С1 &gt;=</th><th scope=col>Количество С2 &gt;=</th><th scope=col>Количество С3 &gt;=</th><th scope=col>Количество С4 &gt;=</th></tr>\n",
              "\t<tr><th></th><th scope=col>&lt;int&gt;</th><th scope=col>&lt;int&gt;</th><th scope=col>&lt;int&gt;</th><th scope=col>&lt;int&gt;</th><th scope=col>&lt;int&gt;</th></tr>\n",
              "</thead>\n",
              "<tbody>\n",
              "\t<tr><th scope=row>6</th><td>6</td><td>6</td><td>6</td><td>11</td><td>4</td></tr>\n",
              "</tbody>\n",
              "</table>\n"
            ],
            "text/markdown": "\nA data.frame: 1 × 5\n\n| <!--/--> | Вариант &lt;int&gt; | Количество С1 &gt;= &lt;int&gt; | Количество С2 &gt;= &lt;int&gt; | Количество С3 &gt;= &lt;int&gt; | Количество С4 &gt;= &lt;int&gt; |\n|---|---|---|---|---|---|\n| 6 | 6 | 6 | 6 | 11 | 4 |\n\n",
            "text/latex": "A data.frame: 1 × 5\n\\begin{tabular}{r|lllll}\n  & Вариант & Количество С1 >= & Количество С2 >= & Количество С3 >= & Количество С4 >=\\\\\n  & <int> & <int> & <int> & <int> & <int>\\\\\n\\hline\n\t6 & 6 & 6 & 6 & 11 & 4\\\\\n\\end{tabular}\n"
          },
          "metadata": {}
        }
      ]
    },
    {
      "cell_type": "code",
      "source": [
        "Count_up<-data.frame()\n",
        "for (i in c(1:50)){\n",
        "    Count_up<-rbind(Count_up, c(i,Count_low[i,2]+sample(c(3:6),1), Count_low[i,3]+sample(c(6:20),1),\n",
        "                                          Count_low[i,4]+sample(c(1:20),1), Count_low[i,5]+sample(c(1:9),1)))}\n",
        "colnames(Count_up)<-c(\"Вариант\",\"Количество С1 <=\",\"Количество С2 <=\", \"Количество С3 <=\", \"Количество С4 <=\")\n",
        "View(Count_up[6, ])"
      ],
      "metadata": {
        "id": "3JD2k-yYMshV",
        "outputId": "7d0096c0-acf2-439b-a228-3e2415472a83",
        "colab": {
          "base_uri": "https://localhost:8080/",
          "height": 129
        }
      },
      "id": "3JD2k-yYMshV",
      "execution_count": 109,
      "outputs": [
        {
          "output_type": "display_data",
          "data": {
            "text/plain": [
              "  Вариант Количество С1 <= Количество С2 <= Количество С3 <= Количество С4 <=\n",
              "6 6       10               22               15               13              "
            ],
            "text/html": [
              "<table class=\"dataframe\">\n",
              "<caption>A data.frame: 1 × 5</caption>\n",
              "<thead>\n",
              "\t<tr><th></th><th scope=col>Вариант</th><th scope=col>Количество С1 &lt;=</th><th scope=col>Количество С2 &lt;=</th><th scope=col>Количество С3 &lt;=</th><th scope=col>Количество С4 &lt;=</th></tr>\n",
              "\t<tr><th></th><th scope=col>&lt;int&gt;</th><th scope=col>&lt;int&gt;</th><th scope=col>&lt;int&gt;</th><th scope=col>&lt;int&gt;</th><th scope=col>&lt;int&gt;</th></tr>\n",
              "</thead>\n",
              "<tbody>\n",
              "\t<tr><th scope=row>6</th><td>6</td><td>10</td><td>22</td><td>15</td><td>13</td></tr>\n",
              "</tbody>\n",
              "</table>\n"
            ],
            "text/markdown": "\nA data.frame: 1 × 5\n\n| <!--/--> | Вариант &lt;int&gt; | Количество С1 &lt;= &lt;int&gt; | Количество С2 &lt;= &lt;int&gt; | Количество С3 &lt;= &lt;int&gt; | Количество С4 &lt;= &lt;int&gt; |\n|---|---|---|---|---|---|\n| 6 | 6 | 10 | 22 | 15 | 13 |\n\n",
            "text/latex": "A data.frame: 1 × 5\n\\begin{tabular}{r|lllll}\n  & Вариант & Количество С1 <= & Количество С2 <= & Количество С3 <= & Количество С4 <=\\\\\n  & <int> & <int> & <int> & <int> & <int>\\\\\n\\hline\n\t6 & 6 & 10 & 22 & 15 & 13\\\\\n\\end{tabular}\n"
          },
          "metadata": {}
        }
      ]
    },
    {
      "cell_type": "code",
      "source": [
        "Res<-lm(price~speed+ram+hd, data)\n",
        "Res"
      ],
      "metadata": {
        "id": "QWFA0L3eM8Nw",
        "outputId": "6d10563c-304c-444e-ef58-d9e0e2d214c7",
        "colab": {
          "base_uri": "https://localhost:8080/",
          "height": 142
        }
      },
      "id": "QWFA0L3eM8Nw",
      "execution_count": 110,
      "outputs": [
        {
          "output_type": "display_data",
          "data": {
            "text/plain": [
              "\n",
              "Call:\n",
              "lm(formula = price ~ speed + ram + hd, data = data)\n",
              "\n",
              "Coefficients:\n",
              "(Intercept)        speed          ram           hd  \n",
              "  1492.1775       5.8112      78.2357      -0.5357  \n"
            ]
          },
          "metadata": {}
        }
      ]
    },
    {
      "cell_type": "code",
      "source": [
        "g<-predict(Res,data)\n",
        "View(data.frame(data$price, g))"
      ],
      "metadata": {
        "id": "052fK9i0_z3U",
        "outputId": "0044a344-6971-422e-82a8-eba4cf7b827a",
        "colab": {
          "base_uri": "https://localhost:8080/",
          "height": 1000
        }
      },
      "id": "052fK9i0_z3U",
      "execution_count": 111,
      "outputs": [
        {
          "output_type": "display_data",
          "data": {
            "text/plain": [
              "     data.price g       \n",
              "1    1499       1907.542\n",
              "2    1795       1794.882\n",
              "3    1595       1859.328\n",
              "4    1849       2172.271\n",
              "5    3295       2753.573\n",
              "6    3695       2945.343\n",
              "7    1720       1859.328\n",
              "8    1995       1893.672\n",
              "9    2225       2296.121\n",
              "10   2575       1983.179\n",
              "11   2195       2218.760\n",
              "12   2605       2389.100\n",
              "13   2045       2026.036\n",
              "14   2295       2132.092\n",
              "15   2699       2295.050\n",
              "16   2225       2026.036\n",
              "17   1595       1794.882\n",
              "18   2325       1884.388\n",
              "19   2095       1862.960\n",
              "20   4395       2259.456\n",
              "21   1695       1927.246\n",
              "22   2795       2119.015\n",
              "23   2895       2707.084\n",
              "24   2875       1983.179\n",
              "25   4195       2166.477\n",
              "26   1290       1797.561\n",
              "27   1975       1927.246\n",
              "28   3995       2067.687\n",
              "29   3095       2753.573\n",
              "30   3244       2370.350\n",
              "⋮    ⋮          ⋮       \n",
              "6230 2344       2672.125\n",
              "6231 2890       3308.089\n",
              "6232 2390       2672.125\n",
              "6233 1495       2218.741\n",
              "6234 1844       2416.322\n",
              "6235 1699       2164.098\n",
              "6236 3290       3574.407\n",
              "6237 2790       3110.509\n",
              "6238 2845       3093.801\n",
              "6239 1744       2218.741\n",
              "6240 3095       3719.687\n",
              "6241 1595       2416.322\n",
              "6242 2254       2869.706\n",
              "6243 2723       3308.089\n",
              "6244 2745       2896.221\n",
              "6245 3054       3574.407\n",
              "6246 2744       3110.509\n",
              "6247 1554       2218.741\n",
              "6248 1654       2416.322\n",
              "6249 2623       3110.509\n",
              "6250 2095       2672.125\n",
              "6251 2495       3110.509\n",
              "6252 2995       3522.106\n",
              "6253 1690       1858.737\n",
              "6254 2154       2672.125\n",
              "6255 1690       2416.322\n",
              "6256 2223       2672.125\n",
              "6257 2654       3308.089\n",
              "6258 2195       2869.706\n",
              "6259 2490       2869.706"
            ],
            "text/html": [
              "<table class=\"dataframe\">\n",
              "<caption>A data.frame: 6259 × 2</caption>\n",
              "<thead>\n",
              "\t<tr><th></th><th scope=col>data.price</th><th scope=col>g</th></tr>\n",
              "\t<tr><th></th><th scope=col>&lt;int&gt;</th><th scope=col>&lt;dbl&gt;</th></tr>\n",
              "</thead>\n",
              "<tbody>\n",
              "\t<tr><th scope=row>1</th><td>1499</td><td>1907.542</td></tr>\n",
              "\t<tr><th scope=row>2</th><td>1795</td><td>1794.882</td></tr>\n",
              "\t<tr><th scope=row>3</th><td>1595</td><td>1859.328</td></tr>\n",
              "\t<tr><th scope=row>4</th><td>1849</td><td>2172.271</td></tr>\n",
              "\t<tr><th scope=row>5</th><td>3295</td><td>2753.573</td></tr>\n",
              "\t<tr><th scope=row>6</th><td>3695</td><td>2945.343</td></tr>\n",
              "\t<tr><th scope=row>7</th><td>1720</td><td>1859.328</td></tr>\n",
              "\t<tr><th scope=row>8</th><td>1995</td><td>1893.672</td></tr>\n",
              "\t<tr><th scope=row>9</th><td>2225</td><td>2296.121</td></tr>\n",
              "\t<tr><th scope=row>10</th><td>2575</td><td>1983.179</td></tr>\n",
              "\t<tr><th scope=row>11</th><td>2195</td><td>2218.760</td></tr>\n",
              "\t<tr><th scope=row>12</th><td>2605</td><td>2389.100</td></tr>\n",
              "\t<tr><th scope=row>13</th><td>2045</td><td>2026.036</td></tr>\n",
              "\t<tr><th scope=row>14</th><td>2295</td><td>2132.092</td></tr>\n",
              "\t<tr><th scope=row>15</th><td>2699</td><td>2295.050</td></tr>\n",
              "\t<tr><th scope=row>16</th><td>2225</td><td>2026.036</td></tr>\n",
              "\t<tr><th scope=row>17</th><td>1595</td><td>1794.882</td></tr>\n",
              "\t<tr><th scope=row>18</th><td>2325</td><td>1884.388</td></tr>\n",
              "\t<tr><th scope=row>19</th><td>2095</td><td>1862.960</td></tr>\n",
              "\t<tr><th scope=row>20</th><td>4395</td><td>2259.456</td></tr>\n",
              "\t<tr><th scope=row>21</th><td>1695</td><td>1927.246</td></tr>\n",
              "\t<tr><th scope=row>22</th><td>2795</td><td>2119.015</td></tr>\n",
              "\t<tr><th scope=row>23</th><td>2895</td><td>2707.084</td></tr>\n",
              "\t<tr><th scope=row>24</th><td>2875</td><td>1983.179</td></tr>\n",
              "\t<tr><th scope=row>25</th><td>4195</td><td>2166.477</td></tr>\n",
              "\t<tr><th scope=row>26</th><td>1290</td><td>1797.561</td></tr>\n",
              "\t<tr><th scope=row>27</th><td>1975</td><td>1927.246</td></tr>\n",
              "\t<tr><th scope=row>28</th><td>3995</td><td>2067.687</td></tr>\n",
              "\t<tr><th scope=row>29</th><td>3095</td><td>2753.573</td></tr>\n",
              "\t<tr><th scope=row>30</th><td>3244</td><td>2370.350</td></tr>\n",
              "\t<tr><th scope=row>⋮</th><td>⋮</td><td>⋮</td></tr>\n",
              "\t<tr><th scope=row>6230</th><td>2344</td><td>2672.125</td></tr>\n",
              "\t<tr><th scope=row>6231</th><td>2890</td><td>3308.089</td></tr>\n",
              "\t<tr><th scope=row>6232</th><td>2390</td><td>2672.125</td></tr>\n",
              "\t<tr><th scope=row>6233</th><td>1495</td><td>2218.741</td></tr>\n",
              "\t<tr><th scope=row>6234</th><td>1844</td><td>2416.322</td></tr>\n",
              "\t<tr><th scope=row>6235</th><td>1699</td><td>2164.098</td></tr>\n",
              "\t<tr><th scope=row>6236</th><td>3290</td><td>3574.407</td></tr>\n",
              "\t<tr><th scope=row>6237</th><td>2790</td><td>3110.509</td></tr>\n",
              "\t<tr><th scope=row>6238</th><td>2845</td><td>3093.801</td></tr>\n",
              "\t<tr><th scope=row>6239</th><td>1744</td><td>2218.741</td></tr>\n",
              "\t<tr><th scope=row>6240</th><td>3095</td><td>3719.687</td></tr>\n",
              "\t<tr><th scope=row>6241</th><td>1595</td><td>2416.322</td></tr>\n",
              "\t<tr><th scope=row>6242</th><td>2254</td><td>2869.706</td></tr>\n",
              "\t<tr><th scope=row>6243</th><td>2723</td><td>3308.089</td></tr>\n",
              "\t<tr><th scope=row>6244</th><td>2745</td><td>2896.221</td></tr>\n",
              "\t<tr><th scope=row>6245</th><td>3054</td><td>3574.407</td></tr>\n",
              "\t<tr><th scope=row>6246</th><td>2744</td><td>3110.509</td></tr>\n",
              "\t<tr><th scope=row>6247</th><td>1554</td><td>2218.741</td></tr>\n",
              "\t<tr><th scope=row>6248</th><td>1654</td><td>2416.322</td></tr>\n",
              "\t<tr><th scope=row>6249</th><td>2623</td><td>3110.509</td></tr>\n",
              "\t<tr><th scope=row>6250</th><td>2095</td><td>2672.125</td></tr>\n",
              "\t<tr><th scope=row>6251</th><td>2495</td><td>3110.509</td></tr>\n",
              "\t<tr><th scope=row>6252</th><td>2995</td><td>3522.106</td></tr>\n",
              "\t<tr><th scope=row>6253</th><td>1690</td><td>1858.737</td></tr>\n",
              "\t<tr><th scope=row>6254</th><td>2154</td><td>2672.125</td></tr>\n",
              "\t<tr><th scope=row>6255</th><td>1690</td><td>2416.322</td></tr>\n",
              "\t<tr><th scope=row>6256</th><td>2223</td><td>2672.125</td></tr>\n",
              "\t<tr><th scope=row>6257</th><td>2654</td><td>3308.089</td></tr>\n",
              "\t<tr><th scope=row>6258</th><td>2195</td><td>2869.706</td></tr>\n",
              "\t<tr><th scope=row>6259</th><td>2490</td><td>2869.706</td></tr>\n",
              "</tbody>\n",
              "</table>\n"
            ],
            "text/markdown": "\nA data.frame: 6259 × 2\n\n| <!--/--> | data.price &lt;int&gt; | g &lt;dbl&gt; |\n|---|---|---|\n| 1 | 1499 | 1907.542 |\n| 2 | 1795 | 1794.882 |\n| 3 | 1595 | 1859.328 |\n| 4 | 1849 | 2172.271 |\n| 5 | 3295 | 2753.573 |\n| 6 | 3695 | 2945.343 |\n| 7 | 1720 | 1859.328 |\n| 8 | 1995 | 1893.672 |\n| 9 | 2225 | 2296.121 |\n| 10 | 2575 | 1983.179 |\n| 11 | 2195 | 2218.760 |\n| 12 | 2605 | 2389.100 |\n| 13 | 2045 | 2026.036 |\n| 14 | 2295 | 2132.092 |\n| 15 | 2699 | 2295.050 |\n| 16 | 2225 | 2026.036 |\n| 17 | 1595 | 1794.882 |\n| 18 | 2325 | 1884.388 |\n| 19 | 2095 | 1862.960 |\n| 20 | 4395 | 2259.456 |\n| 21 | 1695 | 1927.246 |\n| 22 | 2795 | 2119.015 |\n| 23 | 2895 | 2707.084 |\n| 24 | 2875 | 1983.179 |\n| 25 | 4195 | 2166.477 |\n| 26 | 1290 | 1797.561 |\n| 27 | 1975 | 1927.246 |\n| 28 | 3995 | 2067.687 |\n| 29 | 3095 | 2753.573 |\n| 30 | 3244 | 2370.350 |\n| ⋮ | ⋮ | ⋮ |\n| 6230 | 2344 | 2672.125 |\n| 6231 | 2890 | 3308.089 |\n| 6232 | 2390 | 2672.125 |\n| 6233 | 1495 | 2218.741 |\n| 6234 | 1844 | 2416.322 |\n| 6235 | 1699 | 2164.098 |\n| 6236 | 3290 | 3574.407 |\n| 6237 | 2790 | 3110.509 |\n| 6238 | 2845 | 3093.801 |\n| 6239 | 1744 | 2218.741 |\n| 6240 | 3095 | 3719.687 |\n| 6241 | 1595 | 2416.322 |\n| 6242 | 2254 | 2869.706 |\n| 6243 | 2723 | 3308.089 |\n| 6244 | 2745 | 2896.221 |\n| 6245 | 3054 | 3574.407 |\n| 6246 | 2744 | 3110.509 |\n| 6247 | 1554 | 2218.741 |\n| 6248 | 1654 | 2416.322 |\n| 6249 | 2623 | 3110.509 |\n| 6250 | 2095 | 2672.125 |\n| 6251 | 2495 | 3110.509 |\n| 6252 | 2995 | 3522.106 |\n| 6253 | 1690 | 1858.737 |\n| 6254 | 2154 | 2672.125 |\n| 6255 | 1690 | 2416.322 |\n| 6256 | 2223 | 2672.125 |\n| 6257 | 2654 | 3308.089 |\n| 6258 | 2195 | 2869.706 |\n| 6259 | 2490 | 2869.706 |\n\n",
            "text/latex": "A data.frame: 6259 × 2\n\\begin{tabular}{r|ll}\n  & data.price & g\\\\\n  & <int> & <dbl>\\\\\n\\hline\n\t1 & 1499 & 1907.542\\\\\n\t2 & 1795 & 1794.882\\\\\n\t3 & 1595 & 1859.328\\\\\n\t4 & 1849 & 2172.271\\\\\n\t5 & 3295 & 2753.573\\\\\n\t6 & 3695 & 2945.343\\\\\n\t7 & 1720 & 1859.328\\\\\n\t8 & 1995 & 1893.672\\\\\n\t9 & 2225 & 2296.121\\\\\n\t10 & 2575 & 1983.179\\\\\n\t11 & 2195 & 2218.760\\\\\n\t12 & 2605 & 2389.100\\\\\n\t13 & 2045 & 2026.036\\\\\n\t14 & 2295 & 2132.092\\\\\n\t15 & 2699 & 2295.050\\\\\n\t16 & 2225 & 2026.036\\\\\n\t17 & 1595 & 1794.882\\\\\n\t18 & 2325 & 1884.388\\\\\n\t19 & 2095 & 1862.960\\\\\n\t20 & 4395 & 2259.456\\\\\n\t21 & 1695 & 1927.246\\\\\n\t22 & 2795 & 2119.015\\\\\n\t23 & 2895 & 2707.084\\\\\n\t24 & 2875 & 1983.179\\\\\n\t25 & 4195 & 2166.477\\\\\n\t26 & 1290 & 1797.561\\\\\n\t27 & 1975 & 1927.246\\\\\n\t28 & 3995 & 2067.687\\\\\n\t29 & 3095 & 2753.573\\\\\n\t30 & 3244 & 2370.350\\\\\n\t⋮ & ⋮ & ⋮\\\\\n\t6230 & 2344 & 2672.125\\\\\n\t6231 & 2890 & 3308.089\\\\\n\t6232 & 2390 & 2672.125\\\\\n\t6233 & 1495 & 2218.741\\\\\n\t6234 & 1844 & 2416.322\\\\\n\t6235 & 1699 & 2164.098\\\\\n\t6236 & 3290 & 3574.407\\\\\n\t6237 & 2790 & 3110.509\\\\\n\t6238 & 2845 & 3093.801\\\\\n\t6239 & 1744 & 2218.741\\\\\n\t6240 & 3095 & 3719.687\\\\\n\t6241 & 1595 & 2416.322\\\\\n\t6242 & 2254 & 2869.706\\\\\n\t6243 & 2723 & 3308.089\\\\\n\t6244 & 2745 & 2896.221\\\\\n\t6245 & 3054 & 3574.407\\\\\n\t6246 & 2744 & 3110.509\\\\\n\t6247 & 1554 & 2218.741\\\\\n\t6248 & 1654 & 2416.322\\\\\n\t6249 & 2623 & 3110.509\\\\\n\t6250 & 2095 & 2672.125\\\\\n\t6251 & 2495 & 3110.509\\\\\n\t6252 & 2995 & 3522.106\\\\\n\t6253 & 1690 & 1858.737\\\\\n\t6254 & 2154 & 2672.125\\\\\n\t6255 & 1690 & 2416.322\\\\\n\t6256 & 2223 & 2672.125\\\\\n\t6257 & 2654 & 3308.089\\\\\n\t6258 & 2195 & 2869.706\\\\\n\t6259 & 2490 & 2869.706\\\\\n\\end{tabular}\n"
          },
          "metadata": {}
        }
      ]
    },
    {
      "cell_type": "markdown",
      "source": [
        "Существует 4 сегмента в которые требуется выбрать кол-во компьютеров установленное вариантом:\n",
        "$$6<=С1<=10$$\n",
        "$$6<=С2<=22$$\n",
        "$$11<=С3<=15$$\n",
        "$$4<=С4<=13$$\n",
        "\n",
        "Стоимость отдельного компьютера от конструктивных параметров  𝑠𝑝𝑒𝑒𝑑,𝑟𝑎𝑚,ℎ𝑑  выражена ранее через регрессионную зависимость:\n",
        "$$𝑝𝑟𝑖𝑐𝑒=1492.1775+5.8112⋅𝑠𝑝𝑒𝑒𝑑+78.2357⋅𝑟𝑎𝑚−0.5357⋅ℎ𝑑$$"
      ],
      "metadata": {
        "id": "sjv_gUGiDp5s"
      },
      "id": "sjv_gUGiDp5s"
    },
    {
      "cell_type": "markdown",
      "source": [
        "Добавим ограничения нижнего уровня:\n",
        " - суммарная стоимость компьютеров сегмента $C_1$ должна быть не более 15000 у.е.\n",
        " - суммарная производительность $C_2$ не менее 300 (считаем аддитивной характеристикой от количества входящих ПК)\n",
        " - максимальный объем ОЗУ для сегмента $C_3$ не более 8\n",
        " - минимальный объем жесткого диска для сегмента для сегмента $C_4$ не менее 1000\n",
        " - Суммарная производительность для С4 - не менее 700 (считаем аддитивной характеристикой от количества входящих ПК)"
      ],
      "metadata": {
        "id": "bzYUZDyPNB8W"
      },
      "id": "bzYUZDyPNB8W"
    },
    {
      "cell_type": "markdown",
      "source": [
        "Введём переменные:\n",
        "\n",
        "$N_1$ - количество серверов\n",
        "\n",
        "$N_2$ - количество компьютеров сегмента аналитиков и менеджеров\n",
        "\n",
        "$N_3$ - количество компьютеров сегмента обслуживающего персонала\n",
        "\n",
        "$N_4$ - количество компьютеров сегмента с видео, аудио оборудованием\n",
        "\n",
        "$price$ - стоимость компьютера без учёта характеристик\n",
        "\n",
        "$speed$ - зависимость стоимости компьютера от его скорости\n",
        "\n",
        "$ram$ - зависимость стоимости компьютера от его оперативной памяти\n",
        "\n",
        "$hd$ - зависимость стоимости компьютера от объёма диска\n",
        "\n",
        "Критерий верхнего уровня:\n",
        "\n",
        "$$𝐻1=𝑁1⋅𝑝𝑟𝑖𝑐𝑒1+𝑁2⋅𝑝𝑟𝑖𝑐𝑒2+𝑁3⋅𝑝𝑟𝑖𝑐𝑒3+𝑁4⋅𝑝𝑟𝑖𝑐𝑒4→min$$\n",
        "\n",
        "После подстановки регрессионных зависимостей получаем:\n",
        "\n",
        "$$𝐻_1=1492.1775𝑁_1+5.8112⋅𝑠𝑝𝑒𝑒𝑑_1⋅𝑁_1+78.2357⋅𝑟𝑎𝑚_1⋅𝑁_1−0.5357⋅ℎ𝑑_1⋅𝑁_1$$\n",
        "\n",
        "$$+1492.1775𝑁_2+5.8112⋅𝑠𝑝𝑒𝑒𝑑_2⋅𝑁_2+78.2357⋅𝑟𝑎𝑚_2⋅𝑁_2−0.5357⋅ℎ𝑑_2⋅𝑁_2$$\n",
        "\n",
        "$$+1492.1775𝑁_3+5.8112⋅𝑠𝑝𝑒𝑒𝑑_3⋅𝑁_3+78.2357⋅𝑟𝑎𝑚_3⋅𝑁_3−0.5357⋅ℎ𝑑_3⋅𝑁_3$$\n",
        "\n",
        "$$+1492.1775𝑁_4+5.8112⋅𝑠𝑝𝑒𝑒𝑑_4⋅𝑁_4\n",
        "+78.2357⋅𝑟𝑎𝑚_4⋅𝑁_4−0.5357⋅ℎ𝑑_4⋅𝑁_4$$"
      ],
      "metadata": {
        "id": "0lLEWzHrUzvw"
      },
      "id": "0lLEWzHrUzvw"
    },
    {
      "cell_type": "markdown",
      "source": [
        "Обозначим:\n",
        "$$1492.1775N_1 = p_1,$$\n",
        "$$6\\cdot1492.1775\\leq p_1\\leq 10\\cdot 1492.1775$$\n",
        "$$speed_1\\cdot N_1 = s_1$$\n",
        "$$ram_1\\cdot N_1 = r_1$$\n",
        "$$ hd_1\\cdot N_1 = h_1$$\n",
        "___\n",
        "$$1492.1775N_2 = p_2,$$\n",
        "$$6\\cdot 1492.1775\\leq p_2\\leq 22\\cdot 1492.1775$$\n",
        "$$speed_2\\cdot N_2 = s_2$$\n",
        "$$ram_2\\cdot N_2 = r_2$$\n",
        "$$hd_2\\cdot N_2 = h_2$$\n",
        "___\n",
        "$$1492.1775N_3 = p_3,$$\n",
        "$$11\\cdot 1492.1775\\leq p_3\\leq 15\\cdot 1492.1775$$\n",
        "$$speed_3\\cdot N_3 = s_3$$\n",
        "$$ram_3\\cdot N_3 = r_3$$\n",
        "$$hd_3\\cdot N_3 = h_3$$\n",
        "___\n",
        "$$1492.1775N_4 = p_4,$$\n",
        "$$4\\cdot 1492.1775\\leq p_4\\leq 13\\cdot 1492.1775$$\n",
        "$$speed_2\\cdot N_4 = s_4$$\n",
        "$$ram_2\\cdot N_4 = r_4$$\n",
        "$$hd_2\\cdot N_4 = h_4$$"
      ],
      "metadata": {
        "id": "V2YhpeRCX5ey"
      },
      "id": "V2YhpeRCX5ey"
    },
    {
      "cell_type": "markdown",
      "source": [
        "Для нахождения ограничений на остальные  $𝑥_i$  можно взять усредненные характеристики:"
      ],
      "metadata": {
        "id": "7Rebggbsabla"
      },
      "id": "7Rebggbsabla"
    },
    {
      "cell_type": "code",
      "source": [
        "mean(data$speed)\n",
        "mean(data$ram)\n",
        "mean(data$hd)"
      ],
      "metadata": {
        "id": "5ARW0zpDa9j3",
        "outputId": "44b9c16a-919b-4280-ce96-35967f00f914",
        "colab": {
          "base_uri": "https://localhost:8080/",
          "height": 69
        }
      },
      "id": "5ARW0zpDa9j3",
      "execution_count": 112,
      "outputs": [
        {
          "output_type": "display_data",
          "data": {
            "text/html": [
              "52.0110241252596"
            ],
            "text/markdown": "52.0110241252596",
            "text/latex": "52.0110241252596",
            "text/plain": [
              "[1] 52.01102"
            ]
          },
          "metadata": {}
        },
        {
          "output_type": "display_data",
          "data": {
            "text/html": [
              "8.28694679661288"
            ],
            "text/markdown": "8.28694679661288",
            "text/latex": "8.28694679661288",
            "text/plain": [
              "[1] 8.286947"
            ]
          },
          "metadata": {}
        },
        {
          "output_type": "display_data",
          "data": {
            "text/html": [
              "416.601693561272"
            ],
            "text/markdown": "416.601693561272",
            "text/latex": "416.601693561272",
            "text/plain": [
              "[1] 416.6017"
            ]
          },
          "metadata": {}
        }
      ]
    },
    {
      "cell_type": "markdown",
      "source": [
        "Соответственно остальные ограничения следующие:\n",
        "<center>price</center>\n",
        "$$6\\cdot 1492.1775\\leq p_{1}\\leq 10 \\cdot 1492.1775$$\n",
        "<center>speed</center>\n",
        "$$6\\cdot 52.011\\leq s_1\\leq 10\\cdot 52.011$$\n",
        "<center>ram</center>\n",
        "$$6\\cdot 8.2869\\leq r_1\\leq 10\\cdot 8.2869$$\n",
        "<center>hd</center>\n",
        "$$6\\cdot 416.6017\\leq h_1\\leq 10\\cdot 416.6017$$\n",
        "\n",
        "\n",
        "---\n",
        "\n",
        "\n",
        "\n",
        "<center>price</center>\n",
        "$$6\\cdot 1492.1775\\leq p_{2}\\leq 22\\cdot 1492.1775$$\n",
        "<center>speed</center>\n",
        "$$6\\cdot 52.011\\leq s_2\\leq 22\\cdot 52.011$$\n",
        "<center>ram</center>\n",
        "$$6\\cdot 8.2869\\leq r_2\\leq 22\\cdot 8.2869$$\n",
        "<center>hd</center>\n",
        "$$6\\cdot 416.6017\\leq h_2\\leq 22\\cdot 416.6017$$\n",
        "\n",
        "\n",
        "---\n",
        "\n",
        "\n",
        "\n",
        "<center>price</center>\n",
        "$$11\\cdot 1492.1775\\leq p_{3}\\leq 15\\cdot 1492.1775$$\n",
        "<center>speed</center>\n",
        "$$11\\cdot 52.011\\leq s_3\\leq 15\\cdot 52.011$$\n",
        "<center>ram</center>\n",
        "$$11\\cdot 8.2869\\leq r_3\\leq 15\\cdot 8.2869$$\n",
        "<center>hd</center>\n",
        "$$11\\cdot 416.6017\\leq h_3\\leq 15\\cdot 416.6017$$\n",
        "\n",
        "\n",
        "---\n",
        "\n",
        "\n",
        "\n",
        "<center>price</center>\n",
        "$$4\\cdot 1492.1775\\leq p_{4}\\leq 13\\cdot 1492.1775$$\n",
        "<center>speed</center>\n",
        "$$4\\cdot 52.011\\leq s_4\\leq 13\\cdot 52.011$$\n",
        "<center>ram</center>\n",
        "$$4\\cdot 8.2869\\leq r_4\\leq 13\\cdot 8.2869$$\n",
        "<center>hd</center>\n",
        "$$4\\cdot 416.6017\\leq h_4\\leq 13\\cdot 416.6017$$\n"
      ],
      "metadata": {
        "id": "GZLAX25acNRg"
      },
      "id": "GZLAX25acNRg"
    },
    {
      "cell_type": "markdown",
      "source": [
        "Учтем ограничения нижнего уровня:"
      ],
      "metadata": {
        "id": "JBQE6yJReQhf"
      },
      "id": "JBQE6yJReQhf"
    },
    {
      "cell_type": "markdown",
      "source": [
        "$$p_{1} + 5.8112\\cdot s_{1} + 78.2357\\cdot r_{1} - 0.5357\\cdot h_{1} \\leq 10000$$\n",
        "$$s_{2} + r_{2} \\geq 300$$\n",
        "$${𝑟𝑎𝑚}_3 \\leq 8$$\n",
        "$${hd}_4 \\geq 1000$$\n",
        "$$s_{4} + r_{4} \\geq 700$$"
      ],
      "metadata": {
        "id": "V7UdCqueeRze"
      },
      "id": "V7UdCqueeRze"
    },
    {
      "cell_type": "markdown",
      "source": [
        "Проведём нормализацию $s_2$ и $r_2$ для $С_2$ и $s_4$ и $r_4$ для $С_4$, для этого необходимо найти максимальные значения speed, ram, $N_2$ и $N_4$."
      ],
      "metadata": {
        "id": "FyXR1KU5lk0B"
      },
      "id": "FyXR1KU5lk0B"
    },
    {
      "cell_type": "code",
      "source": [
        "max(data$speed)\n",
        "max(data$ram)"
      ],
      "metadata": {
        "id": "48-C9GJomFRl",
        "outputId": "53fb9aa3-7e92-426c-84f1-2ae50e104f45",
        "colab": {
          "base_uri": "https://localhost:8080/",
          "height": 52
        }
      },
      "id": "48-C9GJomFRl",
      "execution_count": 113,
      "outputs": [
        {
          "output_type": "display_data",
          "data": {
            "text/html": [
              "100"
            ],
            "text/markdown": "100",
            "text/latex": "100",
            "text/plain": [
              "[1] 100"
            ]
          },
          "metadata": {}
        },
        {
          "output_type": "display_data",
          "data": {
            "text/html": [
              "32"
            ],
            "text/markdown": "32",
            "text/latex": "32",
            "text/plain": [
              "[1] 32"
            ]
          },
          "metadata": {}
        }
      ]
    },
    {
      "cell_type": "markdown",
      "source": [
        "$$\\bar{s}_{2}=\\frac{s_{2}}{max(N_2)\\cdot max(speed)}=\\frac{s_{2}}{22\\cdot 100}=\\frac{s_{2}}{2200}$$\n",
        "$$\\bar{r}_{2}=\\frac{r_{2}}{max(N_2)\\cdot max(ram)}=\\frac{r_{2}}{22\\cdot 32}=\\frac{r_{2}}{704}$$\n",
        "\n",
        "$$\\bar{s}_{4}=\\frac{s_{4}}{max(N_4)\\cdot max(speed)}=\\frac{s_{4}}{13\\cdot 100}=\\frac{s_{4}}{1300}$$\n",
        "$$\\bar{r}_{4}=\\frac{r_{4}}{max(N_4)\\cdot max(ram)}=\\frac{r_{4}}{13\\cdot 32}=\\frac{r_{4}}{416}$$"
      ],
      "metadata": {
        "id": "KM4I4zOwmuHm"
      },
      "id": "KM4I4zOwmuHm"
    },
    {
      "cell_type": "markdown",
      "source": [
        "Сформулируем также частные критерии оптимизации на нижнем уровне:\n",
        "Cуммарная производительность (speed, ram) в сегменте  $C_2$ и $C_4$  максимизируется.\n",
        "#Для сегмента $C_2$:\n",
        "$$W_2 = \\alpha\\cdot s_2+\\beta \\cdot r_2\\rightarrow \\max$$\n",
        "Подставим нормализованные значения:\n",
        "$$W_2 = \\alpha\\cdot \\frac{s_{2}}{2200}+\\beta \\cdot \\frac{r_{2}}{704}\\rightarrow \\max$$\n",
        "Предположим что объем оперативной памяти и скорость имеют одинаковую важность для рабочих станций аналитиков и менеджеров, поэтому: $\\alpha = 0.5, \\beta = 0.5$:\n",
        "$$W_2 = 0.5\\cdot \\frac{s_{2}}{2200} + 0.5 \\cdot \\frac{r_{2}}{704}\\rightarrow \\max$$\n",
        "#Для сегмента $C_4$:\n",
        "$$W_4 = \\alpha\\cdot s_4+\\beta \\cdot r_4\\rightarrow \\max$$\n",
        "Подставим нормализованные значения:\n",
        "$$W_4 = \\alpha\\cdot \\frac{s_{4}}{1300}+\\beta \\cdot \\frac{r_{4}}{416}\\rightarrow \\max$$\n",
        "Предположим для станций сопряжения с видео и аудио оборудованием скорость имееет больший приоритет: $\\alpha = 0.6, \\beta = 0.4$:\n",
        "$$W_4 = 0.6\\cdot \\frac{s_{4}}{1300} + 0.4 \\cdot \\frac{r_{4}}{416}\\rightarrow \\max$$\n",
        "#Формируем критерий нижнего уровня:\n",
        "$$H_2=0.5 W_1+0.5\\cdot W_2= 0.5\\cdot 0.5\\cdot \\frac{s_{2}}{2200} + 0.5\\cdot 0.5 \\cdot \\frac{r_{2}}{704} + W_4 = 0.5\\cdot 0.6\\cdot \\frac{s_{4}}{1300} + 0.5\\cdot 0.4 \\cdot \\frac{r_{4}}{416}\\rightarrow \\max$$"
      ],
      "metadata": {
        "id": "ML6jg9XtqRNs"
      },
      "id": "ML6jg9XtqRNs"
    },
    {
      "cell_type": "markdown",
      "source": [],
      "metadata": {
        "id": "XJ2V0KNgaicd"
      },
      "id": "XJ2V0KNgaicd"
    },
    {
      "cell_type": "markdown",
      "source": [
        "#Окончательно получаем:\n",
        "$$𝐻_1={p_{1}}+5.8112⋅{s_{1}}+78.2357{r_{1}}−0.5357⋅{h_{1}}$$\n",
        "\n",
        "$$+{p_{2}}+5.8112⋅{s_{2}}+78.2357⋅{r_{2}}−0.5357⋅{h_{2}}$$\n",
        "\n",
        "$$+{p_{3}}+5.8112⋅{s_{3}}+78.2357⋅{r_{3}}−0.5357⋅{h_{3}}$$\n",
        "\n",
        "$$+{p_{4}}+5.8112⋅{s_{4}}+78.2357⋅{r_{4}}−0.5357⋅{h_{4}}$$\n",
        "___\n",
        "$$H_2= 0.5\\cdot 0.5\\cdot \\frac{s_{2}}{2200} + 0.5\\cdot 0.5 \\cdot \\frac{r_{2}}{704} + 0.5\\cdot 0.6\\cdot \\frac{s_{4}}{1300} + 0.5\\cdot 0.4 \\cdot \\frac{r_{4}}{416}\\rightarrow \\max$$\n",
        "___\n",
        "<center>price</center>\n",
        "$$6\\cdot 1492.1775\\leq p_{1}\\leq 10 \\cdot 1492.1775$$\n",
        "<center>speed</center>\n",
        "$$6\\cdot 52.011\\leq s_1\\leq 10\\cdot 52.011$$\n",
        "<center>ram</center>\n",
        "$$6\\cdot 8.2869\\leq r_1\\leq 10\\cdot 8.2869$$\n",
        "<center>hd</center>\n",
        "$$6\\cdot 416.6017\\leq h_1\\leq 10\\cdot 416.6017$$\n",
        "\n",
        "---\n",
        "\n",
        "<center>price</center>\n",
        "$$6\\cdot 1492.1775\\leq p_{2}\\leq 22\\cdot 1492.1775$$\n",
        "<center>speed</center>\n",
        "$$6\\cdot 52.011\\leq s_2\\leq 22\\cdot 52.011$$\n",
        "<center>ram</center>\n",
        "$$6\\cdot 8.2869\\leq r_2\\leq 22\\cdot 8.2869$$\n",
        "<center>hd</center>\n",
        "$$6\\cdot 416.6017\\leq h_2\\leq 22\\cdot 416.6017$$\n",
        "\n",
        "---\n",
        "\n",
        "<center>price</center>\n",
        "$$11\\cdot 1492.1775\\leq p_{3}\\leq 15\\cdot 1492.1775$$\n",
        "<center>speed</center>\n",
        "$$11\\cdot 52.011\\leq s_3\\leq 15\\cdot 52.011$$\n",
        "<center>ram</center>\n",
        "$$11\\cdot 8.2869\\leq r_3\\leq 15\\cdot 8.2869$$\n",
        "<center>hd</center>\n",
        "$$11\\cdot 416.6017\\leq h_3\\leq 15\\cdot 416.6017$$\n",
        "\n",
        "---\n",
        "\n",
        "<center>price</center>\n",
        "$$4\\cdot 1492.1775\\leq p_{4}\\leq 13\\cdot 1492.1775$$\n",
        "<center>speed</center>\n",
        "$$4\\cdot 52.011\\leq s_4\\leq 13\\cdot 52.011$$\n",
        "<center>ram</center>\n",
        "$$4\\cdot 8.2869\\leq r_4\\leq 13\\cdot 8.2869$$\n",
        "<center>hd</center>\n",
        "$$4\\cdot 416.6017\\leq h_4\\leq 13\\cdot 416.6017$$\n",
        "\n",
        "\n",
        "---\n",
        "\n",
        "$$p_{1} + 5.8112\\cdot s_{1} + 78.2357\\cdot r_{1} - 0.5357\\cdot h_{1} \\leq 10000$$\n",
        "$$s_{2} + r_{2} \\geq 300$$\n",
        "$${𝑟𝑎𝑚}_3 \\leq 8$$\n",
        "$${hd}_4 \\geq 1000$$\n",
        "$$s_{4} + r_{4} \\geq 700$$"
      ],
      "metadata": {
        "id": "vJmPLKcivgmr"
      },
      "id": "vJmPLKcivgmr"
    },
    {
      "cell_type": "markdown",
      "source": [
        "# Оптимизация методом последовательных уступок"
      ],
      "metadata": {
        "id": "zrtWkHsIx-B8"
      },
      "id": "zrtWkHsIx-B8"
    },
    {
      "cell_type": "code",
      "source": [
        "install.packages(\"lpSolve\")"
      ],
      "metadata": {
        "id": "r0AHl-6SyKCR"
      },
      "id": "r0AHl-6SyKCR",
      "execution_count": 114,
      "outputs": []
    },
    {
      "cell_type": "code",
      "source": [
        "library(lpSolve)"
      ],
      "metadata": {
        "id": "BG-Lbb6pyS-4"
      },
      "id": "BG-Lbb6pyS-4",
      "execution_count": 115,
      "outputs": []
    },
    {
      "cell_type": "code",
      "source": [
        "# целевая функция\n",
        "objective.in <- c(1,       5.8112,      78.2357,      -0.5357,\n",
        "                  1,       5.8112,      78.2357,      -0.5357,\n",
        "                  1,       5.8112,      78.2357,      -0.5357,\n",
        "                  1,       5.8112,      78.2357,      -0.5357)\n",
        "\n",
        "# матрица ограничений\n",
        "mat<-c(\n",
        "      # h_2 -> max\n",
        "      0, 0, 0, 0,\n",
        "      0, 0.5 * 0.5 * 1/2200, 0.5* 0.5 * 1/ 704, 0,\n",
        "      0, 0, 0, 0,\n",
        "      0, 0.5 * 0.6 * 1/1300, 0.5 * 0.4 * 1/416, 0)\n",
        "for (i in 1:16){\n",
        "  tmp <- c()\n",
        "  for (j in 1:16){\n",
        "    if (j == i){\n",
        "      tmp <- append(tmp, 1)\n",
        "    }\n",
        "    else{\n",
        "      tmp <- append(tmp, 0)\n",
        "    }\n",
        "  }\n",
        "  mat <- append(mat, tmp)\n",
        "  mat <- append(mat, tmp)\n",
        "}\n",
        "\n",
        "tmp <- c(\n",
        "      # производительность C_2 >= 300\n",
        "      0, 0, 0, 0,\n",
        "      0, 1, 1, 0,\n",
        "      0, 0, 0, 0,\n",
        "      0, 0, 0, 0,\n",
        "      # производительность C_4 >= 800\n",
        "      0, 0, 0, 0,\n",
        "      0, 0, 0, 0,\n",
        "      0, 0, 0, 0,\n",
        "      0, 1, 1, 0,\n",
        "      # стоимость <= 15000\n",
        "      1, 5.8112, 78.2357, -0.5357,\n",
        "      0, 0, 0, 0,\n",
        "      0, 0, 0, 0,\n",
        "      0, 0, 0, 0\n",
        ")\n",
        "mat <- append(mat, tmp)\n",
        "const.mat<-matrix(mat, nrow=36, byrow=TRUE)\n",
        "\n",
        "# ограничения\n",
        "tmp <- c(\"<=\", \">=\")\n",
        "signs <- c()\n",
        "\n",
        "for (i in 1: 16){\n",
        "  signs <- append(signs, tmp)\n",
        "}\n",
        "signs <- append(c(\">=\"), signs)\n",
        "signs <- append(signs, c(\">=\", \">=\", \"<=\"))\n",
        "const.dir<-signs\n",
        "\n",
        "const.rhs<-c(\n",
        "    0,\n",
        "    10 * 1492.1775, 6 * 1492.1775, 10 * 52.0110, 6 * 52.0110, 10 * 8.2869, 6 * 8.2869, 10 * 416.6017, 6 * 416.6017,\n",
        "    22 * 1492.1775, 6 * 1492.1775, 22 * 52.0110, 6 * 52.0110, 22 * 8.2869, 6 * 8.2869, 22 * 416.6017, 6 * 416.6017,\n",
        "    15 * 1492.1775, 11 * 1492.1775, 15 * 52.0110, 11 * 52.0110, 15 * 8.2869, 11 * 8.2869, 15 * 416.6017, 11 * 416.6017,\n",
        "    13 * 1492.1775, 4 * 1492.1775, 13 * 52.0110, 4 * 52.0110, 13 * 8.2869, 4 * 8.2869, 13 * 416.6017, 4 * 416.6017,\n",
        "    300,\n",
        "    700,\n",
        "    15000\n",
        ")\n",
        "\n",
        "# h минимизируется\n",
        "Res<-lp(\"min\", objective.in, const.mat, const.dir, const.rhs)\n",
        "Res"
      ],
      "metadata": {
        "id": "WcOFaKPByhUj",
        "colab": {
          "base_uri": "https://localhost:8080/",
          "height": 35
        },
        "outputId": "702d70fa-0777-4714-8d49-9b9dee6b1ac5"
      },
      "id": "WcOFaKPByhUj",
      "execution_count": 116,
      "outputs": [
        {
          "output_type": "display_data",
          "data": {
            "text/plain": [
              "Success: the objective function is 55230.21 "
            ]
          },
          "metadata": {}
        }
      ]
    },
    {
      "cell_type": "code",
      "source": [
        "solution <- Res$solution\n",
        "solution"
      ],
      "metadata": {
        "colab": {
          "base_uri": "https://localhost:8080/",
          "height": 34
        },
        "id": "xv3mxJ4Jnu3V",
        "outputId": "2f67d781-4c27-4c87-d9e9-112f04de11b7"
      },
      "id": "xv3mxJ4Jnu3V",
      "execution_count": 117,
      "outputs": [
        {
          "output_type": "display_data",
          "data": {
            "text/html": [
              "<style>\n",
              ".list-inline {list-style: none; margin:0; padding: 0}\n",
              ".list-inline>li {display: inline-block}\n",
              ".list-inline>li:not(:last-child)::after {content: \"\\00b7\"; padding: 0 .5ex}\n",
              "</style>\n",
              "<ol class=list-inline><li>8953.065</li><li>312.066</li><li>49.7214</li><li>4166.017</li><li>8953.065</li><li>312.066</li><li>49.7214</li><li>9165.2374</li><li>16413.9525</li><li>572.121</li><li>91.1559</li><li>6249.0255</li><li>5968.71</li><li>666.8524</li><li>33.1476</li><li>5415.8221</li></ol>\n"
            ],
            "text/markdown": "1. 8953.065\n2. 312.066\n3. 49.7214\n4. 4166.017\n5. 8953.065\n6. 312.066\n7. 49.7214\n8. 9165.2374\n9. 16413.9525\n10. 572.121\n11. 91.1559\n12. 6249.0255\n13. 5968.71\n14. 666.8524\n15. 33.1476\n16. 5415.8221\n\n\n",
            "text/latex": "\\begin{enumerate*}\n\\item 8953.065\n\\item 312.066\n\\item 49.7214\n\\item 4166.017\n\\item 8953.065\n\\item 312.066\n\\item 49.7214\n\\item 9165.2374\n\\item 16413.9525\n\\item 572.121\n\\item 91.1559\n\\item 6249.0255\n\\item 5968.71\n\\item 666.8524\n\\item 33.1476\n\\item 5415.8221\n\\end{enumerate*}\n",
            "text/plain": [
              " [1]  8953.0650   312.0660    49.7214  4166.0170  8953.0650   312.0660\n",
              " [7]    49.7214  9165.2374 16413.9525   572.1210    91.1559  6249.0255\n",
              "[13]  5968.7100   666.8524    33.1476  5415.8221"
            ]
          },
          "metadata": {}
        }
      ]
    },
    {
      "cell_type": "markdown",
      "source": [
        "$$Значение H_1 и H_2:$$"
      ],
      "metadata": {
        "id": "xoki5uO0s5B_"
      },
      "id": "xoki5uO0s5B_"
    },
    {
      "cell_type": "code",
      "source": [
        "HH1 <- function(sol){\n",
        "  return (sum(\n",
        "    c(1,       5.8112,      78.2357,      -0.5357,\n",
        "      1,       5.8112,      78.2357,      -0.5357,\n",
        "      1,       5.8112,      78.2357,      -0.5357,\n",
        "      1,       5.8112,      78.2357,      -0.5357) * sol\n",
        "  ))\n",
        "}\n",
        "\n",
        "HH2 <- function(sol){\n",
        "  return (sum(\n",
        "    c(0, 0, 0, 0,\n",
        "      0, 0.5 * 0.5 * 1/2200, 0.5* 0.5 * 1/ 704, 0,\n",
        "      0, 0, 0, 0,\n",
        "      0, 0.5 * 0.6 * 1/1300, 0.5 * 0.4 * 1/416, 0) * sol\n",
        "  ))\n",
        "}\n",
        "\n",
        "H1 = HH1(Res$solution)\n",
        "H2 = HH2(Res$solution)\n",
        "\n",
        "HH1(Res$solution)\n",
        "\"==========\"\n",
        "HH2(Res$solution)"
      ],
      "metadata": {
        "colab": {
          "base_uri": "https://localhost:8080/",
          "height": 69
        },
        "id": "GkzaMnXcqDK2",
        "outputId": "06a472e0-3252-44e1-d5bd-8853b50da58a"
      },
      "id": "GkzaMnXcqDK2",
      "execution_count": 118,
      "outputs": [
        {
          "output_type": "display_data",
          "data": {
            "text/html": [
              "55230.20716199"
            ],
            "text/markdown": "55230.20716199",
            "text/latex": "55230.20716199",
            "text/plain": [
              "[1] 55230.21"
            ]
          },
          "metadata": {}
        },
        {
          "output_type": "display_data",
          "data": {
            "text/html": [
              "'=========='"
            ],
            "text/markdown": "'=========='",
            "text/latex": "'=========='",
            "text/plain": [
              "[1] \"==========\""
            ]
          },
          "metadata": {}
        },
        {
          "output_type": "display_data",
          "data": {
            "text/html": [
              "0.222944154152098"
            ],
            "text/markdown": "0.222944154152098",
            "text/latex": "0.222944154152098",
            "text/plain": [
              "[1] 0.2229442"
            ]
          },
          "metadata": {}
        }
      ]
    },
    {
      "cell_type": "markdown",
      "source": [
        "Реезультаты:\n",
        "$$H_1 = 55230.20716199$$\n",
        "$$H_2 = 0.222944154152098$$\n",
        "$$ p_1 = 8953.065 $$\n",
        "$$ s_1 = 312.066 $$\n",
        "$$ r_1 = 49.7214 $$\n",
        "$$ h_1 = 4166.017 $$\n",
        "$$ p_2 = 8953.065 $$\n",
        "$$ s_2 = 312.066 $$\n",
        "$$ r_2 = 49.7214 $$\n",
        "$$ h_2 = 9165.2374 $$\n",
        "$$ p_3 = 16413.9525 $$\n",
        "$$ s_3 = 572.121 $$\n",
        "$$ r_3 = 91.1559 $$\n",
        "$$ h_3 = 6249.0255 $$\n",
        "$$ p_4 = 5968.71 $$\n",
        "$$ s_4 = 666.8524 $$\n",
        "$$ r_4 = 33.1476 $$\n",
        "$$ h_4 = 5415.8221 $$\n"
      ],
      "metadata": {
        "id": "FRUHZthotOd5"
      },
      "id": "FRUHZthotOd5"
    },
    {
      "cell_type": "markdown",
      "source": [
        "Найдем количество компьютеров для каждого сегмента"
      ],
      "metadata": {
        "id": "S7uLzZ6YwC3V"
      },
      "id": "S7uLzZ6YwC3V"
    },
    {
      "cell_type": "code",
      "source": [
        "xs = solution[c(1, 5, 9, 13)]\n",
        "Ns = xs / 1492.1775\n",
        "Ns"
      ],
      "metadata": {
        "colab": {
          "base_uri": "https://localhost:8080/",
          "height": 34
        },
        "id": "zfI4qZimqrOh",
        "outputId": "f99be866-13db-4882-8c83-4984d645cc06"
      },
      "id": "zfI4qZimqrOh",
      "execution_count": 119,
      "outputs": [
        {
          "output_type": "display_data",
          "data": {
            "text/html": [
              "<style>\n",
              ".list-inline {list-style: none; margin:0; padding: 0}\n",
              ".list-inline>li {display: inline-block}\n",
              ".list-inline>li:not(:last-child)::after {content: \"\\00b7\"; padding: 0 .5ex}\n",
              "</style>\n",
              "<ol class=list-inline><li>6</li><li>6</li><li>11</li><li>4</li></ol>\n"
            ],
            "text/markdown": "1. 6\n2. 6\n3. 11\n4. 4\n\n\n",
            "text/latex": "\\begin{enumerate*}\n\\item 6\n\\item 6\n\\item 11\n\\item 4\n\\end{enumerate*}\n",
            "text/plain": [
              "[1]  6  6 11  4"
            ]
          },
          "metadata": {}
        }
      ]
    },
    {
      "cell_type": "code",
      "source": [
        "N1 = Ns[1]\n",
        "N2 = Ns[2]\n",
        "N3 = Ns[3]\n",
        "N4 = Ns[4]"
      ],
      "metadata": {
        "id": "BJvLVbOzweve"
      },
      "id": "BJvLVbOzweve",
      "execution_count": 120,
      "outputs": []
    },
    {
      "cell_type": "markdown",
      "source": [
        "Выбор компьютеров сегмента $C_1$:\n",
        "\n",
        "Ограничения:\n",
        " - суммарная стоимость компьютеров сегмента $C_1$ должна быть не более 15000 у.е."
      ],
      "metadata": {
        "id": "7onNJb5-0D8D"
      },
      "id": "7onNJb5-0D8D"
    },
    {
      "cell_type": "code",
      "source": [
        "result1 = c()\n",
        "for(i in 1: 4){\n",
        "  result1 <- append(result1, solution[i] / N1)\n",
        "}\n",
        "result1 <- result1[-1] #speed, ram, hd,\n",
        "result1"
      ],
      "metadata": {
        "id": "cq7CQyp-0WUx",
        "outputId": "ffb5f477-fd71-4cfa-9224-3bc4ae262d4a",
        "colab": {
          "base_uri": "https://localhost:8080/",
          "height": 34
        }
      },
      "id": "cq7CQyp-0WUx",
      "execution_count": 121,
      "outputs": [
        {
          "output_type": "display_data",
          "data": {
            "text/html": [
              "<style>\n",
              ".list-inline {list-style: none; margin:0; padding: 0}\n",
              ".list-inline>li {display: inline-block}\n",
              ".list-inline>li:not(:last-child)::after {content: \"\\00b7\"; padding: 0 .5ex}\n",
              "</style>\n",
              "<ol class=list-inline><li>52.011</li><li>8.2869</li><li>694.336166666667</li></ol>\n"
            ],
            "text/markdown": "1. 52.011\n2. 8.2869\n3. 694.336166666667\n\n\n",
            "text/latex": "\\begin{enumerate*}\n\\item 52.011\n\\item 8.2869\n\\item 694.336166666667\n\\end{enumerate*}\n",
            "text/plain": [
              "[1]  52.0110   8.2869 694.3362"
            ]
          },
          "metadata": {}
        }
      ]
    },
    {
      "cell_type": "code",
      "source": [
        "C1_dataset <- data.frame(data)\n",
        "tmp <- c()\n",
        "\n",
        "for (i in 1: length(rownames(data))){\n",
        "    point = c(data$speed[i], data$ram[i], data$hd[i])\n",
        "    tmp <- append(tmp, sqrt(sum((point - result1) ^ 2)))\n",
        "}\n",
        "C1_dataset$eucl <- tmp"
      ],
      "metadata": {
        "id": "qvkebi6w0mNt"
      },
      "id": "qvkebi6w0mNt",
      "execution_count": 122,
      "outputs": []
    },
    {
      "cell_type": "code",
      "source": [
        "comp1 <- subset(C1_dataset, eucl == min(C1_dataset$eucl))\n",
        "View(comp1)"
      ],
      "metadata": {
        "id": "uKFNAq5RlOAS",
        "outputId": "95e7045e-afc8-4cb3-d4eb-bfed4d177888",
        "colab": {
          "base_uri": "https://localhost:8080/",
          "height": 1000
        }
      },
      "id": "uKFNAq5RlOAS",
      "execution_count": 123,
      "outputs": [
        {
          "output_type": "display_data",
          "data": {
            "text/plain": [
              "     ...1 price speed hd  ram screen cd  multi premium ads trend eucl    \n",
              "4490 4490 2604  50    720 16  15     yes no    yes     205 21    26.87319\n",
              "4533 4533 2940  50    720 16  17     yes no    yes     205 21    26.87319\n",
              "4581 4581 2693  50    720 16  15     yes yes   yes     205 21    26.87319\n",
              "4584 4584 2640  50    720 16  15     yes no    yes     205 21    26.87319\n",
              "4636 4636 2794  50    720 16  15     yes no    yes     205 21    26.87319\n",
              "4643 4643 2545  50    720 16  15     yes no    yes     205 21    26.87319\n",
              "4709 4709 2445  50    720 16  15     yes no    yes     162 22    26.87319\n",
              "4721 4721 2504  50    720 16  15     yes no    yes     162 22    26.87319\n",
              "4731 4731 2694  50    720 16  15     yes no    yes     162 22    26.87319\n",
              "4732 4732 2593  50    720 16  15     yes yes   yes     162 22    26.87319\n",
              "4807 4807 2840  50    720 16  17     yes no    yes     162 22    26.87319\n",
              "4852 4852 2540  50    720 16  15     yes no    yes     162 22    26.87319\n",
              "4930 4930 2740  50    720 16  17     yes no    yes     191 23    26.87319\n",
              "4935 4935 2493  50    720 16  15     yes yes   yes     191 23    26.87319\n",
              "4963 4963 2594  50    720 16  15     yes no    yes     191 23    26.87319\n",
              "5007 5007 2404  50    720 16  15     yes no    yes     191 23    26.87319\n",
              "5020 5020 2345  50    720 16  15     yes no    yes     191 23    26.87319\n",
              "5023 5023 2440  50    720 16  15     yes no    yes     191 23    26.87319\n",
              "5060 5060 2423  50    720 16  15     yes yes   yes     182 24    26.87319\n",
              "5062 5062 2354  50    720 16  15     yes no    yes     182 24    26.87319\n",
              "5064 5064 2295  50    720 16  15     yes no    yes     182 24    26.87319\n",
              "5109 5109 2390  50    720 16  15     yes no    yes     182 24    26.87319\n",
              "5151 5151 2690  50    720 16  17     yes no    yes     182 24    26.87319\n",
              "5217 5217 2544  50    720 16  15     yes no    yes     182 24    26.87319\n",
              "5422 5422 2254  50    720 16  15     yes no    yes     152 26    26.87319\n",
              "5426 5426 2540  50    720 16  17     yes no    yes     152 26    26.87319\n",
              "5443 5443 2290  50    720 16  15     yes no    yes     152 26    26.87319\n",
              "5444 5444 2444  50    720 16  15     yes no    yes     152 26    26.87319\n",
              "5476 5476 2195  50    720 16  15     yes no    yes     152 26    26.87319\n",
              "5482 5482 2323  50    720 16  15     yes yes   yes     152 26    26.87319"
            ],
            "text/html": [
              "<table class=\"dataframe\">\n",
              "<caption>A data.frame: 30 × 12</caption>\n",
              "<thead>\n",
              "\t<tr><th></th><th scope=col>...1</th><th scope=col>price</th><th scope=col>speed</th><th scope=col>hd</th><th scope=col>ram</th><th scope=col>screen</th><th scope=col>cd</th><th scope=col>multi</th><th scope=col>premium</th><th scope=col>ads</th><th scope=col>trend</th><th scope=col>eucl</th></tr>\n",
              "\t<tr><th></th><th scope=col>&lt;int&gt;</th><th scope=col>&lt;int&gt;</th><th scope=col>&lt;int&gt;</th><th scope=col>&lt;int&gt;</th><th scope=col>&lt;int&gt;</th><th scope=col>&lt;int&gt;</th><th scope=col>&lt;chr&gt;</th><th scope=col>&lt;chr&gt;</th><th scope=col>&lt;chr&gt;</th><th scope=col>&lt;int&gt;</th><th scope=col>&lt;int&gt;</th><th scope=col>&lt;dbl&gt;</th></tr>\n",
              "</thead>\n",
              "<tbody>\n",
              "\t<tr><th scope=row>4490</th><td>4490</td><td>2604</td><td>50</td><td>720</td><td>16</td><td>15</td><td>yes</td><td>no </td><td>yes</td><td>205</td><td>21</td><td>26.87319</td></tr>\n",
              "\t<tr><th scope=row>4533</th><td>4533</td><td>2940</td><td>50</td><td>720</td><td>16</td><td>17</td><td>yes</td><td>no </td><td>yes</td><td>205</td><td>21</td><td>26.87319</td></tr>\n",
              "\t<tr><th scope=row>4581</th><td>4581</td><td>2693</td><td>50</td><td>720</td><td>16</td><td>15</td><td>yes</td><td>yes</td><td>yes</td><td>205</td><td>21</td><td>26.87319</td></tr>\n",
              "\t<tr><th scope=row>4584</th><td>4584</td><td>2640</td><td>50</td><td>720</td><td>16</td><td>15</td><td>yes</td><td>no </td><td>yes</td><td>205</td><td>21</td><td>26.87319</td></tr>\n",
              "\t<tr><th scope=row>4636</th><td>4636</td><td>2794</td><td>50</td><td>720</td><td>16</td><td>15</td><td>yes</td><td>no </td><td>yes</td><td>205</td><td>21</td><td>26.87319</td></tr>\n",
              "\t<tr><th scope=row>4643</th><td>4643</td><td>2545</td><td>50</td><td>720</td><td>16</td><td>15</td><td>yes</td><td>no </td><td>yes</td><td>205</td><td>21</td><td>26.87319</td></tr>\n",
              "\t<tr><th scope=row>4709</th><td>4709</td><td>2445</td><td>50</td><td>720</td><td>16</td><td>15</td><td>yes</td><td>no </td><td>yes</td><td>162</td><td>22</td><td>26.87319</td></tr>\n",
              "\t<tr><th scope=row>4721</th><td>4721</td><td>2504</td><td>50</td><td>720</td><td>16</td><td>15</td><td>yes</td><td>no </td><td>yes</td><td>162</td><td>22</td><td>26.87319</td></tr>\n",
              "\t<tr><th scope=row>4731</th><td>4731</td><td>2694</td><td>50</td><td>720</td><td>16</td><td>15</td><td>yes</td><td>no </td><td>yes</td><td>162</td><td>22</td><td>26.87319</td></tr>\n",
              "\t<tr><th scope=row>4732</th><td>4732</td><td>2593</td><td>50</td><td>720</td><td>16</td><td>15</td><td>yes</td><td>yes</td><td>yes</td><td>162</td><td>22</td><td>26.87319</td></tr>\n",
              "\t<tr><th scope=row>4807</th><td>4807</td><td>2840</td><td>50</td><td>720</td><td>16</td><td>17</td><td>yes</td><td>no </td><td>yes</td><td>162</td><td>22</td><td>26.87319</td></tr>\n",
              "\t<tr><th scope=row>4852</th><td>4852</td><td>2540</td><td>50</td><td>720</td><td>16</td><td>15</td><td>yes</td><td>no </td><td>yes</td><td>162</td><td>22</td><td>26.87319</td></tr>\n",
              "\t<tr><th scope=row>4930</th><td>4930</td><td>2740</td><td>50</td><td>720</td><td>16</td><td>17</td><td>yes</td><td>no </td><td>yes</td><td>191</td><td>23</td><td>26.87319</td></tr>\n",
              "\t<tr><th scope=row>4935</th><td>4935</td><td>2493</td><td>50</td><td>720</td><td>16</td><td>15</td><td>yes</td><td>yes</td><td>yes</td><td>191</td><td>23</td><td>26.87319</td></tr>\n",
              "\t<tr><th scope=row>4963</th><td>4963</td><td>2594</td><td>50</td><td>720</td><td>16</td><td>15</td><td>yes</td><td>no </td><td>yes</td><td>191</td><td>23</td><td>26.87319</td></tr>\n",
              "\t<tr><th scope=row>5007</th><td>5007</td><td>2404</td><td>50</td><td>720</td><td>16</td><td>15</td><td>yes</td><td>no </td><td>yes</td><td>191</td><td>23</td><td>26.87319</td></tr>\n",
              "\t<tr><th scope=row>5020</th><td>5020</td><td>2345</td><td>50</td><td>720</td><td>16</td><td>15</td><td>yes</td><td>no </td><td>yes</td><td>191</td><td>23</td><td>26.87319</td></tr>\n",
              "\t<tr><th scope=row>5023</th><td>5023</td><td>2440</td><td>50</td><td>720</td><td>16</td><td>15</td><td>yes</td><td>no </td><td>yes</td><td>191</td><td>23</td><td>26.87319</td></tr>\n",
              "\t<tr><th scope=row>5060</th><td>5060</td><td>2423</td><td>50</td><td>720</td><td>16</td><td>15</td><td>yes</td><td>yes</td><td>yes</td><td>182</td><td>24</td><td>26.87319</td></tr>\n",
              "\t<tr><th scope=row>5062</th><td>5062</td><td>2354</td><td>50</td><td>720</td><td>16</td><td>15</td><td>yes</td><td>no </td><td>yes</td><td>182</td><td>24</td><td>26.87319</td></tr>\n",
              "\t<tr><th scope=row>5064</th><td>5064</td><td>2295</td><td>50</td><td>720</td><td>16</td><td>15</td><td>yes</td><td>no </td><td>yes</td><td>182</td><td>24</td><td>26.87319</td></tr>\n",
              "\t<tr><th scope=row>5109</th><td>5109</td><td>2390</td><td>50</td><td>720</td><td>16</td><td>15</td><td>yes</td><td>no </td><td>yes</td><td>182</td><td>24</td><td>26.87319</td></tr>\n",
              "\t<tr><th scope=row>5151</th><td>5151</td><td>2690</td><td>50</td><td>720</td><td>16</td><td>17</td><td>yes</td><td>no </td><td>yes</td><td>182</td><td>24</td><td>26.87319</td></tr>\n",
              "\t<tr><th scope=row>5217</th><td>5217</td><td>2544</td><td>50</td><td>720</td><td>16</td><td>15</td><td>yes</td><td>no </td><td>yes</td><td>182</td><td>24</td><td>26.87319</td></tr>\n",
              "\t<tr><th scope=row>5422</th><td>5422</td><td>2254</td><td>50</td><td>720</td><td>16</td><td>15</td><td>yes</td><td>no </td><td>yes</td><td>152</td><td>26</td><td>26.87319</td></tr>\n",
              "\t<tr><th scope=row>5426</th><td>5426</td><td>2540</td><td>50</td><td>720</td><td>16</td><td>17</td><td>yes</td><td>no </td><td>yes</td><td>152</td><td>26</td><td>26.87319</td></tr>\n",
              "\t<tr><th scope=row>5443</th><td>5443</td><td>2290</td><td>50</td><td>720</td><td>16</td><td>15</td><td>yes</td><td>no </td><td>yes</td><td>152</td><td>26</td><td>26.87319</td></tr>\n",
              "\t<tr><th scope=row>5444</th><td>5444</td><td>2444</td><td>50</td><td>720</td><td>16</td><td>15</td><td>yes</td><td>no </td><td>yes</td><td>152</td><td>26</td><td>26.87319</td></tr>\n",
              "\t<tr><th scope=row>5476</th><td>5476</td><td>2195</td><td>50</td><td>720</td><td>16</td><td>15</td><td>yes</td><td>no </td><td>yes</td><td>152</td><td>26</td><td>26.87319</td></tr>\n",
              "\t<tr><th scope=row>5482</th><td>5482</td><td>2323</td><td>50</td><td>720</td><td>16</td><td>15</td><td>yes</td><td>yes</td><td>yes</td><td>152</td><td>26</td><td>26.87319</td></tr>\n",
              "</tbody>\n",
              "</table>\n"
            ],
            "text/markdown": "\nA data.frame: 30 × 12\n\n| <!--/--> | ...1 &lt;int&gt; | price &lt;int&gt; | speed &lt;int&gt; | hd &lt;int&gt; | ram &lt;int&gt; | screen &lt;int&gt; | cd &lt;chr&gt; | multi &lt;chr&gt; | premium &lt;chr&gt; | ads &lt;int&gt; | trend &lt;int&gt; | eucl &lt;dbl&gt; |\n|---|---|---|---|---|---|---|---|---|---|---|---|---|\n| 4490 | 4490 | 2604 | 50 | 720 | 16 | 15 | yes | no  | yes | 205 | 21 | 26.87319 |\n| 4533 | 4533 | 2940 | 50 | 720 | 16 | 17 | yes | no  | yes | 205 | 21 | 26.87319 |\n| 4581 | 4581 | 2693 | 50 | 720 | 16 | 15 | yes | yes | yes | 205 | 21 | 26.87319 |\n| 4584 | 4584 | 2640 | 50 | 720 | 16 | 15 | yes | no  | yes | 205 | 21 | 26.87319 |\n| 4636 | 4636 | 2794 | 50 | 720 | 16 | 15 | yes | no  | yes | 205 | 21 | 26.87319 |\n| 4643 | 4643 | 2545 | 50 | 720 | 16 | 15 | yes | no  | yes | 205 | 21 | 26.87319 |\n| 4709 | 4709 | 2445 | 50 | 720 | 16 | 15 | yes | no  | yes | 162 | 22 | 26.87319 |\n| 4721 | 4721 | 2504 | 50 | 720 | 16 | 15 | yes | no  | yes | 162 | 22 | 26.87319 |\n| 4731 | 4731 | 2694 | 50 | 720 | 16 | 15 | yes | no  | yes | 162 | 22 | 26.87319 |\n| 4732 | 4732 | 2593 | 50 | 720 | 16 | 15 | yes | yes | yes | 162 | 22 | 26.87319 |\n| 4807 | 4807 | 2840 | 50 | 720 | 16 | 17 | yes | no  | yes | 162 | 22 | 26.87319 |\n| 4852 | 4852 | 2540 | 50 | 720 | 16 | 15 | yes | no  | yes | 162 | 22 | 26.87319 |\n| 4930 | 4930 | 2740 | 50 | 720 | 16 | 17 | yes | no  | yes | 191 | 23 | 26.87319 |\n| 4935 | 4935 | 2493 | 50 | 720 | 16 | 15 | yes | yes | yes | 191 | 23 | 26.87319 |\n| 4963 | 4963 | 2594 | 50 | 720 | 16 | 15 | yes | no  | yes | 191 | 23 | 26.87319 |\n| 5007 | 5007 | 2404 | 50 | 720 | 16 | 15 | yes | no  | yes | 191 | 23 | 26.87319 |\n| 5020 | 5020 | 2345 | 50 | 720 | 16 | 15 | yes | no  | yes | 191 | 23 | 26.87319 |\n| 5023 | 5023 | 2440 | 50 | 720 | 16 | 15 | yes | no  | yes | 191 | 23 | 26.87319 |\n| 5060 | 5060 | 2423 | 50 | 720 | 16 | 15 | yes | yes | yes | 182 | 24 | 26.87319 |\n| 5062 | 5062 | 2354 | 50 | 720 | 16 | 15 | yes | no  | yes | 182 | 24 | 26.87319 |\n| 5064 | 5064 | 2295 | 50 | 720 | 16 | 15 | yes | no  | yes | 182 | 24 | 26.87319 |\n| 5109 | 5109 | 2390 | 50 | 720 | 16 | 15 | yes | no  | yes | 182 | 24 | 26.87319 |\n| 5151 | 5151 | 2690 | 50 | 720 | 16 | 17 | yes | no  | yes | 182 | 24 | 26.87319 |\n| 5217 | 5217 | 2544 | 50 | 720 | 16 | 15 | yes | no  | yes | 182 | 24 | 26.87319 |\n| 5422 | 5422 | 2254 | 50 | 720 | 16 | 15 | yes | no  | yes | 152 | 26 | 26.87319 |\n| 5426 | 5426 | 2540 | 50 | 720 | 16 | 17 | yes | no  | yes | 152 | 26 | 26.87319 |\n| 5443 | 5443 | 2290 | 50 | 720 | 16 | 15 | yes | no  | yes | 152 | 26 | 26.87319 |\n| 5444 | 5444 | 2444 | 50 | 720 | 16 | 15 | yes | no  | yes | 152 | 26 | 26.87319 |\n| 5476 | 5476 | 2195 | 50 | 720 | 16 | 15 | yes | no  | yes | 152 | 26 | 26.87319 |\n| 5482 | 5482 | 2323 | 50 | 720 | 16 | 15 | yes | yes | yes | 152 | 26 | 26.87319 |\n\n",
            "text/latex": "A data.frame: 30 × 12\n\\begin{tabular}{r|llllllllllll}\n  & ...1 & price & speed & hd & ram & screen & cd & multi & premium & ads & trend & eucl\\\\\n  & <int> & <int> & <int> & <int> & <int> & <int> & <chr> & <chr> & <chr> & <int> & <int> & <dbl>\\\\\n\\hline\n\t4490 & 4490 & 2604 & 50 & 720 & 16 & 15 & yes & no  & yes & 205 & 21 & 26.87319\\\\\n\t4533 & 4533 & 2940 & 50 & 720 & 16 & 17 & yes & no  & yes & 205 & 21 & 26.87319\\\\\n\t4581 & 4581 & 2693 & 50 & 720 & 16 & 15 & yes & yes & yes & 205 & 21 & 26.87319\\\\\n\t4584 & 4584 & 2640 & 50 & 720 & 16 & 15 & yes & no  & yes & 205 & 21 & 26.87319\\\\\n\t4636 & 4636 & 2794 & 50 & 720 & 16 & 15 & yes & no  & yes & 205 & 21 & 26.87319\\\\\n\t4643 & 4643 & 2545 & 50 & 720 & 16 & 15 & yes & no  & yes & 205 & 21 & 26.87319\\\\\n\t4709 & 4709 & 2445 & 50 & 720 & 16 & 15 & yes & no  & yes & 162 & 22 & 26.87319\\\\\n\t4721 & 4721 & 2504 & 50 & 720 & 16 & 15 & yes & no  & yes & 162 & 22 & 26.87319\\\\\n\t4731 & 4731 & 2694 & 50 & 720 & 16 & 15 & yes & no  & yes & 162 & 22 & 26.87319\\\\\n\t4732 & 4732 & 2593 & 50 & 720 & 16 & 15 & yes & yes & yes & 162 & 22 & 26.87319\\\\\n\t4807 & 4807 & 2840 & 50 & 720 & 16 & 17 & yes & no  & yes & 162 & 22 & 26.87319\\\\\n\t4852 & 4852 & 2540 & 50 & 720 & 16 & 15 & yes & no  & yes & 162 & 22 & 26.87319\\\\\n\t4930 & 4930 & 2740 & 50 & 720 & 16 & 17 & yes & no  & yes & 191 & 23 & 26.87319\\\\\n\t4935 & 4935 & 2493 & 50 & 720 & 16 & 15 & yes & yes & yes & 191 & 23 & 26.87319\\\\\n\t4963 & 4963 & 2594 & 50 & 720 & 16 & 15 & yes & no  & yes & 191 & 23 & 26.87319\\\\\n\t5007 & 5007 & 2404 & 50 & 720 & 16 & 15 & yes & no  & yes & 191 & 23 & 26.87319\\\\\n\t5020 & 5020 & 2345 & 50 & 720 & 16 & 15 & yes & no  & yes & 191 & 23 & 26.87319\\\\\n\t5023 & 5023 & 2440 & 50 & 720 & 16 & 15 & yes & no  & yes & 191 & 23 & 26.87319\\\\\n\t5060 & 5060 & 2423 & 50 & 720 & 16 & 15 & yes & yes & yes & 182 & 24 & 26.87319\\\\\n\t5062 & 5062 & 2354 & 50 & 720 & 16 & 15 & yes & no  & yes & 182 & 24 & 26.87319\\\\\n\t5064 & 5064 & 2295 & 50 & 720 & 16 & 15 & yes & no  & yes & 182 & 24 & 26.87319\\\\\n\t5109 & 5109 & 2390 & 50 & 720 & 16 & 15 & yes & no  & yes & 182 & 24 & 26.87319\\\\\n\t5151 & 5151 & 2690 & 50 & 720 & 16 & 17 & yes & no  & yes & 182 & 24 & 26.87319\\\\\n\t5217 & 5217 & 2544 & 50 & 720 & 16 & 15 & yes & no  & yes & 182 & 24 & 26.87319\\\\\n\t5422 & 5422 & 2254 & 50 & 720 & 16 & 15 & yes & no  & yes & 152 & 26 & 26.87319\\\\\n\t5426 & 5426 & 2540 & 50 & 720 & 16 & 17 & yes & no  & yes & 152 & 26 & 26.87319\\\\\n\t5443 & 5443 & 2290 & 50 & 720 & 16 & 15 & yes & no  & yes & 152 & 26 & 26.87319\\\\\n\t5444 & 5444 & 2444 & 50 & 720 & 16 & 15 & yes & no  & yes & 152 & 26 & 26.87319\\\\\n\t5476 & 5476 & 2195 & 50 & 720 & 16 & 15 & yes & no  & yes & 152 & 26 & 26.87319\\\\\n\t5482 & 5482 & 2323 & 50 & 720 & 16 & 15 & yes & yes & yes & 152 & 26 & 26.87319\\\\\n\\end{tabular}\n"
          },
          "metadata": {}
        }
      ]
    },
    {
      "cell_type": "markdown",
      "source": [
        "Найдем компьютер с минимальной ценой:"
      ],
      "metadata": {
        "id": "v6H5gJLLnMBA"
      },
      "id": "v6H5gJLLnMBA"
    },
    {
      "cell_type": "code",
      "source": [
        "resultComp1 <- comp1[which.min(comp1$price), ]\n",
        "resultComp1"
      ],
      "metadata": {
        "id": "kjKWCmEam-N8",
        "outputId": "4c284771-a05e-4ee0-8463-a57aa5108151",
        "colab": {
          "base_uri": "https://localhost:8080/",
          "height": 129
        }
      },
      "id": "kjKWCmEam-N8",
      "execution_count": 124,
      "outputs": [
        {
          "output_type": "display_data",
          "data": {
            "text/html": [
              "<table class=\"dataframe\">\n",
              "<caption>A data.frame: 1 × 12</caption>\n",
              "<thead>\n",
              "\t<tr><th></th><th scope=col>...1</th><th scope=col>price</th><th scope=col>speed</th><th scope=col>hd</th><th scope=col>ram</th><th scope=col>screen</th><th scope=col>cd</th><th scope=col>multi</th><th scope=col>premium</th><th scope=col>ads</th><th scope=col>trend</th><th scope=col>eucl</th></tr>\n",
              "\t<tr><th></th><th scope=col>&lt;int&gt;</th><th scope=col>&lt;int&gt;</th><th scope=col>&lt;int&gt;</th><th scope=col>&lt;int&gt;</th><th scope=col>&lt;int&gt;</th><th scope=col>&lt;int&gt;</th><th scope=col>&lt;chr&gt;</th><th scope=col>&lt;chr&gt;</th><th scope=col>&lt;chr&gt;</th><th scope=col>&lt;int&gt;</th><th scope=col>&lt;int&gt;</th><th scope=col>&lt;dbl&gt;</th></tr>\n",
              "</thead>\n",
              "<tbody>\n",
              "\t<tr><th scope=row>5476</th><td>5476</td><td>2195</td><td>50</td><td>720</td><td>16</td><td>15</td><td>yes</td><td>no</td><td>yes</td><td>152</td><td>26</td><td>26.87319</td></tr>\n",
              "</tbody>\n",
              "</table>\n"
            ],
            "text/markdown": "\nA data.frame: 1 × 12\n\n| <!--/--> | ...1 &lt;int&gt; | price &lt;int&gt; | speed &lt;int&gt; | hd &lt;int&gt; | ram &lt;int&gt; | screen &lt;int&gt; | cd &lt;chr&gt; | multi &lt;chr&gt; | premium &lt;chr&gt; | ads &lt;int&gt; | trend &lt;int&gt; | eucl &lt;dbl&gt; |\n|---|---|---|---|---|---|---|---|---|---|---|---|---|\n| 5476 | 5476 | 2195 | 50 | 720 | 16 | 15 | yes | no | yes | 152 | 26 | 26.87319 |\n\n",
            "text/latex": "A data.frame: 1 × 12\n\\begin{tabular}{r|llllllllllll}\n  & ...1 & price & speed & hd & ram & screen & cd & multi & premium & ads & trend & eucl\\\\\n  & <int> & <int> & <int> & <int> & <int> & <int> & <chr> & <chr> & <chr> & <int> & <int> & <dbl>\\\\\n\\hline\n\t5476 & 5476 & 2195 & 50 & 720 & 16 & 15 & yes & no & yes & 152 & 26 & 26.87319\\\\\n\\end{tabular}\n",
            "text/plain": [
              "     ...1 price speed hd  ram screen cd  multi premium ads trend eucl    \n",
              "5476 5476 2195  50    720 16  15     yes no    yes     152 26    26.87319"
            ]
          },
          "metadata": {}
        }
      ]
    },
    {
      "cell_type": "markdown",
      "source": [
        "Выбор компьютеров сегмента $C_2:$\n",
        " - суммарная производительность $C_2$ не менее 300 (считаем аддитивной характеристикой от количества входящих ПК)"
      ],
      "metadata": {
        "id": "klv0zrBhnc5D"
      },
      "id": "klv0zrBhnc5D"
    },
    {
      "cell_type": "code",
      "source": [
        "C2_dataset <- data.frame()\n",
        "\n",
        "# доп условий нет\n",
        "for (i in 1: length(rownames(data))){\n",
        "    C2_dataset <-rbind(C2_dataset ,data[i,])\n",
        "}"
      ],
      "metadata": {
        "id": "qpidMnlWn0dX"
      },
      "id": "qpidMnlWn0dX",
      "execution_count": 125,
      "outputs": []
    },
    {
      "cell_type": "code",
      "source": [
        "tmp <- c()\n",
        "for (i in 1: length(rownames(C2_dataset))){\n",
        "  tmp <- append(tmp, 0.5 * C2_dataset$speed[i] / max(C2_dataset$speed) + 0.5 * C2_dataset$ram[i] / max(C2_dataset$ram))\n",
        "}\n",
        "C2_dataset$specs <- tmp"
      ],
      "metadata": {
        "id": "4s2Hfol9p--9"
      },
      "id": "4s2Hfol9p--9",
      "execution_count": 126,
      "outputs": []
    },
    {
      "cell_type": "code",
      "source": [
        "tmp <- c()\n",
        "for (i in 1: length(rownames(C2_dataset))){\n",
        "  tmp <- append(tmp, abs(C2_dataset$specs[i] - H2))\n",
        "}\n",
        "C2_dataset$specs <- tmp"
      ],
      "metadata": {
        "id": "loJGu9WhqAzW"
      },
      "id": "loJGu9WhqAzW",
      "execution_count": 127,
      "outputs": []
    },
    {
      "cell_type": "code",
      "source": [
        "specs2 <- min(C2_dataset$specs)\n",
        "comp2 <- subset(C2_dataset, specs == specs2)\n",
        "View(comp2)"
      ],
      "metadata": {
        "id": "YV6KT3t2sgKo",
        "outputId": "9b534283-b8ec-4410-b34e-c7ae3622ae11",
        "colab": {
          "base_uri": "https://localhost:8080/",
          "height": 1000
        }
      },
      "id": "YV6KT3t2sgKo",
      "execution_count": 128,
      "outputs": [
        {
          "output_type": "display_data",
          "data": {
            "text/plain": [
              "    ...1 price speed hd  ram screen cd  multi premium ads trend specs      \n",
              "1    18  2325  33    210 4   15     no  no    yes     94  1     0.004555846\n",
              "2    19  2095  33    250 4   15     no  no    yes     94  1     0.004555846\n",
              "3    21  1695  33    130 4   14     no  no    yes     94  1     0.004555846\n",
              "4    27  1975  33    130 4   14     no  no    yes     94  1     0.004555846\n",
              "5    31  1920  33    170 4   14     yes no    yes     94  1     0.004555846\n",
              "6    35  1999  33    170 4   14     no  no    yes     94  1     0.004555846\n",
              "7    47  2195  33    130 4   14     no  no    yes     94  1     0.004555846\n",
              "8    50  1995  33    250 4   14     no  no    yes     94  1     0.004555846\n",
              "9    51  2499  33    170 4   14     no  no    yes     94  1     0.004555846\n",
              "10   52  2395  33    130 4   14     no  no    yes     94  1     0.004555846\n",
              "11   54  2190  33    210 4   14     no  no    yes     94  1     0.004555846\n",
              "12   62  1795  33    170 4   15     no  no    yes     94  1     0.004555846\n",
              "13   64  2220  33    250 4   14     yes no    yes     94  1     0.004555846\n",
              "14   69  2199  33    212 4   14     no  no    yes     94  1     0.004555846\n",
              "15   72  2725  33    210 4   17     no  no    yes     94  1     0.004555846\n",
              "16   73  1695  33    170 4   14     no  no    yes     94  1     0.004555846\n",
              "17   88  1795  33    130 4   14     no  no    yes     94  1     0.004555846\n",
              "18   97  1999  33    170 4   14     no  no    yes     95  2     0.004555846\n",
              "19   98  1920  33    170 4   14     yes no    yes     95  2     0.004555846\n",
              "20  100  1695  33    170 4   14     no  no    yes     95  2     0.004555846\n",
              "21  101  1995  33    250 4   14     no  no    yes     95  2     0.004555846\n",
              "22  112  2095  33    130 4   14     no  no    yes     95  2     0.004555846\n",
              "23  119  2499  33    170 4   14     no  no    yes     95  2     0.004555846\n",
              "24  120  2799  33    230 4   14     no  no    yes     95  2     0.004555846\n",
              "25  121  1795  33    170 4   14     no  no    yes     95  2     0.004555846\n",
              "26  122  2199  33    210 4   14     no  no    yes     95  2     0.004555846\n",
              "27  133  2220  33    250 4   14     yes no    yes     95  2     0.004555846\n",
              "28  138  2395  33    250 4   15     no  no    yes     95  2     0.004555846\n",
              "29  148  2199  33    212 4   14     no  no    yes     95  2     0.004555846\n",
              "30  151  2095  33    250 4   15     no  no    yes     95  2     0.004555846\n",
              "⋮   ⋮    ⋮     ⋮     ⋮   ⋮   ⋮      ⋮   ⋮     ⋮       ⋮   ⋮     ⋮          \n",
              "922 5193 1528  33    428 4   17     no  no    yes     182 24    0.004555846\n",
              "923 5201 1329  33    212 4   15     no  no    yes     182 24    0.004555846\n",
              "924 5204 1538  33    424 4   14     yes yes   yes     182 24    0.004555846\n",
              "925 5215 1268  33    428 4   15     no  no    yes     182 24    0.004555846\n",
              "926 5226 1554  33    214 4   14     no  no    yes     182 24    0.004555846\n",
              "927 5228 1199  33    428 4   14     no  no    yes     182 24    0.004555846\n",
              "928 5238 1490  33    214 4   15     no  no    yes     158 25    0.004555846\n",
              "929 5241 1199  33    210 4   14     no  no    yes     158 25    0.004555846\n",
              "930 5242 1495  33    214 4   14     no  no    yes     158 25    0.004555846\n",
              "931 5251 1295  33    214 4   14     no  no    yes     158 25    0.004555846\n",
              "932 5265 1399  33    210 4   14     yes yes   yes     158 25    0.004555846\n",
              "933 5270 1644  33    214 4   14     no  no    yes     158 25    0.004555846\n",
              "934 5276 1518  33    428 4   17     no  no    yes     158 25    0.004555846\n",
              "935 5279 1490  33    214 4   14     no  no    yes     158 25    0.004555846\n",
              "936 5287 1590  33    214 4   14     no  no    yes     158 25    0.004555846\n",
              "937 5291 1590  33    214 4   15     no  no    yes     158 25    0.004555846\n",
              "938 5299 1199  33    340 4   14     no  no    yes     158 25    0.004555846\n",
              "939 5324 1195  33    214 4   14     no  no    yes     158 25    0.004555846\n",
              "940 5361 1268  33    428 4   15     no  no    yes     158 25    0.004555846\n",
              "941 5372 1554  33    214 4   14     no  no    yes     158 25    0.004555846\n",
              "942 5373 1395  33    214 4   14     no  no    yes     158 25    0.004555846\n",
              "943 5376 1199  33    428 4   14     no  no    yes     158 25    0.004555846\n",
              "944 5377 1454  33    214 4   14     no  no    yes     158 25    0.004555846\n",
              "945 5387 1744  33    214 4   14     no  no    yes     158 25    0.004555846\n",
              "946 5461 1399  33    210 4   14     yes yes   yes     152 26    0.004555846\n",
              "947 5469 1199  33    340 4   14     no  no    yes     152 26    0.004555846\n",
              "948 5520 1199  33    210 4   14     no  no    yes     152 26    0.004555846\n",
              "949 5551 1399  33    210 4   14     yes yes   yes     163 27    0.004555846\n",
              "950 5634 1199  33    210 4   14     no  no    yes     163 27    0.004555846\n",
              "951 5816 1199  33    210 4   14     no  no    yes     132 28    0.004555846"
            ],
            "text/html": [
              "<table class=\"dataframe\">\n",
              "<caption>A tibble: 951 × 12</caption>\n",
              "<thead>\n",
              "\t<tr><th scope=col>...1</th><th scope=col>price</th><th scope=col>speed</th><th scope=col>hd</th><th scope=col>ram</th><th scope=col>screen</th><th scope=col>cd</th><th scope=col>multi</th><th scope=col>premium</th><th scope=col>ads</th><th scope=col>trend</th><th scope=col>specs</th></tr>\n",
              "\t<tr><th scope=col>&lt;int&gt;</th><th scope=col>&lt;int&gt;</th><th scope=col>&lt;int&gt;</th><th scope=col>&lt;int&gt;</th><th scope=col>&lt;int&gt;</th><th scope=col>&lt;int&gt;</th><th scope=col>&lt;chr&gt;</th><th scope=col>&lt;chr&gt;</th><th scope=col>&lt;chr&gt;</th><th scope=col>&lt;int&gt;</th><th scope=col>&lt;int&gt;</th><th scope=col>&lt;dbl&gt;</th></tr>\n",
              "</thead>\n",
              "<tbody>\n",
              "\t<tr><td> 18</td><td>2325</td><td>33</td><td>210</td><td>4</td><td>15</td><td>no </td><td>no</td><td>yes</td><td>94</td><td>1</td><td>0.004555846</td></tr>\n",
              "\t<tr><td> 19</td><td>2095</td><td>33</td><td>250</td><td>4</td><td>15</td><td>no </td><td>no</td><td>yes</td><td>94</td><td>1</td><td>0.004555846</td></tr>\n",
              "\t<tr><td> 21</td><td>1695</td><td>33</td><td>130</td><td>4</td><td>14</td><td>no </td><td>no</td><td>yes</td><td>94</td><td>1</td><td>0.004555846</td></tr>\n",
              "\t<tr><td> 27</td><td>1975</td><td>33</td><td>130</td><td>4</td><td>14</td><td>no </td><td>no</td><td>yes</td><td>94</td><td>1</td><td>0.004555846</td></tr>\n",
              "\t<tr><td> 31</td><td>1920</td><td>33</td><td>170</td><td>4</td><td>14</td><td>yes</td><td>no</td><td>yes</td><td>94</td><td>1</td><td>0.004555846</td></tr>\n",
              "\t<tr><td> 35</td><td>1999</td><td>33</td><td>170</td><td>4</td><td>14</td><td>no </td><td>no</td><td>yes</td><td>94</td><td>1</td><td>0.004555846</td></tr>\n",
              "\t<tr><td> 47</td><td>2195</td><td>33</td><td>130</td><td>4</td><td>14</td><td>no </td><td>no</td><td>yes</td><td>94</td><td>1</td><td>0.004555846</td></tr>\n",
              "\t<tr><td> 50</td><td>1995</td><td>33</td><td>250</td><td>4</td><td>14</td><td>no </td><td>no</td><td>yes</td><td>94</td><td>1</td><td>0.004555846</td></tr>\n",
              "\t<tr><td> 51</td><td>2499</td><td>33</td><td>170</td><td>4</td><td>14</td><td>no </td><td>no</td><td>yes</td><td>94</td><td>1</td><td>0.004555846</td></tr>\n",
              "\t<tr><td> 52</td><td>2395</td><td>33</td><td>130</td><td>4</td><td>14</td><td>no </td><td>no</td><td>yes</td><td>94</td><td>1</td><td>0.004555846</td></tr>\n",
              "\t<tr><td> 54</td><td>2190</td><td>33</td><td>210</td><td>4</td><td>14</td><td>no </td><td>no</td><td>yes</td><td>94</td><td>1</td><td>0.004555846</td></tr>\n",
              "\t<tr><td> 62</td><td>1795</td><td>33</td><td>170</td><td>4</td><td>15</td><td>no </td><td>no</td><td>yes</td><td>94</td><td>1</td><td>0.004555846</td></tr>\n",
              "\t<tr><td> 64</td><td>2220</td><td>33</td><td>250</td><td>4</td><td>14</td><td>yes</td><td>no</td><td>yes</td><td>94</td><td>1</td><td>0.004555846</td></tr>\n",
              "\t<tr><td> 69</td><td>2199</td><td>33</td><td>212</td><td>4</td><td>14</td><td>no </td><td>no</td><td>yes</td><td>94</td><td>1</td><td>0.004555846</td></tr>\n",
              "\t<tr><td> 72</td><td>2725</td><td>33</td><td>210</td><td>4</td><td>17</td><td>no </td><td>no</td><td>yes</td><td>94</td><td>1</td><td>0.004555846</td></tr>\n",
              "\t<tr><td> 73</td><td>1695</td><td>33</td><td>170</td><td>4</td><td>14</td><td>no </td><td>no</td><td>yes</td><td>94</td><td>1</td><td>0.004555846</td></tr>\n",
              "\t<tr><td> 88</td><td>1795</td><td>33</td><td>130</td><td>4</td><td>14</td><td>no </td><td>no</td><td>yes</td><td>94</td><td>1</td><td>0.004555846</td></tr>\n",
              "\t<tr><td> 97</td><td>1999</td><td>33</td><td>170</td><td>4</td><td>14</td><td>no </td><td>no</td><td>yes</td><td>95</td><td>2</td><td>0.004555846</td></tr>\n",
              "\t<tr><td> 98</td><td>1920</td><td>33</td><td>170</td><td>4</td><td>14</td><td>yes</td><td>no</td><td>yes</td><td>95</td><td>2</td><td>0.004555846</td></tr>\n",
              "\t<tr><td>100</td><td>1695</td><td>33</td><td>170</td><td>4</td><td>14</td><td>no </td><td>no</td><td>yes</td><td>95</td><td>2</td><td>0.004555846</td></tr>\n",
              "\t<tr><td>101</td><td>1995</td><td>33</td><td>250</td><td>4</td><td>14</td><td>no </td><td>no</td><td>yes</td><td>95</td><td>2</td><td>0.004555846</td></tr>\n",
              "\t<tr><td>112</td><td>2095</td><td>33</td><td>130</td><td>4</td><td>14</td><td>no </td><td>no</td><td>yes</td><td>95</td><td>2</td><td>0.004555846</td></tr>\n",
              "\t<tr><td>119</td><td>2499</td><td>33</td><td>170</td><td>4</td><td>14</td><td>no </td><td>no</td><td>yes</td><td>95</td><td>2</td><td>0.004555846</td></tr>\n",
              "\t<tr><td>120</td><td>2799</td><td>33</td><td>230</td><td>4</td><td>14</td><td>no </td><td>no</td><td>yes</td><td>95</td><td>2</td><td>0.004555846</td></tr>\n",
              "\t<tr><td>121</td><td>1795</td><td>33</td><td>170</td><td>4</td><td>14</td><td>no </td><td>no</td><td>yes</td><td>95</td><td>2</td><td>0.004555846</td></tr>\n",
              "\t<tr><td>122</td><td>2199</td><td>33</td><td>210</td><td>4</td><td>14</td><td>no </td><td>no</td><td>yes</td><td>95</td><td>2</td><td>0.004555846</td></tr>\n",
              "\t<tr><td>133</td><td>2220</td><td>33</td><td>250</td><td>4</td><td>14</td><td>yes</td><td>no</td><td>yes</td><td>95</td><td>2</td><td>0.004555846</td></tr>\n",
              "\t<tr><td>138</td><td>2395</td><td>33</td><td>250</td><td>4</td><td>15</td><td>no </td><td>no</td><td>yes</td><td>95</td><td>2</td><td>0.004555846</td></tr>\n",
              "\t<tr><td>148</td><td>2199</td><td>33</td><td>212</td><td>4</td><td>14</td><td>no </td><td>no</td><td>yes</td><td>95</td><td>2</td><td>0.004555846</td></tr>\n",
              "\t<tr><td>151</td><td>2095</td><td>33</td><td>250</td><td>4</td><td>15</td><td>no </td><td>no</td><td>yes</td><td>95</td><td>2</td><td>0.004555846</td></tr>\n",
              "\t<tr><td>⋮</td><td>⋮</td><td>⋮</td><td>⋮</td><td>⋮</td><td>⋮</td><td>⋮</td><td>⋮</td><td>⋮</td><td>⋮</td><td>⋮</td><td>⋮</td></tr>\n",
              "\t<tr><td>5193</td><td>1528</td><td>33</td><td>428</td><td>4</td><td>17</td><td>no </td><td>no </td><td>yes</td><td>182</td><td>24</td><td>0.004555846</td></tr>\n",
              "\t<tr><td>5201</td><td>1329</td><td>33</td><td>212</td><td>4</td><td>15</td><td>no </td><td>no </td><td>yes</td><td>182</td><td>24</td><td>0.004555846</td></tr>\n",
              "\t<tr><td>5204</td><td>1538</td><td>33</td><td>424</td><td>4</td><td>14</td><td>yes</td><td>yes</td><td>yes</td><td>182</td><td>24</td><td>0.004555846</td></tr>\n",
              "\t<tr><td>5215</td><td>1268</td><td>33</td><td>428</td><td>4</td><td>15</td><td>no </td><td>no </td><td>yes</td><td>182</td><td>24</td><td>0.004555846</td></tr>\n",
              "\t<tr><td>5226</td><td>1554</td><td>33</td><td>214</td><td>4</td><td>14</td><td>no </td><td>no </td><td>yes</td><td>182</td><td>24</td><td>0.004555846</td></tr>\n",
              "\t<tr><td>5228</td><td>1199</td><td>33</td><td>428</td><td>4</td><td>14</td><td>no </td><td>no </td><td>yes</td><td>182</td><td>24</td><td>0.004555846</td></tr>\n",
              "\t<tr><td>5238</td><td>1490</td><td>33</td><td>214</td><td>4</td><td>15</td><td>no </td><td>no </td><td>yes</td><td>158</td><td>25</td><td>0.004555846</td></tr>\n",
              "\t<tr><td>5241</td><td>1199</td><td>33</td><td>210</td><td>4</td><td>14</td><td>no </td><td>no </td><td>yes</td><td>158</td><td>25</td><td>0.004555846</td></tr>\n",
              "\t<tr><td>5242</td><td>1495</td><td>33</td><td>214</td><td>4</td><td>14</td><td>no </td><td>no </td><td>yes</td><td>158</td><td>25</td><td>0.004555846</td></tr>\n",
              "\t<tr><td>5251</td><td>1295</td><td>33</td><td>214</td><td>4</td><td>14</td><td>no </td><td>no </td><td>yes</td><td>158</td><td>25</td><td>0.004555846</td></tr>\n",
              "\t<tr><td>5265</td><td>1399</td><td>33</td><td>210</td><td>4</td><td>14</td><td>yes</td><td>yes</td><td>yes</td><td>158</td><td>25</td><td>0.004555846</td></tr>\n",
              "\t<tr><td>5270</td><td>1644</td><td>33</td><td>214</td><td>4</td><td>14</td><td>no </td><td>no </td><td>yes</td><td>158</td><td>25</td><td>0.004555846</td></tr>\n",
              "\t<tr><td>5276</td><td>1518</td><td>33</td><td>428</td><td>4</td><td>17</td><td>no </td><td>no </td><td>yes</td><td>158</td><td>25</td><td>0.004555846</td></tr>\n",
              "\t<tr><td>5279</td><td>1490</td><td>33</td><td>214</td><td>4</td><td>14</td><td>no </td><td>no </td><td>yes</td><td>158</td><td>25</td><td>0.004555846</td></tr>\n",
              "\t<tr><td>5287</td><td>1590</td><td>33</td><td>214</td><td>4</td><td>14</td><td>no </td><td>no </td><td>yes</td><td>158</td><td>25</td><td>0.004555846</td></tr>\n",
              "\t<tr><td>5291</td><td>1590</td><td>33</td><td>214</td><td>4</td><td>15</td><td>no </td><td>no </td><td>yes</td><td>158</td><td>25</td><td>0.004555846</td></tr>\n",
              "\t<tr><td>5299</td><td>1199</td><td>33</td><td>340</td><td>4</td><td>14</td><td>no </td><td>no </td><td>yes</td><td>158</td><td>25</td><td>0.004555846</td></tr>\n",
              "\t<tr><td>5324</td><td>1195</td><td>33</td><td>214</td><td>4</td><td>14</td><td>no </td><td>no </td><td>yes</td><td>158</td><td>25</td><td>0.004555846</td></tr>\n",
              "\t<tr><td>5361</td><td>1268</td><td>33</td><td>428</td><td>4</td><td>15</td><td>no </td><td>no </td><td>yes</td><td>158</td><td>25</td><td>0.004555846</td></tr>\n",
              "\t<tr><td>5372</td><td>1554</td><td>33</td><td>214</td><td>4</td><td>14</td><td>no </td><td>no </td><td>yes</td><td>158</td><td>25</td><td>0.004555846</td></tr>\n",
              "\t<tr><td>5373</td><td>1395</td><td>33</td><td>214</td><td>4</td><td>14</td><td>no </td><td>no </td><td>yes</td><td>158</td><td>25</td><td>0.004555846</td></tr>\n",
              "\t<tr><td>5376</td><td>1199</td><td>33</td><td>428</td><td>4</td><td>14</td><td>no </td><td>no </td><td>yes</td><td>158</td><td>25</td><td>0.004555846</td></tr>\n",
              "\t<tr><td>5377</td><td>1454</td><td>33</td><td>214</td><td>4</td><td>14</td><td>no </td><td>no </td><td>yes</td><td>158</td><td>25</td><td>0.004555846</td></tr>\n",
              "\t<tr><td>5387</td><td>1744</td><td>33</td><td>214</td><td>4</td><td>14</td><td>no </td><td>no </td><td>yes</td><td>158</td><td>25</td><td>0.004555846</td></tr>\n",
              "\t<tr><td>5461</td><td>1399</td><td>33</td><td>210</td><td>4</td><td>14</td><td>yes</td><td>yes</td><td>yes</td><td>152</td><td>26</td><td>0.004555846</td></tr>\n",
              "\t<tr><td>5469</td><td>1199</td><td>33</td><td>340</td><td>4</td><td>14</td><td>no </td><td>no </td><td>yes</td><td>152</td><td>26</td><td>0.004555846</td></tr>\n",
              "\t<tr><td>5520</td><td>1199</td><td>33</td><td>210</td><td>4</td><td>14</td><td>no </td><td>no </td><td>yes</td><td>152</td><td>26</td><td>0.004555846</td></tr>\n",
              "\t<tr><td>5551</td><td>1399</td><td>33</td><td>210</td><td>4</td><td>14</td><td>yes</td><td>yes</td><td>yes</td><td>163</td><td>27</td><td>0.004555846</td></tr>\n",
              "\t<tr><td>5634</td><td>1199</td><td>33</td><td>210</td><td>4</td><td>14</td><td>no </td><td>no </td><td>yes</td><td>163</td><td>27</td><td>0.004555846</td></tr>\n",
              "\t<tr><td>5816</td><td>1199</td><td>33</td><td>210</td><td>4</td><td>14</td><td>no </td><td>no </td><td>yes</td><td>132</td><td>28</td><td>0.004555846</td></tr>\n",
              "</tbody>\n",
              "</table>\n"
            ],
            "text/markdown": "\nA tibble: 951 × 12\n\n| ...1 &lt;int&gt; | price &lt;int&gt; | speed &lt;int&gt; | hd &lt;int&gt; | ram &lt;int&gt; | screen &lt;int&gt; | cd &lt;chr&gt; | multi &lt;chr&gt; | premium &lt;chr&gt; | ads &lt;int&gt; | trend &lt;int&gt; | specs &lt;dbl&gt; |\n|---|---|---|---|---|---|---|---|---|---|---|---|\n|  18 | 2325 | 33 | 210 | 4 | 15 | no  | no | yes | 94 | 1 | 0.004555846 |\n|  19 | 2095 | 33 | 250 | 4 | 15 | no  | no | yes | 94 | 1 | 0.004555846 |\n|  21 | 1695 | 33 | 130 | 4 | 14 | no  | no | yes | 94 | 1 | 0.004555846 |\n|  27 | 1975 | 33 | 130 | 4 | 14 | no  | no | yes | 94 | 1 | 0.004555846 |\n|  31 | 1920 | 33 | 170 | 4 | 14 | yes | no | yes | 94 | 1 | 0.004555846 |\n|  35 | 1999 | 33 | 170 | 4 | 14 | no  | no | yes | 94 | 1 | 0.004555846 |\n|  47 | 2195 | 33 | 130 | 4 | 14 | no  | no | yes | 94 | 1 | 0.004555846 |\n|  50 | 1995 | 33 | 250 | 4 | 14 | no  | no | yes | 94 | 1 | 0.004555846 |\n|  51 | 2499 | 33 | 170 | 4 | 14 | no  | no | yes | 94 | 1 | 0.004555846 |\n|  52 | 2395 | 33 | 130 | 4 | 14 | no  | no | yes | 94 | 1 | 0.004555846 |\n|  54 | 2190 | 33 | 210 | 4 | 14 | no  | no | yes | 94 | 1 | 0.004555846 |\n|  62 | 1795 | 33 | 170 | 4 | 15 | no  | no | yes | 94 | 1 | 0.004555846 |\n|  64 | 2220 | 33 | 250 | 4 | 14 | yes | no | yes | 94 | 1 | 0.004555846 |\n|  69 | 2199 | 33 | 212 | 4 | 14 | no  | no | yes | 94 | 1 | 0.004555846 |\n|  72 | 2725 | 33 | 210 | 4 | 17 | no  | no | yes | 94 | 1 | 0.004555846 |\n|  73 | 1695 | 33 | 170 | 4 | 14 | no  | no | yes | 94 | 1 | 0.004555846 |\n|  88 | 1795 | 33 | 130 | 4 | 14 | no  | no | yes | 94 | 1 | 0.004555846 |\n|  97 | 1999 | 33 | 170 | 4 | 14 | no  | no | yes | 95 | 2 | 0.004555846 |\n|  98 | 1920 | 33 | 170 | 4 | 14 | yes | no | yes | 95 | 2 | 0.004555846 |\n| 100 | 1695 | 33 | 170 | 4 | 14 | no  | no | yes | 95 | 2 | 0.004555846 |\n| 101 | 1995 | 33 | 250 | 4 | 14 | no  | no | yes | 95 | 2 | 0.004555846 |\n| 112 | 2095 | 33 | 130 | 4 | 14 | no  | no | yes | 95 | 2 | 0.004555846 |\n| 119 | 2499 | 33 | 170 | 4 | 14 | no  | no | yes | 95 | 2 | 0.004555846 |\n| 120 | 2799 | 33 | 230 | 4 | 14 | no  | no | yes | 95 | 2 | 0.004555846 |\n| 121 | 1795 | 33 | 170 | 4 | 14 | no  | no | yes | 95 | 2 | 0.004555846 |\n| 122 | 2199 | 33 | 210 | 4 | 14 | no  | no | yes | 95 | 2 | 0.004555846 |\n| 133 | 2220 | 33 | 250 | 4 | 14 | yes | no | yes | 95 | 2 | 0.004555846 |\n| 138 | 2395 | 33 | 250 | 4 | 15 | no  | no | yes | 95 | 2 | 0.004555846 |\n| 148 | 2199 | 33 | 212 | 4 | 14 | no  | no | yes | 95 | 2 | 0.004555846 |\n| 151 | 2095 | 33 | 250 | 4 | 15 | no  | no | yes | 95 | 2 | 0.004555846 |\n| ⋮ | ⋮ | ⋮ | ⋮ | ⋮ | ⋮ | ⋮ | ⋮ | ⋮ | ⋮ | ⋮ | ⋮ |\n| 5193 | 1528 | 33 | 428 | 4 | 17 | no  | no  | yes | 182 | 24 | 0.004555846 |\n| 5201 | 1329 | 33 | 212 | 4 | 15 | no  | no  | yes | 182 | 24 | 0.004555846 |\n| 5204 | 1538 | 33 | 424 | 4 | 14 | yes | yes | yes | 182 | 24 | 0.004555846 |\n| 5215 | 1268 | 33 | 428 | 4 | 15 | no  | no  | yes | 182 | 24 | 0.004555846 |\n| 5226 | 1554 | 33 | 214 | 4 | 14 | no  | no  | yes | 182 | 24 | 0.004555846 |\n| 5228 | 1199 | 33 | 428 | 4 | 14 | no  | no  | yes | 182 | 24 | 0.004555846 |\n| 5238 | 1490 | 33 | 214 | 4 | 15 | no  | no  | yes | 158 | 25 | 0.004555846 |\n| 5241 | 1199 | 33 | 210 | 4 | 14 | no  | no  | yes | 158 | 25 | 0.004555846 |\n| 5242 | 1495 | 33 | 214 | 4 | 14 | no  | no  | yes | 158 | 25 | 0.004555846 |\n| 5251 | 1295 | 33 | 214 | 4 | 14 | no  | no  | yes | 158 | 25 | 0.004555846 |\n| 5265 | 1399 | 33 | 210 | 4 | 14 | yes | yes | yes | 158 | 25 | 0.004555846 |\n| 5270 | 1644 | 33 | 214 | 4 | 14 | no  | no  | yes | 158 | 25 | 0.004555846 |\n| 5276 | 1518 | 33 | 428 | 4 | 17 | no  | no  | yes | 158 | 25 | 0.004555846 |\n| 5279 | 1490 | 33 | 214 | 4 | 14 | no  | no  | yes | 158 | 25 | 0.004555846 |\n| 5287 | 1590 | 33 | 214 | 4 | 14 | no  | no  | yes | 158 | 25 | 0.004555846 |\n| 5291 | 1590 | 33 | 214 | 4 | 15 | no  | no  | yes | 158 | 25 | 0.004555846 |\n| 5299 | 1199 | 33 | 340 | 4 | 14 | no  | no  | yes | 158 | 25 | 0.004555846 |\n| 5324 | 1195 | 33 | 214 | 4 | 14 | no  | no  | yes | 158 | 25 | 0.004555846 |\n| 5361 | 1268 | 33 | 428 | 4 | 15 | no  | no  | yes | 158 | 25 | 0.004555846 |\n| 5372 | 1554 | 33 | 214 | 4 | 14 | no  | no  | yes | 158 | 25 | 0.004555846 |\n| 5373 | 1395 | 33 | 214 | 4 | 14 | no  | no  | yes | 158 | 25 | 0.004555846 |\n| 5376 | 1199 | 33 | 428 | 4 | 14 | no  | no  | yes | 158 | 25 | 0.004555846 |\n| 5377 | 1454 | 33 | 214 | 4 | 14 | no  | no  | yes | 158 | 25 | 0.004555846 |\n| 5387 | 1744 | 33 | 214 | 4 | 14 | no  | no  | yes | 158 | 25 | 0.004555846 |\n| 5461 | 1399 | 33 | 210 | 4 | 14 | yes | yes | yes | 152 | 26 | 0.004555846 |\n| 5469 | 1199 | 33 | 340 | 4 | 14 | no  | no  | yes | 152 | 26 | 0.004555846 |\n| 5520 | 1199 | 33 | 210 | 4 | 14 | no  | no  | yes | 152 | 26 | 0.004555846 |\n| 5551 | 1399 | 33 | 210 | 4 | 14 | yes | yes | yes | 163 | 27 | 0.004555846 |\n| 5634 | 1199 | 33 | 210 | 4 | 14 | no  | no  | yes | 163 | 27 | 0.004555846 |\n| 5816 | 1199 | 33 | 210 | 4 | 14 | no  | no  | yes | 132 | 28 | 0.004555846 |\n\n",
            "text/latex": "A tibble: 951 × 12\n\\begin{tabular}{llllllllllll}\n ...1 & price & speed & hd & ram & screen & cd & multi & premium & ads & trend & specs\\\\\n <int> & <int> & <int> & <int> & <int> & <int> & <chr> & <chr> & <chr> & <int> & <int> & <dbl>\\\\\n\\hline\n\t  18 & 2325 & 33 & 210 & 4 & 15 & no  & no & yes & 94 & 1 & 0.004555846\\\\\n\t  19 & 2095 & 33 & 250 & 4 & 15 & no  & no & yes & 94 & 1 & 0.004555846\\\\\n\t  21 & 1695 & 33 & 130 & 4 & 14 & no  & no & yes & 94 & 1 & 0.004555846\\\\\n\t  27 & 1975 & 33 & 130 & 4 & 14 & no  & no & yes & 94 & 1 & 0.004555846\\\\\n\t  31 & 1920 & 33 & 170 & 4 & 14 & yes & no & yes & 94 & 1 & 0.004555846\\\\\n\t  35 & 1999 & 33 & 170 & 4 & 14 & no  & no & yes & 94 & 1 & 0.004555846\\\\\n\t  47 & 2195 & 33 & 130 & 4 & 14 & no  & no & yes & 94 & 1 & 0.004555846\\\\\n\t  50 & 1995 & 33 & 250 & 4 & 14 & no  & no & yes & 94 & 1 & 0.004555846\\\\\n\t  51 & 2499 & 33 & 170 & 4 & 14 & no  & no & yes & 94 & 1 & 0.004555846\\\\\n\t  52 & 2395 & 33 & 130 & 4 & 14 & no  & no & yes & 94 & 1 & 0.004555846\\\\\n\t  54 & 2190 & 33 & 210 & 4 & 14 & no  & no & yes & 94 & 1 & 0.004555846\\\\\n\t  62 & 1795 & 33 & 170 & 4 & 15 & no  & no & yes & 94 & 1 & 0.004555846\\\\\n\t  64 & 2220 & 33 & 250 & 4 & 14 & yes & no & yes & 94 & 1 & 0.004555846\\\\\n\t  69 & 2199 & 33 & 212 & 4 & 14 & no  & no & yes & 94 & 1 & 0.004555846\\\\\n\t  72 & 2725 & 33 & 210 & 4 & 17 & no  & no & yes & 94 & 1 & 0.004555846\\\\\n\t  73 & 1695 & 33 & 170 & 4 & 14 & no  & no & yes & 94 & 1 & 0.004555846\\\\\n\t  88 & 1795 & 33 & 130 & 4 & 14 & no  & no & yes & 94 & 1 & 0.004555846\\\\\n\t  97 & 1999 & 33 & 170 & 4 & 14 & no  & no & yes & 95 & 2 & 0.004555846\\\\\n\t  98 & 1920 & 33 & 170 & 4 & 14 & yes & no & yes & 95 & 2 & 0.004555846\\\\\n\t 100 & 1695 & 33 & 170 & 4 & 14 & no  & no & yes & 95 & 2 & 0.004555846\\\\\n\t 101 & 1995 & 33 & 250 & 4 & 14 & no  & no & yes & 95 & 2 & 0.004555846\\\\\n\t 112 & 2095 & 33 & 130 & 4 & 14 & no  & no & yes & 95 & 2 & 0.004555846\\\\\n\t 119 & 2499 & 33 & 170 & 4 & 14 & no  & no & yes & 95 & 2 & 0.004555846\\\\\n\t 120 & 2799 & 33 & 230 & 4 & 14 & no  & no & yes & 95 & 2 & 0.004555846\\\\\n\t 121 & 1795 & 33 & 170 & 4 & 14 & no  & no & yes & 95 & 2 & 0.004555846\\\\\n\t 122 & 2199 & 33 & 210 & 4 & 14 & no  & no & yes & 95 & 2 & 0.004555846\\\\\n\t 133 & 2220 & 33 & 250 & 4 & 14 & yes & no & yes & 95 & 2 & 0.004555846\\\\\n\t 138 & 2395 & 33 & 250 & 4 & 15 & no  & no & yes & 95 & 2 & 0.004555846\\\\\n\t 148 & 2199 & 33 & 212 & 4 & 14 & no  & no & yes & 95 & 2 & 0.004555846\\\\\n\t 151 & 2095 & 33 & 250 & 4 & 15 & no  & no & yes & 95 & 2 & 0.004555846\\\\\n\t ⋮ & ⋮ & ⋮ & ⋮ & ⋮ & ⋮ & ⋮ & ⋮ & ⋮ & ⋮ & ⋮ & ⋮\\\\\n\t 5193 & 1528 & 33 & 428 & 4 & 17 & no  & no  & yes & 182 & 24 & 0.004555846\\\\\n\t 5201 & 1329 & 33 & 212 & 4 & 15 & no  & no  & yes & 182 & 24 & 0.004555846\\\\\n\t 5204 & 1538 & 33 & 424 & 4 & 14 & yes & yes & yes & 182 & 24 & 0.004555846\\\\\n\t 5215 & 1268 & 33 & 428 & 4 & 15 & no  & no  & yes & 182 & 24 & 0.004555846\\\\\n\t 5226 & 1554 & 33 & 214 & 4 & 14 & no  & no  & yes & 182 & 24 & 0.004555846\\\\\n\t 5228 & 1199 & 33 & 428 & 4 & 14 & no  & no  & yes & 182 & 24 & 0.004555846\\\\\n\t 5238 & 1490 & 33 & 214 & 4 & 15 & no  & no  & yes & 158 & 25 & 0.004555846\\\\\n\t 5241 & 1199 & 33 & 210 & 4 & 14 & no  & no  & yes & 158 & 25 & 0.004555846\\\\\n\t 5242 & 1495 & 33 & 214 & 4 & 14 & no  & no  & yes & 158 & 25 & 0.004555846\\\\\n\t 5251 & 1295 & 33 & 214 & 4 & 14 & no  & no  & yes & 158 & 25 & 0.004555846\\\\\n\t 5265 & 1399 & 33 & 210 & 4 & 14 & yes & yes & yes & 158 & 25 & 0.004555846\\\\\n\t 5270 & 1644 & 33 & 214 & 4 & 14 & no  & no  & yes & 158 & 25 & 0.004555846\\\\\n\t 5276 & 1518 & 33 & 428 & 4 & 17 & no  & no  & yes & 158 & 25 & 0.004555846\\\\\n\t 5279 & 1490 & 33 & 214 & 4 & 14 & no  & no  & yes & 158 & 25 & 0.004555846\\\\\n\t 5287 & 1590 & 33 & 214 & 4 & 14 & no  & no  & yes & 158 & 25 & 0.004555846\\\\\n\t 5291 & 1590 & 33 & 214 & 4 & 15 & no  & no  & yes & 158 & 25 & 0.004555846\\\\\n\t 5299 & 1199 & 33 & 340 & 4 & 14 & no  & no  & yes & 158 & 25 & 0.004555846\\\\\n\t 5324 & 1195 & 33 & 214 & 4 & 14 & no  & no  & yes & 158 & 25 & 0.004555846\\\\\n\t 5361 & 1268 & 33 & 428 & 4 & 15 & no  & no  & yes & 158 & 25 & 0.004555846\\\\\n\t 5372 & 1554 & 33 & 214 & 4 & 14 & no  & no  & yes & 158 & 25 & 0.004555846\\\\\n\t 5373 & 1395 & 33 & 214 & 4 & 14 & no  & no  & yes & 158 & 25 & 0.004555846\\\\\n\t 5376 & 1199 & 33 & 428 & 4 & 14 & no  & no  & yes & 158 & 25 & 0.004555846\\\\\n\t 5377 & 1454 & 33 & 214 & 4 & 14 & no  & no  & yes & 158 & 25 & 0.004555846\\\\\n\t 5387 & 1744 & 33 & 214 & 4 & 14 & no  & no  & yes & 158 & 25 & 0.004555846\\\\\n\t 5461 & 1399 & 33 & 210 & 4 & 14 & yes & yes & yes & 152 & 26 & 0.004555846\\\\\n\t 5469 & 1199 & 33 & 340 & 4 & 14 & no  & no  & yes & 152 & 26 & 0.004555846\\\\\n\t 5520 & 1199 & 33 & 210 & 4 & 14 & no  & no  & yes & 152 & 26 & 0.004555846\\\\\n\t 5551 & 1399 & 33 & 210 & 4 & 14 & yes & yes & yes & 163 & 27 & 0.004555846\\\\\n\t 5634 & 1199 & 33 & 210 & 4 & 14 & no  & no  & yes & 163 & 27 & 0.004555846\\\\\n\t 5816 & 1199 & 33 & 210 & 4 & 14 & no  & no  & yes & 132 & 28 & 0.004555846\\\\\n\\end{tabular}\n"
          },
          "metadata": {}
        }
      ]
    },
    {
      "cell_type": "markdown",
      "source": [
        "Т.к. найденные компьютеры одинаковы по хар-кам выберем наиболее популярный"
      ],
      "metadata": {
        "id": "SCoxpuRu5bhL"
      },
      "id": "SCoxpuRu5bhL"
    },
    {
      "cell_type": "code",
      "source": [
        "resultComp2 <- comp2[which.min(comp2$trend), ]\n",
        "resultComp2"
      ],
      "metadata": {
        "id": "Kdi17G-Q5Qgu",
        "outputId": "d6c77938-38be-4ce5-c0a5-40645d86cba4",
        "colab": {
          "base_uri": "https://localhost:8080/",
          "height": 129
        }
      },
      "id": "Kdi17G-Q5Qgu",
      "execution_count": 129,
      "outputs": [
        {
          "output_type": "display_data",
          "data": {
            "text/html": [
              "<table class=\"dataframe\">\n",
              "<caption>A tibble: 1 × 12</caption>\n",
              "<thead>\n",
              "\t<tr><th scope=col>...1</th><th scope=col>price</th><th scope=col>speed</th><th scope=col>hd</th><th scope=col>ram</th><th scope=col>screen</th><th scope=col>cd</th><th scope=col>multi</th><th scope=col>premium</th><th scope=col>ads</th><th scope=col>trend</th><th scope=col>specs</th></tr>\n",
              "\t<tr><th scope=col>&lt;int&gt;</th><th scope=col>&lt;int&gt;</th><th scope=col>&lt;int&gt;</th><th scope=col>&lt;int&gt;</th><th scope=col>&lt;int&gt;</th><th scope=col>&lt;int&gt;</th><th scope=col>&lt;chr&gt;</th><th scope=col>&lt;chr&gt;</th><th scope=col>&lt;chr&gt;</th><th scope=col>&lt;int&gt;</th><th scope=col>&lt;int&gt;</th><th scope=col>&lt;dbl&gt;</th></tr>\n",
              "</thead>\n",
              "<tbody>\n",
              "\t<tr><td>18</td><td>2325</td><td>33</td><td>210</td><td>4</td><td>15</td><td>no</td><td>no</td><td>yes</td><td>94</td><td>1</td><td>0.004555846</td></tr>\n",
              "</tbody>\n",
              "</table>\n"
            ],
            "text/markdown": "\nA tibble: 1 × 12\n\n| ...1 &lt;int&gt; | price &lt;int&gt; | speed &lt;int&gt; | hd &lt;int&gt; | ram &lt;int&gt; | screen &lt;int&gt; | cd &lt;chr&gt; | multi &lt;chr&gt; | premium &lt;chr&gt; | ads &lt;int&gt; | trend &lt;int&gt; | specs &lt;dbl&gt; |\n|---|---|---|---|---|---|---|---|---|---|---|---|\n| 18 | 2325 | 33 | 210 | 4 | 15 | no | no | yes | 94 | 1 | 0.004555846 |\n\n",
            "text/latex": "A tibble: 1 × 12\n\\begin{tabular}{llllllllllll}\n ...1 & price & speed & hd & ram & screen & cd & multi & premium & ads & trend & specs\\\\\n <int> & <int> & <int> & <int> & <int> & <int> & <chr> & <chr> & <chr> & <int> & <int> & <dbl>\\\\\n\\hline\n\t 18 & 2325 & 33 & 210 & 4 & 15 & no & no & yes & 94 & 1 & 0.004555846\\\\\n\\end{tabular}\n",
            "text/plain": [
              "  ...1 price speed hd  ram screen cd multi premium ads trend specs      \n",
              "1 18   2325  33    210 4   15     no no    yes     94  1     0.004555846"
            ]
          },
          "metadata": {}
        }
      ]
    },
    {
      "cell_type": "markdown",
      "source": [
        "Выбор компьютеров сегмента $C_3:$\n",
        " - максимальный объем ОЗУ для сегмента $C_3$ не более 8"
      ],
      "metadata": {
        "id": "vVUfYbrvs1Mr"
      },
      "id": "vVUfYbrvs1Mr"
    },
    {
      "cell_type": "code",
      "source": [
        "result3 = c()\n",
        "for(i in 9: 12){\n",
        "  result3 <- append(result3, solution[i] / N3)\n",
        "}\n",
        "result3 <- result3[-1] #speed, ram, hd,\n",
        "result3"
      ],
      "metadata": {
        "id": "VAuIa6hctQ15",
        "outputId": "c94775e7-d24e-43f1-feae-2e242f969b82",
        "colab": {
          "base_uri": "https://localhost:8080/",
          "height": 34
        }
      },
      "id": "VAuIa6hctQ15",
      "execution_count": 130,
      "outputs": [
        {
          "output_type": "display_data",
          "data": {
            "text/html": [
              "<style>\n",
              ".list-inline {list-style: none; margin:0; padding: 0}\n",
              ".list-inline>li {display: inline-block}\n",
              ".list-inline>li:not(:last-child)::after {content: \"\\00b7\"; padding: 0 .5ex}\n",
              "</style>\n",
              "<ol class=list-inline><li>52.011</li><li>8.2869</li><li>568.093227272727</li></ol>\n"
            ],
            "text/markdown": "1. 52.011\n2. 8.2869\n3. 568.093227272727\n\n\n",
            "text/latex": "\\begin{enumerate*}\n\\item 52.011\n\\item 8.2869\n\\item 568.093227272727\n\\end{enumerate*}\n",
            "text/plain": [
              "[1]  52.0110   8.2869 568.0932"
            ]
          },
          "metadata": {}
        }
      ]
    },
    {
      "cell_type": "code",
      "source": [
        "C3_dataset <- data.frame()\n",
        "\n",
        "for (i in 1: length(rownames(data))){\n",
        "  if (data[i, 5] <= 8){\n",
        "    C3_dataset <-rbind(C3_dataset, data[i,])\n",
        "  }\n",
        "}"
      ],
      "metadata": {
        "id": "hvLw66Metgdm"
      },
      "id": "hvLw66Metgdm",
      "execution_count": 131,
      "outputs": []
    },
    {
      "cell_type": "code",
      "source": [
        "tmp <- c()\n",
        "\n",
        "for (i in 1: length(rownames(C3_dataset))){\n",
        "  point = c(C3_dataset$speed[i], C3_dataset$ram[i], C3_dataset$hd[i])\n",
        "  tmp <- append(tmp, sqrt(sum((point - result3) ^ 2)))\n",
        "}\n",
        "C3_dataset$eucl <- tmp\n",
        "C3_dataset"
      ],
      "metadata": {
        "id": "lpAMp8FqtrnJ",
        "outputId": "4f9bc138-5d41-4377-9371-a7a83bbc44c4",
        "colab": {
          "base_uri": "https://localhost:8080/",
          "height": 1000
        }
      },
      "id": "lpAMp8FqtrnJ",
      "execution_count": 132,
      "outputs": [
        {
          "output_type": "display_data",
          "data": {
            "text/html": [
              "<table class=\"dataframe\">\n",
              "<caption>A tibble: 4950 × 12</caption>\n",
              "<thead>\n",
              "\t<tr><th scope=col>...1</th><th scope=col>price</th><th scope=col>speed</th><th scope=col>hd</th><th scope=col>ram</th><th scope=col>screen</th><th scope=col>cd</th><th scope=col>multi</th><th scope=col>premium</th><th scope=col>ads</th><th scope=col>trend</th><th scope=col>eucl</th></tr>\n",
              "\t<tr><th scope=col>&lt;int&gt;</th><th scope=col>&lt;int&gt;</th><th scope=col>&lt;int&gt;</th><th scope=col>&lt;int&gt;</th><th scope=col>&lt;int&gt;</th><th scope=col>&lt;int&gt;</th><th scope=col>&lt;chr&gt;</th><th scope=col>&lt;chr&gt;</th><th scope=col>&lt;chr&gt;</th><th scope=col>&lt;int&gt;</th><th scope=col>&lt;int&gt;</th><th scope=col>&lt;dbl&gt;</th></tr>\n",
              "</thead>\n",
              "<tbody>\n",
              "\t<tr><td> 1</td><td>1499</td><td>25</td><td> 80</td><td>4</td><td>14</td><td>no </td><td>no</td><td>yes</td><td>94</td><td>1</td><td>488.8588</td></tr>\n",
              "\t<tr><td> 2</td><td>1795</td><td>33</td><td> 85</td><td>2</td><td>14</td><td>no </td><td>no</td><td>yes</td><td>94</td><td>1</td><td>483.5080</td></tr>\n",
              "\t<tr><td> 3</td><td>1595</td><td>25</td><td>170</td><td>4</td><td>15</td><td>no </td><td>no</td><td>yes</td><td>94</td><td>1</td><td>399.0316</td></tr>\n",
              "\t<tr><td> 4</td><td>1849</td><td>25</td><td>170</td><td>8</td><td>14</td><td>no </td><td>no</td><td>no </td><td>94</td><td>1</td><td>399.0086</td></tr>\n",
              "\t<tr><td> 7</td><td>1720</td><td>25</td><td>170</td><td>4</td><td>14</td><td>yes</td><td>no</td><td>yes</td><td>94</td><td>1</td><td>399.0316</td></tr>\n",
              "\t<tr><td> 8</td><td>1995</td><td>50</td><td> 85</td><td>2</td><td>14</td><td>no </td><td>no</td><td>yes</td><td>94</td><td>1</td><td>483.1383</td></tr>\n",
              "\t<tr><td> 9</td><td>2225</td><td>50</td><td>210</td><td>8</td><td>14</td><td>no </td><td>no</td><td>yes</td><td>94</td><td>1</td><td>358.0990</td></tr>\n",
              "\t<tr><td>10</td><td>2575</td><td>50</td><td>210</td><td>4</td><td>15</td><td>no </td><td>no</td><td>yes</td><td>94</td><td>1</td><td>358.1245</td></tr>\n",
              "\t<tr><td>11</td><td>2195</td><td>33</td><td>170</td><td>8</td><td>15</td><td>no </td><td>no</td><td>yes</td><td>94</td><td>1</td><td>398.5470</td></tr>\n",
              "\t<tr><td>12</td><td>2605</td><td>66</td><td>210</td><td>8</td><td>14</td><td>no </td><td>no</td><td>yes</td><td>94</td><td>1</td><td>358.3665</td></tr>\n",
              "\t<tr><td>13</td><td>2045</td><td>50</td><td>130</td><td>4</td><td>14</td><td>no </td><td>no</td><td>yes</td><td>94</td><td>1</td><td>438.1188</td></tr>\n",
              "\t<tr><td>14</td><td>2295</td><td>25</td><td>245</td><td>8</td><td>14</td><td>no </td><td>no</td><td>yes</td><td>94</td><td>1</td><td>324.2205</td></tr>\n",
              "\t<tr><td>15</td><td>2699</td><td>50</td><td>212</td><td>8</td><td>14</td><td>no </td><td>no</td><td>yes</td><td>94</td><td>1</td><td>356.0990</td></tr>\n",
              "\t<tr><td>16</td><td>2225</td><td>50</td><td>130</td><td>4</td><td>14</td><td>no </td><td>no</td><td>yes</td><td>94</td><td>1</td><td>438.1188</td></tr>\n",
              "\t<tr><td>17</td><td>1595</td><td>33</td><td> 85</td><td>2</td><td>14</td><td>no </td><td>no</td><td>yes</td><td>94</td><td>1</td><td>483.5080</td></tr>\n",
              "\t<tr><td>18</td><td>2325</td><td>33</td><td>210</td><td>4</td><td>15</td><td>no </td><td>no</td><td>yes</td><td>94</td><td>1</td><td>358.6231</td></tr>\n",
              "\t<tr><td>19</td><td>2095</td><td>33</td><td>250</td><td>4</td><td>15</td><td>no </td><td>no</td><td>yes</td><td>94</td><td>1</td><td>318.6897</td></tr>\n",
              "\t<tr><td>20</td><td>4395</td><td>66</td><td>452</td><td>8</td><td>14</td><td>no </td><td>no</td><td>yes</td><td>94</td><td>1</td><td>116.9334</td></tr>\n",
              "\t<tr><td>21</td><td>1695</td><td>33</td><td>130</td><td>4</td><td>14</td><td>no </td><td>no</td><td>yes</td><td>94</td><td>1</td><td>438.5265</td></tr>\n",
              "\t<tr><td>22</td><td>2795</td><td>66</td><td>130</td><td>4</td><td>14</td><td>no </td><td>no</td><td>yes</td><td>94</td><td>1</td><td>438.3375</td></tr>\n",
              "\t<tr><td>24</td><td>2875</td><td>50</td><td>210</td><td>4</td><td>17</td><td>no </td><td>no</td><td>yes</td><td>94</td><td>1</td><td>358.1245</td></tr>\n",
              "\t<tr><td>25</td><td>4195</td><td>50</td><td>452</td><td>8</td><td>14</td><td>no </td><td>no</td><td>yes</td><td>94</td><td>1</td><td>116.1110</td></tr>\n",
              "\t<tr><td>26</td><td>1290</td><td>33</td><td> 80</td><td>2</td><td>14</td><td>no </td><td>no</td><td>yes</td><td>94</td><td>1</td><td>488.5038</td></tr>\n",
              "\t<tr><td>27</td><td>1975</td><td>33</td><td>130</td><td>4</td><td>14</td><td>no </td><td>no</td><td>yes</td><td>94</td><td>1</td><td>438.5265</td></tr>\n",
              "\t<tr><td>28</td><td>3995</td><td>33</td><td>452</td><td>8</td><td>14</td><td>no </td><td>no</td><td>yes</td><td>94</td><td>1</td><td>117.6399</td></tr>\n",
              "\t<tr><td>30</td><td>3244</td><td>66</td><td>245</td><td>8</td><td>14</td><td>no </td><td>no</td><td>yes</td><td>94</td><td>1</td><td>323.3961</td></tr>\n",
              "\t<tr><td>31</td><td>1920</td><td>33</td><td>170</td><td>4</td><td>14</td><td>yes</td><td>no</td><td>yes</td><td>94</td><td>1</td><td>398.5700</td></tr>\n",
              "\t<tr><td>32</td><td>1995</td><td>25</td><td>130</td><td>4</td><td>14</td><td>no </td><td>no</td><td>yes</td><td>94</td><td>1</td><td>438.9461</td></tr>\n",
              "\t<tr><td>33</td><td>2595</td><td>33</td><td>210</td><td>8</td><td>17</td><td>no </td><td>no</td><td>yes</td><td>94</td><td>1</td><td>358.5976</td></tr>\n",
              "\t<tr><td>34</td><td>2475</td><td>50</td><td>210</td><td>4</td><td>15</td><td>no </td><td>no</td><td>yes</td><td>94</td><td>1</td><td>358.1245</td></tr>\n",
              "\t<tr><td>⋮</td><td>⋮</td><td>⋮</td><td>⋮</td><td>⋮</td><td>⋮</td><td>⋮</td><td>⋮</td><td>⋮</td><td>⋮</td><td>⋮</td><td>⋮</td></tr>\n",
              "\t<tr><td>6167</td><td>1949</td><td> 66</td><td> 420</td><td>8</td><td>15</td><td>no </td><td>no</td><td>no </td><td>40</td><td>33</td><td>148.75274</td></tr>\n",
              "\t<tr><td>6171</td><td>1754</td><td> 66</td><td> 850</td><td>8</td><td>15</td><td>yes</td><td>no</td><td>yes</td><td>40</td><td>33</td><td>282.25379</td></tr>\n",
              "\t<tr><td>6172</td><td>1445</td><td> 66</td><td>1000</td><td>4</td><td>14</td><td>no </td><td>no</td><td>yes</td><td>40</td><td>33</td><td>432.15452</td></tr>\n",
              "\t<tr><td>6173</td><td>1490</td><td>100</td><td> 528</td><td>4</td><td>15</td><td>no </td><td>no</td><td>yes</td><td>40</td><td>33</td><td> 62.68005</td></tr>\n",
              "\t<tr><td>6174</td><td>1944</td><td> 66</td><td> 850</td><td>8</td><td>15</td><td>yes</td><td>no</td><td>yes</td><td>40</td><td>33</td><td>282.25379</td></tr>\n",
              "\t<tr><td>6176</td><td>1395</td><td>100</td><td> 528</td><td>4</td><td>14</td><td>no </td><td>no</td><td>yes</td><td>40</td><td>33</td><td> 62.68005</td></tr>\n",
              "\t<tr><td>6178</td><td>1295</td><td> 66</td><td> 528</td><td>4</td><td>14</td><td>no </td><td>no</td><td>yes</td><td>40</td><td>33</td><td> 42.67946</td></tr>\n",
              "\t<tr><td>6180</td><td>1545</td><td>100</td><td>1000</td><td>4</td><td>14</td><td>no </td><td>no</td><td>yes</td><td>40</td><td>33</td><td>434.58576</td></tr>\n",
              "\t<tr><td>6182</td><td>1590</td><td> 66</td><td> 528</td><td>8</td><td>15</td><td>no </td><td>no</td><td>yes</td><td>39</td><td>34</td><td> 42.46459</td></tr>\n",
              "\t<tr><td>6187</td><td>1690</td><td>100</td><td> 528</td><td>8</td><td>15</td><td>no </td><td>no</td><td>yes</td><td>39</td><td>34</td><td> 62.53394</td></tr>\n",
              "\t<tr><td>6188</td><td>1844</td><td>100</td><td> 528</td><td>8</td><td>14</td><td>no </td><td>no</td><td>yes</td><td>39</td><td>34</td><td> 62.53394</td></tr>\n",
              "\t<tr><td>6191</td><td>1699</td><td> 66</td><td> 630</td><td>8</td><td>15</td><td>no </td><td>no</td><td>no </td><td>39</td><td>34</td><td> 63.46828</td></tr>\n",
              "\t<tr><td>6196</td><td>1495</td><td> 66</td><td> 528</td><td>8</td><td>14</td><td>no </td><td>no</td><td>yes</td><td>39</td><td>34</td><td> 42.46459</td></tr>\n",
              "\t<tr><td>6197</td><td>1840</td><td>100</td><td>1200</td><td>8</td><td>14</td><td>no </td><td>no</td><td>yes</td><td>39</td><td>34</td><td>633.72644</td></tr>\n",
              "\t<tr><td>6199</td><td>1595</td><td>100</td><td> 528</td><td>8</td><td>14</td><td>no </td><td>no</td><td>yes</td><td>39</td><td>34</td><td> 62.53394</td></tr>\n",
              "\t<tr><td>6214</td><td>1740</td><td> 66</td><td>1200</td><td>8</td><td>14</td><td>no </td><td>no</td><td>yes</td><td>39</td><td>34</td><td>632.06166</td></tr>\n",
              "\t<tr><td>6215</td><td>1554</td><td> 66</td><td> 528</td><td>8</td><td>14</td><td>no </td><td>no</td><td>yes</td><td>39</td><td>34</td><td> 42.46459</td></tr>\n",
              "\t<tr><td>6216</td><td>1654</td><td>100</td><td> 528</td><td>8</td><td>14</td><td>no </td><td>no</td><td>yes</td><td>39</td><td>34</td><td> 62.53394</td></tr>\n",
              "\t<tr><td>6220</td><td>1744</td><td> 66</td><td> 528</td><td>8</td><td>14</td><td>no </td><td>no</td><td>yes</td><td>39</td><td>34</td><td> 42.46459</td></tr>\n",
              "\t<tr><td>6224</td><td>1790</td><td>100</td><td>1200</td><td>8</td><td>14</td><td>no </td><td>no</td><td>yes</td><td>39</td><td>35</td><td>633.72644</td></tr>\n",
              "\t<tr><td>6225</td><td>1590</td><td> 66</td><td> 528</td><td>8</td><td>15</td><td>no </td><td>no</td><td>yes</td><td>39</td><td>35</td><td> 42.46459</td></tr>\n",
              "\t<tr><td>6233</td><td>1495</td><td> 66</td><td> 528</td><td>8</td><td>14</td><td>no </td><td>no</td><td>yes</td><td>39</td><td>35</td><td> 42.46459</td></tr>\n",
              "\t<tr><td>6234</td><td>1844</td><td>100</td><td> 528</td><td>8</td><td>14</td><td>no </td><td>no</td><td>yes</td><td>39</td><td>35</td><td> 62.53394</td></tr>\n",
              "\t<tr><td>6235</td><td>1699</td><td> 66</td><td> 630</td><td>8</td><td>15</td><td>no </td><td>no</td><td>no </td><td>39</td><td>35</td><td> 63.46828</td></tr>\n",
              "\t<tr><td>6239</td><td>1744</td><td> 66</td><td> 528</td><td>8</td><td>14</td><td>no </td><td>no</td><td>yes</td><td>39</td><td>35</td><td> 42.46459</td></tr>\n",
              "\t<tr><td>6241</td><td>1595</td><td>100</td><td> 528</td><td>8</td><td>14</td><td>no </td><td>no</td><td>yes</td><td>39</td><td>35</td><td> 62.53394</td></tr>\n",
              "\t<tr><td>6247</td><td>1554</td><td> 66</td><td> 528</td><td>8</td><td>14</td><td>no </td><td>no</td><td>yes</td><td>39</td><td>35</td><td> 42.46459</td></tr>\n",
              "\t<tr><td>6248</td><td>1654</td><td>100</td><td> 528</td><td>8</td><td>14</td><td>no </td><td>no</td><td>yes</td><td>39</td><td>35</td><td> 62.53394</td></tr>\n",
              "\t<tr><td>6253</td><td>1690</td><td> 66</td><td>1200</td><td>8</td><td>14</td><td>no </td><td>no</td><td>yes</td><td>39</td><td>35</td><td>632.06166</td></tr>\n",
              "\t<tr><td>6255</td><td>1690</td><td>100</td><td> 528</td><td>8</td><td>15</td><td>no </td><td>no</td><td>yes</td><td>39</td><td>35</td><td> 62.53394</td></tr>\n",
              "</tbody>\n",
              "</table>\n"
            ],
            "text/markdown": "\nA tibble: 4950 × 12\n\n| ...1 &lt;int&gt; | price &lt;int&gt; | speed &lt;int&gt; | hd &lt;int&gt; | ram &lt;int&gt; | screen &lt;int&gt; | cd &lt;chr&gt; | multi &lt;chr&gt; | premium &lt;chr&gt; | ads &lt;int&gt; | trend &lt;int&gt; | eucl &lt;dbl&gt; |\n|---|---|---|---|---|---|---|---|---|---|---|---|\n|  1 | 1499 | 25 |  80 | 4 | 14 | no  | no | yes | 94 | 1 | 488.8588 |\n|  2 | 1795 | 33 |  85 | 2 | 14 | no  | no | yes | 94 | 1 | 483.5080 |\n|  3 | 1595 | 25 | 170 | 4 | 15 | no  | no | yes | 94 | 1 | 399.0316 |\n|  4 | 1849 | 25 | 170 | 8 | 14 | no  | no | no  | 94 | 1 | 399.0086 |\n|  7 | 1720 | 25 | 170 | 4 | 14 | yes | no | yes | 94 | 1 | 399.0316 |\n|  8 | 1995 | 50 |  85 | 2 | 14 | no  | no | yes | 94 | 1 | 483.1383 |\n|  9 | 2225 | 50 | 210 | 8 | 14 | no  | no | yes | 94 | 1 | 358.0990 |\n| 10 | 2575 | 50 | 210 | 4 | 15 | no  | no | yes | 94 | 1 | 358.1245 |\n| 11 | 2195 | 33 | 170 | 8 | 15 | no  | no | yes | 94 | 1 | 398.5470 |\n| 12 | 2605 | 66 | 210 | 8 | 14 | no  | no | yes | 94 | 1 | 358.3665 |\n| 13 | 2045 | 50 | 130 | 4 | 14 | no  | no | yes | 94 | 1 | 438.1188 |\n| 14 | 2295 | 25 | 245 | 8 | 14 | no  | no | yes | 94 | 1 | 324.2205 |\n| 15 | 2699 | 50 | 212 | 8 | 14 | no  | no | yes | 94 | 1 | 356.0990 |\n| 16 | 2225 | 50 | 130 | 4 | 14 | no  | no | yes | 94 | 1 | 438.1188 |\n| 17 | 1595 | 33 |  85 | 2 | 14 | no  | no | yes | 94 | 1 | 483.5080 |\n| 18 | 2325 | 33 | 210 | 4 | 15 | no  | no | yes | 94 | 1 | 358.6231 |\n| 19 | 2095 | 33 | 250 | 4 | 15 | no  | no | yes | 94 | 1 | 318.6897 |\n| 20 | 4395 | 66 | 452 | 8 | 14 | no  | no | yes | 94 | 1 | 116.9334 |\n| 21 | 1695 | 33 | 130 | 4 | 14 | no  | no | yes | 94 | 1 | 438.5265 |\n| 22 | 2795 | 66 | 130 | 4 | 14 | no  | no | yes | 94 | 1 | 438.3375 |\n| 24 | 2875 | 50 | 210 | 4 | 17 | no  | no | yes | 94 | 1 | 358.1245 |\n| 25 | 4195 | 50 | 452 | 8 | 14 | no  | no | yes | 94 | 1 | 116.1110 |\n| 26 | 1290 | 33 |  80 | 2 | 14 | no  | no | yes | 94 | 1 | 488.5038 |\n| 27 | 1975 | 33 | 130 | 4 | 14 | no  | no | yes | 94 | 1 | 438.5265 |\n| 28 | 3995 | 33 | 452 | 8 | 14 | no  | no | yes | 94 | 1 | 117.6399 |\n| 30 | 3244 | 66 | 245 | 8 | 14 | no  | no | yes | 94 | 1 | 323.3961 |\n| 31 | 1920 | 33 | 170 | 4 | 14 | yes | no | yes | 94 | 1 | 398.5700 |\n| 32 | 1995 | 25 | 130 | 4 | 14 | no  | no | yes | 94 | 1 | 438.9461 |\n| 33 | 2595 | 33 | 210 | 8 | 17 | no  | no | yes | 94 | 1 | 358.5976 |\n| 34 | 2475 | 50 | 210 | 4 | 15 | no  | no | yes | 94 | 1 | 358.1245 |\n| ⋮ | ⋮ | ⋮ | ⋮ | ⋮ | ⋮ | ⋮ | ⋮ | ⋮ | ⋮ | ⋮ | ⋮ |\n| 6167 | 1949 |  66 |  420 | 8 | 15 | no  | no | no  | 40 | 33 | 148.75274 |\n| 6171 | 1754 |  66 |  850 | 8 | 15 | yes | no | yes | 40 | 33 | 282.25379 |\n| 6172 | 1445 |  66 | 1000 | 4 | 14 | no  | no | yes | 40 | 33 | 432.15452 |\n| 6173 | 1490 | 100 |  528 | 4 | 15 | no  | no | yes | 40 | 33 |  62.68005 |\n| 6174 | 1944 |  66 |  850 | 8 | 15 | yes | no | yes | 40 | 33 | 282.25379 |\n| 6176 | 1395 | 100 |  528 | 4 | 14 | no  | no | yes | 40 | 33 |  62.68005 |\n| 6178 | 1295 |  66 |  528 | 4 | 14 | no  | no | yes | 40 | 33 |  42.67946 |\n| 6180 | 1545 | 100 | 1000 | 4 | 14 | no  | no | yes | 40 | 33 | 434.58576 |\n| 6182 | 1590 |  66 |  528 | 8 | 15 | no  | no | yes | 39 | 34 |  42.46459 |\n| 6187 | 1690 | 100 |  528 | 8 | 15 | no  | no | yes | 39 | 34 |  62.53394 |\n| 6188 | 1844 | 100 |  528 | 8 | 14 | no  | no | yes | 39 | 34 |  62.53394 |\n| 6191 | 1699 |  66 |  630 | 8 | 15 | no  | no | no  | 39 | 34 |  63.46828 |\n| 6196 | 1495 |  66 |  528 | 8 | 14 | no  | no | yes | 39 | 34 |  42.46459 |\n| 6197 | 1840 | 100 | 1200 | 8 | 14 | no  | no | yes | 39 | 34 | 633.72644 |\n| 6199 | 1595 | 100 |  528 | 8 | 14 | no  | no | yes | 39 | 34 |  62.53394 |\n| 6214 | 1740 |  66 | 1200 | 8 | 14 | no  | no | yes | 39 | 34 | 632.06166 |\n| 6215 | 1554 |  66 |  528 | 8 | 14 | no  | no | yes | 39 | 34 |  42.46459 |\n| 6216 | 1654 | 100 |  528 | 8 | 14 | no  | no | yes | 39 | 34 |  62.53394 |\n| 6220 | 1744 |  66 |  528 | 8 | 14 | no  | no | yes | 39 | 34 |  42.46459 |\n| 6224 | 1790 | 100 | 1200 | 8 | 14 | no  | no | yes | 39 | 35 | 633.72644 |\n| 6225 | 1590 |  66 |  528 | 8 | 15 | no  | no | yes | 39 | 35 |  42.46459 |\n| 6233 | 1495 |  66 |  528 | 8 | 14 | no  | no | yes | 39 | 35 |  42.46459 |\n| 6234 | 1844 | 100 |  528 | 8 | 14 | no  | no | yes | 39 | 35 |  62.53394 |\n| 6235 | 1699 |  66 |  630 | 8 | 15 | no  | no | no  | 39 | 35 |  63.46828 |\n| 6239 | 1744 |  66 |  528 | 8 | 14 | no  | no | yes | 39 | 35 |  42.46459 |\n| 6241 | 1595 | 100 |  528 | 8 | 14 | no  | no | yes | 39 | 35 |  62.53394 |\n| 6247 | 1554 |  66 |  528 | 8 | 14 | no  | no | yes | 39 | 35 |  42.46459 |\n| 6248 | 1654 | 100 |  528 | 8 | 14 | no  | no | yes | 39 | 35 |  62.53394 |\n| 6253 | 1690 |  66 | 1200 | 8 | 14 | no  | no | yes | 39 | 35 | 632.06166 |\n| 6255 | 1690 | 100 |  528 | 8 | 15 | no  | no | yes | 39 | 35 |  62.53394 |\n\n",
            "text/latex": "A tibble: 4950 × 12\n\\begin{tabular}{llllllllllll}\n ...1 & price & speed & hd & ram & screen & cd & multi & premium & ads & trend & eucl\\\\\n <int> & <int> & <int> & <int> & <int> & <int> & <chr> & <chr> & <chr> & <int> & <int> & <dbl>\\\\\n\\hline\n\t  1 & 1499 & 25 &  80 & 4 & 14 & no  & no & yes & 94 & 1 & 488.8588\\\\\n\t  2 & 1795 & 33 &  85 & 2 & 14 & no  & no & yes & 94 & 1 & 483.5080\\\\\n\t  3 & 1595 & 25 & 170 & 4 & 15 & no  & no & yes & 94 & 1 & 399.0316\\\\\n\t  4 & 1849 & 25 & 170 & 8 & 14 & no  & no & no  & 94 & 1 & 399.0086\\\\\n\t  7 & 1720 & 25 & 170 & 4 & 14 & yes & no & yes & 94 & 1 & 399.0316\\\\\n\t  8 & 1995 & 50 &  85 & 2 & 14 & no  & no & yes & 94 & 1 & 483.1383\\\\\n\t  9 & 2225 & 50 & 210 & 8 & 14 & no  & no & yes & 94 & 1 & 358.0990\\\\\n\t 10 & 2575 & 50 & 210 & 4 & 15 & no  & no & yes & 94 & 1 & 358.1245\\\\\n\t 11 & 2195 & 33 & 170 & 8 & 15 & no  & no & yes & 94 & 1 & 398.5470\\\\\n\t 12 & 2605 & 66 & 210 & 8 & 14 & no  & no & yes & 94 & 1 & 358.3665\\\\\n\t 13 & 2045 & 50 & 130 & 4 & 14 & no  & no & yes & 94 & 1 & 438.1188\\\\\n\t 14 & 2295 & 25 & 245 & 8 & 14 & no  & no & yes & 94 & 1 & 324.2205\\\\\n\t 15 & 2699 & 50 & 212 & 8 & 14 & no  & no & yes & 94 & 1 & 356.0990\\\\\n\t 16 & 2225 & 50 & 130 & 4 & 14 & no  & no & yes & 94 & 1 & 438.1188\\\\\n\t 17 & 1595 & 33 &  85 & 2 & 14 & no  & no & yes & 94 & 1 & 483.5080\\\\\n\t 18 & 2325 & 33 & 210 & 4 & 15 & no  & no & yes & 94 & 1 & 358.6231\\\\\n\t 19 & 2095 & 33 & 250 & 4 & 15 & no  & no & yes & 94 & 1 & 318.6897\\\\\n\t 20 & 4395 & 66 & 452 & 8 & 14 & no  & no & yes & 94 & 1 & 116.9334\\\\\n\t 21 & 1695 & 33 & 130 & 4 & 14 & no  & no & yes & 94 & 1 & 438.5265\\\\\n\t 22 & 2795 & 66 & 130 & 4 & 14 & no  & no & yes & 94 & 1 & 438.3375\\\\\n\t 24 & 2875 & 50 & 210 & 4 & 17 & no  & no & yes & 94 & 1 & 358.1245\\\\\n\t 25 & 4195 & 50 & 452 & 8 & 14 & no  & no & yes & 94 & 1 & 116.1110\\\\\n\t 26 & 1290 & 33 &  80 & 2 & 14 & no  & no & yes & 94 & 1 & 488.5038\\\\\n\t 27 & 1975 & 33 & 130 & 4 & 14 & no  & no & yes & 94 & 1 & 438.5265\\\\\n\t 28 & 3995 & 33 & 452 & 8 & 14 & no  & no & yes & 94 & 1 & 117.6399\\\\\n\t 30 & 3244 & 66 & 245 & 8 & 14 & no  & no & yes & 94 & 1 & 323.3961\\\\\n\t 31 & 1920 & 33 & 170 & 4 & 14 & yes & no & yes & 94 & 1 & 398.5700\\\\\n\t 32 & 1995 & 25 & 130 & 4 & 14 & no  & no & yes & 94 & 1 & 438.9461\\\\\n\t 33 & 2595 & 33 & 210 & 8 & 17 & no  & no & yes & 94 & 1 & 358.5976\\\\\n\t 34 & 2475 & 50 & 210 & 4 & 15 & no  & no & yes & 94 & 1 & 358.1245\\\\\n\t ⋮ & ⋮ & ⋮ & ⋮ & ⋮ & ⋮ & ⋮ & ⋮ & ⋮ & ⋮ & ⋮ & ⋮\\\\\n\t 6167 & 1949 &  66 &  420 & 8 & 15 & no  & no & no  & 40 & 33 & 148.75274\\\\\n\t 6171 & 1754 &  66 &  850 & 8 & 15 & yes & no & yes & 40 & 33 & 282.25379\\\\\n\t 6172 & 1445 &  66 & 1000 & 4 & 14 & no  & no & yes & 40 & 33 & 432.15452\\\\\n\t 6173 & 1490 & 100 &  528 & 4 & 15 & no  & no & yes & 40 & 33 &  62.68005\\\\\n\t 6174 & 1944 &  66 &  850 & 8 & 15 & yes & no & yes & 40 & 33 & 282.25379\\\\\n\t 6176 & 1395 & 100 &  528 & 4 & 14 & no  & no & yes & 40 & 33 &  62.68005\\\\\n\t 6178 & 1295 &  66 &  528 & 4 & 14 & no  & no & yes & 40 & 33 &  42.67946\\\\\n\t 6180 & 1545 & 100 & 1000 & 4 & 14 & no  & no & yes & 40 & 33 & 434.58576\\\\\n\t 6182 & 1590 &  66 &  528 & 8 & 15 & no  & no & yes & 39 & 34 &  42.46459\\\\\n\t 6187 & 1690 & 100 &  528 & 8 & 15 & no  & no & yes & 39 & 34 &  62.53394\\\\\n\t 6188 & 1844 & 100 &  528 & 8 & 14 & no  & no & yes & 39 & 34 &  62.53394\\\\\n\t 6191 & 1699 &  66 &  630 & 8 & 15 & no  & no & no  & 39 & 34 &  63.46828\\\\\n\t 6196 & 1495 &  66 &  528 & 8 & 14 & no  & no & yes & 39 & 34 &  42.46459\\\\\n\t 6197 & 1840 & 100 & 1200 & 8 & 14 & no  & no & yes & 39 & 34 & 633.72644\\\\\n\t 6199 & 1595 & 100 &  528 & 8 & 14 & no  & no & yes & 39 & 34 &  62.53394\\\\\n\t 6214 & 1740 &  66 & 1200 & 8 & 14 & no  & no & yes & 39 & 34 & 632.06166\\\\\n\t 6215 & 1554 &  66 &  528 & 8 & 14 & no  & no & yes & 39 & 34 &  42.46459\\\\\n\t 6216 & 1654 & 100 &  528 & 8 & 14 & no  & no & yes & 39 & 34 &  62.53394\\\\\n\t 6220 & 1744 &  66 &  528 & 8 & 14 & no  & no & yes & 39 & 34 &  42.46459\\\\\n\t 6224 & 1790 & 100 & 1200 & 8 & 14 & no  & no & yes & 39 & 35 & 633.72644\\\\\n\t 6225 & 1590 &  66 &  528 & 8 & 15 & no  & no & yes & 39 & 35 &  42.46459\\\\\n\t 6233 & 1495 &  66 &  528 & 8 & 14 & no  & no & yes & 39 & 35 &  42.46459\\\\\n\t 6234 & 1844 & 100 &  528 & 8 & 14 & no  & no & yes & 39 & 35 &  62.53394\\\\\n\t 6235 & 1699 &  66 &  630 & 8 & 15 & no  & no & no  & 39 & 35 &  63.46828\\\\\n\t 6239 & 1744 &  66 &  528 & 8 & 14 & no  & no & yes & 39 & 35 &  42.46459\\\\\n\t 6241 & 1595 & 100 &  528 & 8 & 14 & no  & no & yes & 39 & 35 &  62.53394\\\\\n\t 6247 & 1554 &  66 &  528 & 8 & 14 & no  & no & yes & 39 & 35 &  42.46459\\\\\n\t 6248 & 1654 & 100 &  528 & 8 & 14 & no  & no & yes & 39 & 35 &  62.53394\\\\\n\t 6253 & 1690 &  66 & 1200 & 8 & 14 & no  & no & yes & 39 & 35 & 632.06166\\\\\n\t 6255 & 1690 & 100 &  528 & 8 & 15 & no  & no & yes & 39 & 35 &  62.53394\\\\\n\\end{tabular}\n",
            "text/plain": [
              "     ...1 price speed hd   ram screen cd  multi premium ads trend eucl     \n",
              "1     1   1499  25     80  4   14     no  no    yes     94  1     488.8588 \n",
              "2     2   1795  33     85  2   14     no  no    yes     94  1     483.5080 \n",
              "3     3   1595  25    170  4   15     no  no    yes     94  1     399.0316 \n",
              "4     4   1849  25    170  8   14     no  no    no      94  1     399.0086 \n",
              "5     7   1720  25    170  4   14     yes no    yes     94  1     399.0316 \n",
              "6     8   1995  50     85  2   14     no  no    yes     94  1     483.1383 \n",
              "7     9   2225  50    210  8   14     no  no    yes     94  1     358.0990 \n",
              "8    10   2575  50    210  4   15     no  no    yes     94  1     358.1245 \n",
              "9    11   2195  33    170  8   15     no  no    yes     94  1     398.5470 \n",
              "10   12   2605  66    210  8   14     no  no    yes     94  1     358.3665 \n",
              "11   13   2045  50    130  4   14     no  no    yes     94  1     438.1188 \n",
              "12   14   2295  25    245  8   14     no  no    yes     94  1     324.2205 \n",
              "13   15   2699  50    212  8   14     no  no    yes     94  1     356.0990 \n",
              "14   16   2225  50    130  4   14     no  no    yes     94  1     438.1188 \n",
              "15   17   1595  33     85  2   14     no  no    yes     94  1     483.5080 \n",
              "16   18   2325  33    210  4   15     no  no    yes     94  1     358.6231 \n",
              "17   19   2095  33    250  4   15     no  no    yes     94  1     318.6897 \n",
              "18   20   4395  66    452  8   14     no  no    yes     94  1     116.9334 \n",
              "19   21   1695  33    130  4   14     no  no    yes     94  1     438.5265 \n",
              "20   22   2795  66    130  4   14     no  no    yes     94  1     438.3375 \n",
              "21   24   2875  50    210  4   17     no  no    yes     94  1     358.1245 \n",
              "22   25   4195  50    452  8   14     no  no    yes     94  1     116.1110 \n",
              "23   26   1290  33     80  2   14     no  no    yes     94  1     488.5038 \n",
              "24   27   1975  33    130  4   14     no  no    yes     94  1     438.5265 \n",
              "25   28   3995  33    452  8   14     no  no    yes     94  1     117.6399 \n",
              "26   30   3244  66    245  8   14     no  no    yes     94  1     323.3961 \n",
              "27   31   1920  33    170  4   14     yes no    yes     94  1     398.5700 \n",
              "28   32   1995  25    130  4   14     no  no    yes     94  1     438.9461 \n",
              "29   33   2595  33    210  8   17     no  no    yes     94  1     358.5976 \n",
              "30   34   2475  50    210  4   15     no  no    yes     94  1     358.1245 \n",
              "⋮    ⋮    ⋮     ⋮     ⋮    ⋮   ⋮      ⋮   ⋮     ⋮       ⋮   ⋮     ⋮        \n",
              "4921 6167 1949   66    420 8   15     no  no    no      40  33    148.75274\n",
              "4922 6171 1754   66    850 8   15     yes no    yes     40  33    282.25379\n",
              "4923 6172 1445   66   1000 4   14     no  no    yes     40  33    432.15452\n",
              "4924 6173 1490  100    528 4   15     no  no    yes     40  33     62.68005\n",
              "4925 6174 1944   66    850 8   15     yes no    yes     40  33    282.25379\n",
              "4926 6176 1395  100    528 4   14     no  no    yes     40  33     62.68005\n",
              "4927 6178 1295   66    528 4   14     no  no    yes     40  33     42.67946\n",
              "4928 6180 1545  100   1000 4   14     no  no    yes     40  33    434.58576\n",
              "4929 6182 1590   66    528 8   15     no  no    yes     39  34     42.46459\n",
              "4930 6187 1690  100    528 8   15     no  no    yes     39  34     62.53394\n",
              "4931 6188 1844  100    528 8   14     no  no    yes     39  34     62.53394\n",
              "4932 6191 1699   66    630 8   15     no  no    no      39  34     63.46828\n",
              "4933 6196 1495   66    528 8   14     no  no    yes     39  34     42.46459\n",
              "4934 6197 1840  100   1200 8   14     no  no    yes     39  34    633.72644\n",
              "4935 6199 1595  100    528 8   14     no  no    yes     39  34     62.53394\n",
              "4936 6214 1740   66   1200 8   14     no  no    yes     39  34    632.06166\n",
              "4937 6215 1554   66    528 8   14     no  no    yes     39  34     42.46459\n",
              "4938 6216 1654  100    528 8   14     no  no    yes     39  34     62.53394\n",
              "4939 6220 1744   66    528 8   14     no  no    yes     39  34     42.46459\n",
              "4940 6224 1790  100   1200 8   14     no  no    yes     39  35    633.72644\n",
              "4941 6225 1590   66    528 8   15     no  no    yes     39  35     42.46459\n",
              "4942 6233 1495   66    528 8   14     no  no    yes     39  35     42.46459\n",
              "4943 6234 1844  100    528 8   14     no  no    yes     39  35     62.53394\n",
              "4944 6235 1699   66    630 8   15     no  no    no      39  35     63.46828\n",
              "4945 6239 1744   66    528 8   14     no  no    yes     39  35     42.46459\n",
              "4946 6241 1595  100    528 8   14     no  no    yes     39  35     62.53394\n",
              "4947 6247 1554   66    528 8   14     no  no    yes     39  35     42.46459\n",
              "4948 6248 1654  100    528 8   14     no  no    yes     39  35     62.53394\n",
              "4949 6253 1690   66   1200 8   14     no  no    yes     39  35    632.06166\n",
              "4950 6255 1690  100    528 8   15     no  no    yes     39  35     62.53394"
            ]
          },
          "metadata": {}
        }
      ]
    },
    {
      "cell_type": "code",
      "source": [
        "comp3 <- subset(C3_dataset, eucl == min(C3_dataset$eucl))\n",
        "View(comp3)"
      ],
      "metadata": {
        "id": "bmY-L5D7tvBW",
        "outputId": "b33cd89f-7b95-4819-aa29-23ae63f73996",
        "colab": {
          "base_uri": "https://localhost:8080/",
          "height": 913
        }
      },
      "id": "bmY-L5D7tvBW",
      "execution_count": 133,
      "outputs": [
        {
          "output_type": "display_data",
          "data": {
            "text/plain": [
              "   ...1 price speed hd  ram screen cd  multi premium ads trend eucl    \n",
              "1  4757 1499  50    545 4   15     yes no    yes     162 22    23.57369\n",
              "2  4909 1499  50    545 4   15     yes no    yes     191 23    23.57369\n",
              "3  5158 1758  50    545 4   17     yes no    yes     182 24    23.57369\n",
              "4  5178 1499  50    545 4   15     yes no    yes     182 24    23.57369\n",
              "5  5310 1748  50    545 4   17     yes no    yes     158 25    23.57369\n",
              "6  5349 1499  50    545 4   15     yes no    yes     158 25    23.57369\n",
              "7  5477 1499  50    545 4   15     yes no    yes     152 26    23.57369\n",
              "8  5489 1748  50    545 4   17     yes no    yes     152 26    23.57369\n",
              "9  5539 1838  50    545 4   17     yes no    yes     152 26    23.57369\n",
              "10 5554 1808  50    545 4   17     yes no    yes     163 27    23.57369\n",
              "11 5681 1724  50    545 4   17     yes no    yes     163 27    23.57369\n",
              "12 5694 1499  50    545 4   15     yes no    yes     163 27    23.57369\n",
              "13 5793 1199  50    545 4   14     no  no    yes     132 28    23.57369\n",
              "14 5794 1724  50    545 4   17     yes yes   yes     132 28    23.57369\n",
              "15 5801 1499  50    545 4   15     yes no    yes     132 28    23.57369\n",
              "16 5819 1808  50    545 4   17     yes no    yes     132 28    23.57369\n",
              "17 5821 1808  50    545 4   17     yes yes   yes     132 28    23.57369\n",
              "18 5826 1724  50    545 4   17     yes no    yes     132 28    23.57369\n",
              "19 5827 1499  50    545 4   15     yes yes   yes     132 28    23.57369\n",
              "20 5852 1704  50    545 4   17     yes yes   yes     129 29    23.57369\n",
              "21 5868 1808  50    545 4   17     yes yes   yes     129 29    23.57369\n",
              "22 5872 1808  50    545 4   17     yes no    yes     129 29    23.57369\n",
              "23 5881 1499  50    545 4   15     yes yes   yes     129 29    23.57369\n",
              "24 5924 1499  50    545 4   15     yes no    yes     129 29    23.57369\n",
              "25 5928 1704  50    545 4   17     yes no    yes     129 29    23.57369\n",
              "26 5958 1199  50    545 4   14     no  no    yes     129 29    23.57369"
            ],
            "text/html": [
              "<table class=\"dataframe\">\n",
              "<caption>A tibble: 26 × 12</caption>\n",
              "<thead>\n",
              "\t<tr><th scope=col>...1</th><th scope=col>price</th><th scope=col>speed</th><th scope=col>hd</th><th scope=col>ram</th><th scope=col>screen</th><th scope=col>cd</th><th scope=col>multi</th><th scope=col>premium</th><th scope=col>ads</th><th scope=col>trend</th><th scope=col>eucl</th></tr>\n",
              "\t<tr><th scope=col>&lt;int&gt;</th><th scope=col>&lt;int&gt;</th><th scope=col>&lt;int&gt;</th><th scope=col>&lt;int&gt;</th><th scope=col>&lt;int&gt;</th><th scope=col>&lt;int&gt;</th><th scope=col>&lt;chr&gt;</th><th scope=col>&lt;chr&gt;</th><th scope=col>&lt;chr&gt;</th><th scope=col>&lt;int&gt;</th><th scope=col>&lt;int&gt;</th><th scope=col>&lt;dbl&gt;</th></tr>\n",
              "</thead>\n",
              "<tbody>\n",
              "\t<tr><td>4757</td><td>1499</td><td>50</td><td>545</td><td>4</td><td>15</td><td>yes</td><td>no </td><td>yes</td><td>162</td><td>22</td><td>23.57369</td></tr>\n",
              "\t<tr><td>4909</td><td>1499</td><td>50</td><td>545</td><td>4</td><td>15</td><td>yes</td><td>no </td><td>yes</td><td>191</td><td>23</td><td>23.57369</td></tr>\n",
              "\t<tr><td>5158</td><td>1758</td><td>50</td><td>545</td><td>4</td><td>17</td><td>yes</td><td>no </td><td>yes</td><td>182</td><td>24</td><td>23.57369</td></tr>\n",
              "\t<tr><td>5178</td><td>1499</td><td>50</td><td>545</td><td>4</td><td>15</td><td>yes</td><td>no </td><td>yes</td><td>182</td><td>24</td><td>23.57369</td></tr>\n",
              "\t<tr><td>5310</td><td>1748</td><td>50</td><td>545</td><td>4</td><td>17</td><td>yes</td><td>no </td><td>yes</td><td>158</td><td>25</td><td>23.57369</td></tr>\n",
              "\t<tr><td>5349</td><td>1499</td><td>50</td><td>545</td><td>4</td><td>15</td><td>yes</td><td>no </td><td>yes</td><td>158</td><td>25</td><td>23.57369</td></tr>\n",
              "\t<tr><td>5477</td><td>1499</td><td>50</td><td>545</td><td>4</td><td>15</td><td>yes</td><td>no </td><td>yes</td><td>152</td><td>26</td><td>23.57369</td></tr>\n",
              "\t<tr><td>5489</td><td>1748</td><td>50</td><td>545</td><td>4</td><td>17</td><td>yes</td><td>no </td><td>yes</td><td>152</td><td>26</td><td>23.57369</td></tr>\n",
              "\t<tr><td>5539</td><td>1838</td><td>50</td><td>545</td><td>4</td><td>17</td><td>yes</td><td>no </td><td>yes</td><td>152</td><td>26</td><td>23.57369</td></tr>\n",
              "\t<tr><td>5554</td><td>1808</td><td>50</td><td>545</td><td>4</td><td>17</td><td>yes</td><td>no </td><td>yes</td><td>163</td><td>27</td><td>23.57369</td></tr>\n",
              "\t<tr><td>5681</td><td>1724</td><td>50</td><td>545</td><td>4</td><td>17</td><td>yes</td><td>no </td><td>yes</td><td>163</td><td>27</td><td>23.57369</td></tr>\n",
              "\t<tr><td>5694</td><td>1499</td><td>50</td><td>545</td><td>4</td><td>15</td><td>yes</td><td>no </td><td>yes</td><td>163</td><td>27</td><td>23.57369</td></tr>\n",
              "\t<tr><td>5793</td><td>1199</td><td>50</td><td>545</td><td>4</td><td>14</td><td>no </td><td>no </td><td>yes</td><td>132</td><td>28</td><td>23.57369</td></tr>\n",
              "\t<tr><td>5794</td><td>1724</td><td>50</td><td>545</td><td>4</td><td>17</td><td>yes</td><td>yes</td><td>yes</td><td>132</td><td>28</td><td>23.57369</td></tr>\n",
              "\t<tr><td>5801</td><td>1499</td><td>50</td><td>545</td><td>4</td><td>15</td><td>yes</td><td>no </td><td>yes</td><td>132</td><td>28</td><td>23.57369</td></tr>\n",
              "\t<tr><td>5819</td><td>1808</td><td>50</td><td>545</td><td>4</td><td>17</td><td>yes</td><td>no </td><td>yes</td><td>132</td><td>28</td><td>23.57369</td></tr>\n",
              "\t<tr><td>5821</td><td>1808</td><td>50</td><td>545</td><td>4</td><td>17</td><td>yes</td><td>yes</td><td>yes</td><td>132</td><td>28</td><td>23.57369</td></tr>\n",
              "\t<tr><td>5826</td><td>1724</td><td>50</td><td>545</td><td>4</td><td>17</td><td>yes</td><td>no </td><td>yes</td><td>132</td><td>28</td><td>23.57369</td></tr>\n",
              "\t<tr><td>5827</td><td>1499</td><td>50</td><td>545</td><td>4</td><td>15</td><td>yes</td><td>yes</td><td>yes</td><td>132</td><td>28</td><td>23.57369</td></tr>\n",
              "\t<tr><td>5852</td><td>1704</td><td>50</td><td>545</td><td>4</td><td>17</td><td>yes</td><td>yes</td><td>yes</td><td>129</td><td>29</td><td>23.57369</td></tr>\n",
              "\t<tr><td>5868</td><td>1808</td><td>50</td><td>545</td><td>4</td><td>17</td><td>yes</td><td>yes</td><td>yes</td><td>129</td><td>29</td><td>23.57369</td></tr>\n",
              "\t<tr><td>5872</td><td>1808</td><td>50</td><td>545</td><td>4</td><td>17</td><td>yes</td><td>no </td><td>yes</td><td>129</td><td>29</td><td>23.57369</td></tr>\n",
              "\t<tr><td>5881</td><td>1499</td><td>50</td><td>545</td><td>4</td><td>15</td><td>yes</td><td>yes</td><td>yes</td><td>129</td><td>29</td><td>23.57369</td></tr>\n",
              "\t<tr><td>5924</td><td>1499</td><td>50</td><td>545</td><td>4</td><td>15</td><td>yes</td><td>no </td><td>yes</td><td>129</td><td>29</td><td>23.57369</td></tr>\n",
              "\t<tr><td>5928</td><td>1704</td><td>50</td><td>545</td><td>4</td><td>17</td><td>yes</td><td>no </td><td>yes</td><td>129</td><td>29</td><td>23.57369</td></tr>\n",
              "\t<tr><td>5958</td><td>1199</td><td>50</td><td>545</td><td>4</td><td>14</td><td>no </td><td>no </td><td>yes</td><td>129</td><td>29</td><td>23.57369</td></tr>\n",
              "</tbody>\n",
              "</table>\n"
            ],
            "text/markdown": "\nA tibble: 26 × 12\n\n| ...1 &lt;int&gt; | price &lt;int&gt; | speed &lt;int&gt; | hd &lt;int&gt; | ram &lt;int&gt; | screen &lt;int&gt; | cd &lt;chr&gt; | multi &lt;chr&gt; | premium &lt;chr&gt; | ads &lt;int&gt; | trend &lt;int&gt; | eucl &lt;dbl&gt; |\n|---|---|---|---|---|---|---|---|---|---|---|---|\n| 4757 | 1499 | 50 | 545 | 4 | 15 | yes | no  | yes | 162 | 22 | 23.57369 |\n| 4909 | 1499 | 50 | 545 | 4 | 15 | yes | no  | yes | 191 | 23 | 23.57369 |\n| 5158 | 1758 | 50 | 545 | 4 | 17 | yes | no  | yes | 182 | 24 | 23.57369 |\n| 5178 | 1499 | 50 | 545 | 4 | 15 | yes | no  | yes | 182 | 24 | 23.57369 |\n| 5310 | 1748 | 50 | 545 | 4 | 17 | yes | no  | yes | 158 | 25 | 23.57369 |\n| 5349 | 1499 | 50 | 545 | 4 | 15 | yes | no  | yes | 158 | 25 | 23.57369 |\n| 5477 | 1499 | 50 | 545 | 4 | 15 | yes | no  | yes | 152 | 26 | 23.57369 |\n| 5489 | 1748 | 50 | 545 | 4 | 17 | yes | no  | yes | 152 | 26 | 23.57369 |\n| 5539 | 1838 | 50 | 545 | 4 | 17 | yes | no  | yes | 152 | 26 | 23.57369 |\n| 5554 | 1808 | 50 | 545 | 4 | 17 | yes | no  | yes | 163 | 27 | 23.57369 |\n| 5681 | 1724 | 50 | 545 | 4 | 17 | yes | no  | yes | 163 | 27 | 23.57369 |\n| 5694 | 1499 | 50 | 545 | 4 | 15 | yes | no  | yes | 163 | 27 | 23.57369 |\n| 5793 | 1199 | 50 | 545 | 4 | 14 | no  | no  | yes | 132 | 28 | 23.57369 |\n| 5794 | 1724 | 50 | 545 | 4 | 17 | yes | yes | yes | 132 | 28 | 23.57369 |\n| 5801 | 1499 | 50 | 545 | 4 | 15 | yes | no  | yes | 132 | 28 | 23.57369 |\n| 5819 | 1808 | 50 | 545 | 4 | 17 | yes | no  | yes | 132 | 28 | 23.57369 |\n| 5821 | 1808 | 50 | 545 | 4 | 17 | yes | yes | yes | 132 | 28 | 23.57369 |\n| 5826 | 1724 | 50 | 545 | 4 | 17 | yes | no  | yes | 132 | 28 | 23.57369 |\n| 5827 | 1499 | 50 | 545 | 4 | 15 | yes | yes | yes | 132 | 28 | 23.57369 |\n| 5852 | 1704 | 50 | 545 | 4 | 17 | yes | yes | yes | 129 | 29 | 23.57369 |\n| 5868 | 1808 | 50 | 545 | 4 | 17 | yes | yes | yes | 129 | 29 | 23.57369 |\n| 5872 | 1808 | 50 | 545 | 4 | 17 | yes | no  | yes | 129 | 29 | 23.57369 |\n| 5881 | 1499 | 50 | 545 | 4 | 15 | yes | yes | yes | 129 | 29 | 23.57369 |\n| 5924 | 1499 | 50 | 545 | 4 | 15 | yes | no  | yes | 129 | 29 | 23.57369 |\n| 5928 | 1704 | 50 | 545 | 4 | 17 | yes | no  | yes | 129 | 29 | 23.57369 |\n| 5958 | 1199 | 50 | 545 | 4 | 14 | no  | no  | yes | 129 | 29 | 23.57369 |\n\n",
            "text/latex": "A tibble: 26 × 12\n\\begin{tabular}{llllllllllll}\n ...1 & price & speed & hd & ram & screen & cd & multi & premium & ads & trend & eucl\\\\\n <int> & <int> & <int> & <int> & <int> & <int> & <chr> & <chr> & <chr> & <int> & <int> & <dbl>\\\\\n\\hline\n\t 4757 & 1499 & 50 & 545 & 4 & 15 & yes & no  & yes & 162 & 22 & 23.57369\\\\\n\t 4909 & 1499 & 50 & 545 & 4 & 15 & yes & no  & yes & 191 & 23 & 23.57369\\\\\n\t 5158 & 1758 & 50 & 545 & 4 & 17 & yes & no  & yes & 182 & 24 & 23.57369\\\\\n\t 5178 & 1499 & 50 & 545 & 4 & 15 & yes & no  & yes & 182 & 24 & 23.57369\\\\\n\t 5310 & 1748 & 50 & 545 & 4 & 17 & yes & no  & yes & 158 & 25 & 23.57369\\\\\n\t 5349 & 1499 & 50 & 545 & 4 & 15 & yes & no  & yes & 158 & 25 & 23.57369\\\\\n\t 5477 & 1499 & 50 & 545 & 4 & 15 & yes & no  & yes & 152 & 26 & 23.57369\\\\\n\t 5489 & 1748 & 50 & 545 & 4 & 17 & yes & no  & yes & 152 & 26 & 23.57369\\\\\n\t 5539 & 1838 & 50 & 545 & 4 & 17 & yes & no  & yes & 152 & 26 & 23.57369\\\\\n\t 5554 & 1808 & 50 & 545 & 4 & 17 & yes & no  & yes & 163 & 27 & 23.57369\\\\\n\t 5681 & 1724 & 50 & 545 & 4 & 17 & yes & no  & yes & 163 & 27 & 23.57369\\\\\n\t 5694 & 1499 & 50 & 545 & 4 & 15 & yes & no  & yes & 163 & 27 & 23.57369\\\\\n\t 5793 & 1199 & 50 & 545 & 4 & 14 & no  & no  & yes & 132 & 28 & 23.57369\\\\\n\t 5794 & 1724 & 50 & 545 & 4 & 17 & yes & yes & yes & 132 & 28 & 23.57369\\\\\n\t 5801 & 1499 & 50 & 545 & 4 & 15 & yes & no  & yes & 132 & 28 & 23.57369\\\\\n\t 5819 & 1808 & 50 & 545 & 4 & 17 & yes & no  & yes & 132 & 28 & 23.57369\\\\\n\t 5821 & 1808 & 50 & 545 & 4 & 17 & yes & yes & yes & 132 & 28 & 23.57369\\\\\n\t 5826 & 1724 & 50 & 545 & 4 & 17 & yes & no  & yes & 132 & 28 & 23.57369\\\\\n\t 5827 & 1499 & 50 & 545 & 4 & 15 & yes & yes & yes & 132 & 28 & 23.57369\\\\\n\t 5852 & 1704 & 50 & 545 & 4 & 17 & yes & yes & yes & 129 & 29 & 23.57369\\\\\n\t 5868 & 1808 & 50 & 545 & 4 & 17 & yes & yes & yes & 129 & 29 & 23.57369\\\\\n\t 5872 & 1808 & 50 & 545 & 4 & 17 & yes & no  & yes & 129 & 29 & 23.57369\\\\\n\t 5881 & 1499 & 50 & 545 & 4 & 15 & yes & yes & yes & 129 & 29 & 23.57369\\\\\n\t 5924 & 1499 & 50 & 545 & 4 & 15 & yes & no  & yes & 129 & 29 & 23.57369\\\\\n\t 5928 & 1704 & 50 & 545 & 4 & 17 & yes & no  & yes & 129 & 29 & 23.57369\\\\\n\t 5958 & 1199 & 50 & 545 & 4 & 14 & no  & no  & yes & 129 & 29 & 23.57369\\\\\n\\end{tabular}\n"
          },
          "metadata": {}
        }
      ]
    },
    {
      "cell_type": "code",
      "source": [
        "resultComp3 <- comp3[which.min(comp3$price), ]\n",
        "resultComp3"
      ],
      "metadata": {
        "id": "sLpJ2BVVt8zo",
        "outputId": "38d2af48-33db-404b-909c-80bc16293c4d",
        "colab": {
          "base_uri": "https://localhost:8080/",
          "height": 129
        }
      },
      "id": "sLpJ2BVVt8zo",
      "execution_count": 134,
      "outputs": [
        {
          "output_type": "display_data",
          "data": {
            "text/html": [
              "<table class=\"dataframe\">\n",
              "<caption>A tibble: 1 × 12</caption>\n",
              "<thead>\n",
              "\t<tr><th scope=col>...1</th><th scope=col>price</th><th scope=col>speed</th><th scope=col>hd</th><th scope=col>ram</th><th scope=col>screen</th><th scope=col>cd</th><th scope=col>multi</th><th scope=col>premium</th><th scope=col>ads</th><th scope=col>trend</th><th scope=col>eucl</th></tr>\n",
              "\t<tr><th scope=col>&lt;int&gt;</th><th scope=col>&lt;int&gt;</th><th scope=col>&lt;int&gt;</th><th scope=col>&lt;int&gt;</th><th scope=col>&lt;int&gt;</th><th scope=col>&lt;int&gt;</th><th scope=col>&lt;chr&gt;</th><th scope=col>&lt;chr&gt;</th><th scope=col>&lt;chr&gt;</th><th scope=col>&lt;int&gt;</th><th scope=col>&lt;int&gt;</th><th scope=col>&lt;dbl&gt;</th></tr>\n",
              "</thead>\n",
              "<tbody>\n",
              "\t<tr><td>5793</td><td>1199</td><td>50</td><td>545</td><td>4</td><td>14</td><td>no</td><td>no</td><td>yes</td><td>132</td><td>28</td><td>23.57369</td></tr>\n",
              "</tbody>\n",
              "</table>\n"
            ],
            "text/markdown": "\nA tibble: 1 × 12\n\n| ...1 &lt;int&gt; | price &lt;int&gt; | speed &lt;int&gt; | hd &lt;int&gt; | ram &lt;int&gt; | screen &lt;int&gt; | cd &lt;chr&gt; | multi &lt;chr&gt; | premium &lt;chr&gt; | ads &lt;int&gt; | trend &lt;int&gt; | eucl &lt;dbl&gt; |\n|---|---|---|---|---|---|---|---|---|---|---|---|\n| 5793 | 1199 | 50 | 545 | 4 | 14 | no | no | yes | 132 | 28 | 23.57369 |\n\n",
            "text/latex": "A tibble: 1 × 12\n\\begin{tabular}{llllllllllll}\n ...1 & price & speed & hd & ram & screen & cd & multi & premium & ads & trend & eucl\\\\\n <int> & <int> & <int> & <int> & <int> & <int> & <chr> & <chr> & <chr> & <int> & <int> & <dbl>\\\\\n\\hline\n\t 5793 & 1199 & 50 & 545 & 4 & 14 & no & no & yes & 132 & 28 & 23.57369\\\\\n\\end{tabular}\n",
            "text/plain": [
              "  ...1 price speed hd  ram screen cd multi premium ads trend eucl    \n",
              "1 5793 1199  50    545 4   14     no no    yes     132 28    23.57369"
            ]
          },
          "metadata": {}
        }
      ]
    },
    {
      "cell_type": "markdown",
      "source": [
        " Выбор компьютеров сегмента $C_4:$\n",
        " - минимальный объем жесткого диска для сегмента для сегмента $C_4$ не менее 1000\n",
        " - Суммарная производительность для С4 - не менее 700 (считаем аддитивной характеристикой от количества входящих ПК)"
      ],
      "metadata": {
        "id": "IVM2OpbYuIo4"
      },
      "id": "IVM2OpbYuIo4"
    },
    {
      "cell_type": "code",
      "source": [
        "result4 = c()\n",
        "for(i in 13: 16){\n",
        "  result4 <- append(result4, solution[i] / N4)\n",
        "}\n",
        "result4 <- result4[-1] #speed, ram, hd,\n",
        "result4"
      ],
      "metadata": {
        "id": "nai7ZA6fuWic",
        "outputId": "941d3789-3157-4a35-f783-7fcc90054124",
        "colab": {
          "base_uri": "https://localhost:8080/",
          "height": 34
        }
      },
      "id": "nai7ZA6fuWic",
      "execution_count": 135,
      "outputs": [
        {
          "output_type": "display_data",
          "data": {
            "text/html": [
              "<style>\n",
              ".list-inline {list-style: none; margin:0; padding: 0}\n",
              ".list-inline>li {display: inline-block}\n",
              ".list-inline>li:not(:last-child)::after {content: \"\\00b7\"; padding: 0 .5ex}\n",
              "</style>\n",
              "<ol class=list-inline><li>166.7131</li><li>8.2869</li><li>1353.955525</li></ol>\n"
            ],
            "text/markdown": "1. 166.7131\n2. 8.2869\n3. 1353.955525\n\n\n",
            "text/latex": "\\begin{enumerate*}\n\\item 166.7131\n\\item 8.2869\n\\item 1353.955525\n\\end{enumerate*}\n",
            "text/plain": [
              "[1]  166.7131    8.2869 1353.9555"
            ]
          },
          "metadata": {}
        }
      ]
    },
    {
      "cell_type": "code",
      "source": [
        "C4_dataset <- data.frame()\n",
        "\n",
        "for (i in 1: length(rownames(data))){\n",
        "  if (data[i, 4] >= 1000){\n",
        "    C4_dataset <-rbind(C4_dataset, data[i,])\n",
        "  }\n",
        "}\n",
        "C4_dataset"
      ],
      "metadata": {
        "id": "yFFFFVZE2pLX",
        "outputId": "d959a5a9-3113-49b0-8b0e-512cf3d1fa15",
        "colab": {
          "base_uri": "https://localhost:8080/",
          "height": 1000
        }
      },
      "id": "yFFFFVZE2pLX",
      "execution_count": 136,
      "outputs": [
        {
          "output_type": "display_data",
          "data": {
            "text/html": [
              "<table class=\"dataframe\">\n",
              "<caption>A tibble: 489 × 11</caption>\n",
              "<thead>\n",
              "\t<tr><th scope=col>...1</th><th scope=col>price</th><th scope=col>speed</th><th scope=col>hd</th><th scope=col>ram</th><th scope=col>screen</th><th scope=col>cd</th><th scope=col>multi</th><th scope=col>premium</th><th scope=col>ads</th><th scope=col>trend</th></tr>\n",
              "\t<tr><th scope=col>&lt;int&gt;</th><th scope=col>&lt;int&gt;</th><th scope=col>&lt;int&gt;</th><th scope=col>&lt;int&gt;</th><th scope=col>&lt;int&gt;</th><th scope=col>&lt;int&gt;</th><th scope=col>&lt;chr&gt;</th><th scope=col>&lt;chr&gt;</th><th scope=col>&lt;chr&gt;</th><th scope=col>&lt;int&gt;</th><th scope=col>&lt;int&gt;</th></tr>\n",
              "</thead>\n",
              "<tbody>\n",
              "\t<tr><td> 491</td><td>3990</td><td> 66</td><td>1000</td><td>16</td><td>14</td><td>no </td><td>no</td><td>yes</td><td>139</td><td> 5</td></tr>\n",
              "\t<tr><td> 616</td><td>3990</td><td> 66</td><td>1000</td><td>16</td><td>14</td><td>no </td><td>no</td><td>yes</td><td>176</td><td> 6</td></tr>\n",
              "\t<tr><td> 721</td><td>3025</td><td> 33</td><td>1370</td><td> 8</td><td>14</td><td>no </td><td>no</td><td>yes</td><td>249</td><td> 7</td></tr>\n",
              "\t<tr><td> 901</td><td>3895</td><td> 66</td><td>1370</td><td> 8</td><td>14</td><td>no </td><td>no</td><td>yes</td><td>249</td><td> 7</td></tr>\n",
              "\t<tr><td> 982</td><td>4295</td><td> 33</td><td>1100</td><td>16</td><td>14</td><td>no </td><td>no</td><td>yes</td><td>298</td><td> 8</td></tr>\n",
              "\t<tr><td> 994</td><td>4494</td><td> 33</td><td>1100</td><td>16</td><td>14</td><td>yes</td><td>no</td><td>yes</td><td>298</td><td> 8</td></tr>\n",
              "\t<tr><td>1043</td><td>4594</td><td> 50</td><td>1100</td><td>16</td><td>14</td><td>yes</td><td>no</td><td>yes</td><td>298</td><td> 8</td></tr>\n",
              "\t<tr><td>1049</td><td>3025</td><td> 33</td><td>1370</td><td> 8</td><td>14</td><td>no </td><td>no</td><td>yes</td><td>298</td><td> 8</td></tr>\n",
              "\t<tr><td>1099</td><td>4495</td><td> 66</td><td>1100</td><td>16</td><td>14</td><td>no </td><td>no</td><td>yes</td><td>298</td><td> 8</td></tr>\n",
              "\t<tr><td>1102</td><td>3895</td><td> 66</td><td>1370</td><td> 8</td><td>14</td><td>no </td><td>no</td><td>yes</td><td>298</td><td> 8</td></tr>\n",
              "\t<tr><td>1123</td><td>4694</td><td> 66</td><td>1100</td><td>16</td><td>14</td><td>yes</td><td>no</td><td>yes</td><td>298</td><td> 8</td></tr>\n",
              "\t<tr><td>1177</td><td>4395</td><td> 50</td><td>1100</td><td>16</td><td>14</td><td>no </td><td>no</td><td>yes</td><td>298</td><td> 8</td></tr>\n",
              "\t<tr><td>1507</td><td>5399</td><td> 66</td><td>1200</td><td>32</td><td>17</td><td>yes</td><td>no</td><td>yes</td><td>283</td><td>10</td></tr>\n",
              "\t<tr><td>1525</td><td>3385</td><td> 66</td><td>1370</td><td> 8</td><td>14</td><td>no </td><td>no</td><td>yes</td><td>283</td><td>10</td></tr>\n",
              "\t<tr><td>1611</td><td>3135</td><td> 33</td><td>1370</td><td> 8</td><td>14</td><td>no </td><td>no</td><td>yes</td><td>283</td><td>10</td></tr>\n",
              "\t<tr><td>1689</td><td>2875</td><td> 33</td><td>1370</td><td> 4</td><td>15</td><td>no </td><td>no</td><td>yes</td><td>283</td><td>10</td></tr>\n",
              "\t<tr><td>1785</td><td>3125</td><td> 66</td><td>1370</td><td> 4</td><td>15</td><td>no </td><td>no</td><td>yes</td><td>283</td><td>10</td></tr>\n",
              "\t<tr><td>1836</td><td>3205</td><td> 66</td><td>1370</td><td> 8</td><td>14</td><td>no </td><td>no</td><td>yes</td><td>259</td><td>11</td></tr>\n",
              "\t<tr><td>1992</td><td>5399</td><td> 66</td><td>1200</td><td>32</td><td>17</td><td>yes</td><td>no</td><td>yes</td><td>259</td><td>11</td></tr>\n",
              "\t<tr><td>2043</td><td>2975</td><td> 33</td><td>1370</td><td> 8</td><td>14</td><td>no </td><td>no</td><td>yes</td><td>259</td><td>11</td></tr>\n",
              "\t<tr><td>2062</td><td>3795</td><td> 33</td><td>1000</td><td>16</td><td>14</td><td>yes</td><td>no</td><td>yes</td><td>275</td><td>12</td></tr>\n",
              "\t<tr><td>2097</td><td>5399</td><td> 66</td><td>1200</td><td>32</td><td>17</td><td>yes</td><td>no</td><td>yes</td><td>275</td><td>12</td></tr>\n",
              "\t<tr><td>2103</td><td>2785</td><td> 33</td><td>1060</td><td> 8</td><td>14</td><td>no </td><td>no</td><td>yes</td><td>275</td><td>12</td></tr>\n",
              "\t<tr><td>2149</td><td>3995</td><td> 66</td><td>1000</td><td>16</td><td>14</td><td>yes</td><td>no</td><td>yes</td><td>275</td><td>12</td></tr>\n",
              "\t<tr><td>2205</td><td>3895</td><td> 50</td><td>1000</td><td>16</td><td>14</td><td>yes</td><td>no</td><td>yes</td><td>275</td><td>12</td></tr>\n",
              "\t<tr><td>2283</td><td>2985</td><td> 66</td><td>1060</td><td> 8</td><td>14</td><td>no </td><td>no</td><td>yes</td><td>275</td><td>12</td></tr>\n",
              "\t<tr><td>2469</td><td>4799</td><td> 66</td><td>1000</td><td>16</td><td>17</td><td>yes</td><td>no</td><td>yes</td><td>216</td><td>13</td></tr>\n",
              "\t<tr><td>3147</td><td>3299</td><td> 66</td><td>1000</td><td>16</td><td>15</td><td>yes</td><td>no</td><td>yes</td><td>307</td><td>16</td></tr>\n",
              "\t<tr><td>3178</td><td>3399</td><td>100</td><td>1000</td><td>16</td><td>15</td><td>yes</td><td>no</td><td>yes</td><td>307</td><td>16</td></tr>\n",
              "\t<tr><td>3231</td><td>3499</td><td>100</td><td>1000</td><td>16</td><td>15</td><td>yes</td><td>no</td><td>yes</td><td>307</td><td>16</td></tr>\n",
              "\t<tr><td>⋮</td><td>⋮</td><td>⋮</td><td>⋮</td><td>⋮</td><td>⋮</td><td>⋮</td><td>⋮</td><td>⋮</td><td>⋮</td><td>⋮</td></tr>\n",
              "\t<tr><td>6205</td><td>2723</td><td>100</td><td>1200</td><td>24</td><td>15</td><td>yes</td><td>yes</td><td>yes</td><td>39</td><td>34</td></tr>\n",
              "\t<tr><td>6206</td><td>2995</td><td> 66</td><td>1600</td><td>32</td><td>15</td><td>yes</td><td>no </td><td>yes</td><td>39</td><td>34</td></tr>\n",
              "\t<tr><td>6207</td><td>2654</td><td>100</td><td>1200</td><td>24</td><td>15</td><td>yes</td><td>no </td><td>yes</td><td>39</td><td>34</td></tr>\n",
              "\t<tr><td>6209</td><td>2495</td><td> 66</td><td>1200</td><td>24</td><td>15</td><td>yes</td><td>no </td><td>yes</td><td>39</td><td>34</td></tr>\n",
              "\t<tr><td>6210</td><td>3244</td><td> 75</td><td>1600</td><td>32</td><td>15</td><td>yes</td><td>no </td><td>yes</td><td>39</td><td>34</td></tr>\n",
              "\t<tr><td>6212</td><td>2623</td><td> 66</td><td>1200</td><td>24</td><td>15</td><td>yes</td><td>yes</td><td>yes</td><td>39</td><td>34</td></tr>\n",
              "\t<tr><td>6213</td><td>2890</td><td>100</td><td>1200</td><td>24</td><td>17</td><td>yes</td><td>no </td><td>yes</td><td>39</td><td>34</td></tr>\n",
              "\t<tr><td>6214</td><td>1740</td><td> 66</td><td>1200</td><td> 8</td><td>14</td><td>no </td><td>no </td><td>yes</td><td>39</td><td>34</td></tr>\n",
              "\t<tr><td>6218</td><td>2744</td><td> 66</td><td>1200</td><td>24</td><td>15</td><td>yes</td><td>no </td><td>yes</td><td>39</td><td>34</td></tr>\n",
              "\t<tr><td>6219</td><td>2785</td><td> 66</td><td>1600</td><td>24</td><td>15</td><td>yes</td><td>no </td><td>yes</td><td>39</td><td>34</td></tr>\n",
              "\t<tr><td>6222</td><td>2595</td><td>100</td><td>1200</td><td>24</td><td>15</td><td>yes</td><td>no </td><td>yes</td><td>39</td><td>35</td></tr>\n",
              "\t<tr><td>6223</td><td>2844</td><td>100</td><td>1200</td><td>24</td><td>15</td><td>yes</td><td>no </td><td>yes</td><td>39</td><td>35</td></tr>\n",
              "\t<tr><td>6224</td><td>1790</td><td>100</td><td>1200</td><td> 8</td><td>14</td><td>no </td><td>no </td><td>yes</td><td>39</td><td>35</td></tr>\n",
              "\t<tr><td>6226</td><td>3244</td><td> 75</td><td>1600</td><td>32</td><td>15</td><td>yes</td><td>no </td><td>yes</td><td>39</td><td>35</td></tr>\n",
              "\t<tr><td>6227</td><td>3123</td><td> 75</td><td>1600</td><td>32</td><td>15</td><td>yes</td><td>yes</td><td>yes</td><td>39</td><td>35</td></tr>\n",
              "\t<tr><td>6228</td><td>2554</td><td> 66</td><td>1200</td><td>24</td><td>15</td><td>yes</td><td>no </td><td>yes</td><td>39</td><td>35</td></tr>\n",
              "\t<tr><td>6231</td><td>2890</td><td>100</td><td>1200</td><td>24</td><td>17</td><td>yes</td><td>no </td><td>yes</td><td>39</td><td>35</td></tr>\n",
              "\t<tr><td>6236</td><td>3290</td><td> 75</td><td>1600</td><td>32</td><td>17</td><td>yes</td><td>no </td><td>yes</td><td>39</td><td>35</td></tr>\n",
              "\t<tr><td>6237</td><td>2790</td><td> 66</td><td>1200</td><td>24</td><td>17</td><td>yes</td><td>no </td><td>yes</td><td>39</td><td>35</td></tr>\n",
              "\t<tr><td>6238</td><td>2845</td><td>100</td><td>1600</td><td>24</td><td>15</td><td>yes</td><td>no </td><td>yes</td><td>39</td><td>35</td></tr>\n",
              "\t<tr><td>6240</td><td>3095</td><td>100</td><td>1600</td><td>32</td><td>15</td><td>yes</td><td>no </td><td>yes</td><td>39</td><td>35</td></tr>\n",
              "\t<tr><td>6243</td><td>2723</td><td>100</td><td>1200</td><td>24</td><td>15</td><td>yes</td><td>yes</td><td>yes</td><td>39</td><td>35</td></tr>\n",
              "\t<tr><td>6244</td><td>2745</td><td> 66</td><td>1600</td><td>24</td><td>15</td><td>yes</td><td>no </td><td>yes</td><td>39</td><td>35</td></tr>\n",
              "\t<tr><td>6245</td><td>3054</td><td> 75</td><td>1600</td><td>32</td><td>15</td><td>yes</td><td>no </td><td>yes</td><td>39</td><td>35</td></tr>\n",
              "\t<tr><td>6246</td><td>2744</td><td> 66</td><td>1200</td><td>24</td><td>15</td><td>yes</td><td>no </td><td>yes</td><td>39</td><td>35</td></tr>\n",
              "\t<tr><td>6249</td><td>2623</td><td> 66</td><td>1200</td><td>24</td><td>15</td><td>yes</td><td>yes</td><td>yes</td><td>39</td><td>35</td></tr>\n",
              "\t<tr><td>6251</td><td>2495</td><td> 66</td><td>1200</td><td>24</td><td>15</td><td>yes</td><td>no </td><td>yes</td><td>39</td><td>35</td></tr>\n",
              "\t<tr><td>6252</td><td>2995</td><td> 66</td><td>1600</td><td>32</td><td>15</td><td>yes</td><td>no </td><td>yes</td><td>39</td><td>35</td></tr>\n",
              "\t<tr><td>6253</td><td>1690</td><td> 66</td><td>1200</td><td> 8</td><td>14</td><td>no </td><td>no </td><td>yes</td><td>39</td><td>35</td></tr>\n",
              "\t<tr><td>6257</td><td>2654</td><td>100</td><td>1200</td><td>24</td><td>15</td><td>yes</td><td>no </td><td>yes</td><td>39</td><td>35</td></tr>\n",
              "</tbody>\n",
              "</table>\n"
            ],
            "text/markdown": "\nA tibble: 489 × 11\n\n| ...1 &lt;int&gt; | price &lt;int&gt; | speed &lt;int&gt; | hd &lt;int&gt; | ram &lt;int&gt; | screen &lt;int&gt; | cd &lt;chr&gt; | multi &lt;chr&gt; | premium &lt;chr&gt; | ads &lt;int&gt; | trend &lt;int&gt; |\n|---|---|---|---|---|---|---|---|---|---|---|\n|  491 | 3990 |  66 | 1000 | 16 | 14 | no  | no | yes | 139 |  5 |\n|  616 | 3990 |  66 | 1000 | 16 | 14 | no  | no | yes | 176 |  6 |\n|  721 | 3025 |  33 | 1370 |  8 | 14 | no  | no | yes | 249 |  7 |\n|  901 | 3895 |  66 | 1370 |  8 | 14 | no  | no | yes | 249 |  7 |\n|  982 | 4295 |  33 | 1100 | 16 | 14 | no  | no | yes | 298 |  8 |\n|  994 | 4494 |  33 | 1100 | 16 | 14 | yes | no | yes | 298 |  8 |\n| 1043 | 4594 |  50 | 1100 | 16 | 14 | yes | no | yes | 298 |  8 |\n| 1049 | 3025 |  33 | 1370 |  8 | 14 | no  | no | yes | 298 |  8 |\n| 1099 | 4495 |  66 | 1100 | 16 | 14 | no  | no | yes | 298 |  8 |\n| 1102 | 3895 |  66 | 1370 |  8 | 14 | no  | no | yes | 298 |  8 |\n| 1123 | 4694 |  66 | 1100 | 16 | 14 | yes | no | yes | 298 |  8 |\n| 1177 | 4395 |  50 | 1100 | 16 | 14 | no  | no | yes | 298 |  8 |\n| 1507 | 5399 |  66 | 1200 | 32 | 17 | yes | no | yes | 283 | 10 |\n| 1525 | 3385 |  66 | 1370 |  8 | 14 | no  | no | yes | 283 | 10 |\n| 1611 | 3135 |  33 | 1370 |  8 | 14 | no  | no | yes | 283 | 10 |\n| 1689 | 2875 |  33 | 1370 |  4 | 15 | no  | no | yes | 283 | 10 |\n| 1785 | 3125 |  66 | 1370 |  4 | 15 | no  | no | yes | 283 | 10 |\n| 1836 | 3205 |  66 | 1370 |  8 | 14 | no  | no | yes | 259 | 11 |\n| 1992 | 5399 |  66 | 1200 | 32 | 17 | yes | no | yes | 259 | 11 |\n| 2043 | 2975 |  33 | 1370 |  8 | 14 | no  | no | yes | 259 | 11 |\n| 2062 | 3795 |  33 | 1000 | 16 | 14 | yes | no | yes | 275 | 12 |\n| 2097 | 5399 |  66 | 1200 | 32 | 17 | yes | no | yes | 275 | 12 |\n| 2103 | 2785 |  33 | 1060 |  8 | 14 | no  | no | yes | 275 | 12 |\n| 2149 | 3995 |  66 | 1000 | 16 | 14 | yes | no | yes | 275 | 12 |\n| 2205 | 3895 |  50 | 1000 | 16 | 14 | yes | no | yes | 275 | 12 |\n| 2283 | 2985 |  66 | 1060 |  8 | 14 | no  | no | yes | 275 | 12 |\n| 2469 | 4799 |  66 | 1000 | 16 | 17 | yes | no | yes | 216 | 13 |\n| 3147 | 3299 |  66 | 1000 | 16 | 15 | yes | no | yes | 307 | 16 |\n| 3178 | 3399 | 100 | 1000 | 16 | 15 | yes | no | yes | 307 | 16 |\n| 3231 | 3499 | 100 | 1000 | 16 | 15 | yes | no | yes | 307 | 16 |\n| ⋮ | ⋮ | ⋮ | ⋮ | ⋮ | ⋮ | ⋮ | ⋮ | ⋮ | ⋮ | ⋮ |\n| 6205 | 2723 | 100 | 1200 | 24 | 15 | yes | yes | yes | 39 | 34 |\n| 6206 | 2995 |  66 | 1600 | 32 | 15 | yes | no  | yes | 39 | 34 |\n| 6207 | 2654 | 100 | 1200 | 24 | 15 | yes | no  | yes | 39 | 34 |\n| 6209 | 2495 |  66 | 1200 | 24 | 15 | yes | no  | yes | 39 | 34 |\n| 6210 | 3244 |  75 | 1600 | 32 | 15 | yes | no  | yes | 39 | 34 |\n| 6212 | 2623 |  66 | 1200 | 24 | 15 | yes | yes | yes | 39 | 34 |\n| 6213 | 2890 | 100 | 1200 | 24 | 17 | yes | no  | yes | 39 | 34 |\n| 6214 | 1740 |  66 | 1200 |  8 | 14 | no  | no  | yes | 39 | 34 |\n| 6218 | 2744 |  66 | 1200 | 24 | 15 | yes | no  | yes | 39 | 34 |\n| 6219 | 2785 |  66 | 1600 | 24 | 15 | yes | no  | yes | 39 | 34 |\n| 6222 | 2595 | 100 | 1200 | 24 | 15 | yes | no  | yes | 39 | 35 |\n| 6223 | 2844 | 100 | 1200 | 24 | 15 | yes | no  | yes | 39 | 35 |\n| 6224 | 1790 | 100 | 1200 |  8 | 14 | no  | no  | yes | 39 | 35 |\n| 6226 | 3244 |  75 | 1600 | 32 | 15 | yes | no  | yes | 39 | 35 |\n| 6227 | 3123 |  75 | 1600 | 32 | 15 | yes | yes | yes | 39 | 35 |\n| 6228 | 2554 |  66 | 1200 | 24 | 15 | yes | no  | yes | 39 | 35 |\n| 6231 | 2890 | 100 | 1200 | 24 | 17 | yes | no  | yes | 39 | 35 |\n| 6236 | 3290 |  75 | 1600 | 32 | 17 | yes | no  | yes | 39 | 35 |\n| 6237 | 2790 |  66 | 1200 | 24 | 17 | yes | no  | yes | 39 | 35 |\n| 6238 | 2845 | 100 | 1600 | 24 | 15 | yes | no  | yes | 39 | 35 |\n| 6240 | 3095 | 100 | 1600 | 32 | 15 | yes | no  | yes | 39 | 35 |\n| 6243 | 2723 | 100 | 1200 | 24 | 15 | yes | yes | yes | 39 | 35 |\n| 6244 | 2745 |  66 | 1600 | 24 | 15 | yes | no  | yes | 39 | 35 |\n| 6245 | 3054 |  75 | 1600 | 32 | 15 | yes | no  | yes | 39 | 35 |\n| 6246 | 2744 |  66 | 1200 | 24 | 15 | yes | no  | yes | 39 | 35 |\n| 6249 | 2623 |  66 | 1200 | 24 | 15 | yes | yes | yes | 39 | 35 |\n| 6251 | 2495 |  66 | 1200 | 24 | 15 | yes | no  | yes | 39 | 35 |\n| 6252 | 2995 |  66 | 1600 | 32 | 15 | yes | no  | yes | 39 | 35 |\n| 6253 | 1690 |  66 | 1200 |  8 | 14 | no  | no  | yes | 39 | 35 |\n| 6257 | 2654 | 100 | 1200 | 24 | 15 | yes | no  | yes | 39 | 35 |\n\n",
            "text/latex": "A tibble: 489 × 11\n\\begin{tabular}{lllllllllll}\n ...1 & price & speed & hd & ram & screen & cd & multi & premium & ads & trend\\\\\n <int> & <int> & <int> & <int> & <int> & <int> & <chr> & <chr> & <chr> & <int> & <int>\\\\\n\\hline\n\t  491 & 3990 &  66 & 1000 & 16 & 14 & no  & no & yes & 139 &  5\\\\\n\t  616 & 3990 &  66 & 1000 & 16 & 14 & no  & no & yes & 176 &  6\\\\\n\t  721 & 3025 &  33 & 1370 &  8 & 14 & no  & no & yes & 249 &  7\\\\\n\t  901 & 3895 &  66 & 1370 &  8 & 14 & no  & no & yes & 249 &  7\\\\\n\t  982 & 4295 &  33 & 1100 & 16 & 14 & no  & no & yes & 298 &  8\\\\\n\t  994 & 4494 &  33 & 1100 & 16 & 14 & yes & no & yes & 298 &  8\\\\\n\t 1043 & 4594 &  50 & 1100 & 16 & 14 & yes & no & yes & 298 &  8\\\\\n\t 1049 & 3025 &  33 & 1370 &  8 & 14 & no  & no & yes & 298 &  8\\\\\n\t 1099 & 4495 &  66 & 1100 & 16 & 14 & no  & no & yes & 298 &  8\\\\\n\t 1102 & 3895 &  66 & 1370 &  8 & 14 & no  & no & yes & 298 &  8\\\\\n\t 1123 & 4694 &  66 & 1100 & 16 & 14 & yes & no & yes & 298 &  8\\\\\n\t 1177 & 4395 &  50 & 1100 & 16 & 14 & no  & no & yes & 298 &  8\\\\\n\t 1507 & 5399 &  66 & 1200 & 32 & 17 & yes & no & yes & 283 & 10\\\\\n\t 1525 & 3385 &  66 & 1370 &  8 & 14 & no  & no & yes & 283 & 10\\\\\n\t 1611 & 3135 &  33 & 1370 &  8 & 14 & no  & no & yes & 283 & 10\\\\\n\t 1689 & 2875 &  33 & 1370 &  4 & 15 & no  & no & yes & 283 & 10\\\\\n\t 1785 & 3125 &  66 & 1370 &  4 & 15 & no  & no & yes & 283 & 10\\\\\n\t 1836 & 3205 &  66 & 1370 &  8 & 14 & no  & no & yes & 259 & 11\\\\\n\t 1992 & 5399 &  66 & 1200 & 32 & 17 & yes & no & yes & 259 & 11\\\\\n\t 2043 & 2975 &  33 & 1370 &  8 & 14 & no  & no & yes & 259 & 11\\\\\n\t 2062 & 3795 &  33 & 1000 & 16 & 14 & yes & no & yes & 275 & 12\\\\\n\t 2097 & 5399 &  66 & 1200 & 32 & 17 & yes & no & yes & 275 & 12\\\\\n\t 2103 & 2785 &  33 & 1060 &  8 & 14 & no  & no & yes & 275 & 12\\\\\n\t 2149 & 3995 &  66 & 1000 & 16 & 14 & yes & no & yes & 275 & 12\\\\\n\t 2205 & 3895 &  50 & 1000 & 16 & 14 & yes & no & yes & 275 & 12\\\\\n\t 2283 & 2985 &  66 & 1060 &  8 & 14 & no  & no & yes & 275 & 12\\\\\n\t 2469 & 4799 &  66 & 1000 & 16 & 17 & yes & no & yes & 216 & 13\\\\\n\t 3147 & 3299 &  66 & 1000 & 16 & 15 & yes & no & yes & 307 & 16\\\\\n\t 3178 & 3399 & 100 & 1000 & 16 & 15 & yes & no & yes & 307 & 16\\\\\n\t 3231 & 3499 & 100 & 1000 & 16 & 15 & yes & no & yes & 307 & 16\\\\\n\t ⋮ & ⋮ & ⋮ & ⋮ & ⋮ & ⋮ & ⋮ & ⋮ & ⋮ & ⋮ & ⋮\\\\\n\t 6205 & 2723 & 100 & 1200 & 24 & 15 & yes & yes & yes & 39 & 34\\\\\n\t 6206 & 2995 &  66 & 1600 & 32 & 15 & yes & no  & yes & 39 & 34\\\\\n\t 6207 & 2654 & 100 & 1200 & 24 & 15 & yes & no  & yes & 39 & 34\\\\\n\t 6209 & 2495 &  66 & 1200 & 24 & 15 & yes & no  & yes & 39 & 34\\\\\n\t 6210 & 3244 &  75 & 1600 & 32 & 15 & yes & no  & yes & 39 & 34\\\\\n\t 6212 & 2623 &  66 & 1200 & 24 & 15 & yes & yes & yes & 39 & 34\\\\\n\t 6213 & 2890 & 100 & 1200 & 24 & 17 & yes & no  & yes & 39 & 34\\\\\n\t 6214 & 1740 &  66 & 1200 &  8 & 14 & no  & no  & yes & 39 & 34\\\\\n\t 6218 & 2744 &  66 & 1200 & 24 & 15 & yes & no  & yes & 39 & 34\\\\\n\t 6219 & 2785 &  66 & 1600 & 24 & 15 & yes & no  & yes & 39 & 34\\\\\n\t 6222 & 2595 & 100 & 1200 & 24 & 15 & yes & no  & yes & 39 & 35\\\\\n\t 6223 & 2844 & 100 & 1200 & 24 & 15 & yes & no  & yes & 39 & 35\\\\\n\t 6224 & 1790 & 100 & 1200 &  8 & 14 & no  & no  & yes & 39 & 35\\\\\n\t 6226 & 3244 &  75 & 1600 & 32 & 15 & yes & no  & yes & 39 & 35\\\\\n\t 6227 & 3123 &  75 & 1600 & 32 & 15 & yes & yes & yes & 39 & 35\\\\\n\t 6228 & 2554 &  66 & 1200 & 24 & 15 & yes & no  & yes & 39 & 35\\\\\n\t 6231 & 2890 & 100 & 1200 & 24 & 17 & yes & no  & yes & 39 & 35\\\\\n\t 6236 & 3290 &  75 & 1600 & 32 & 17 & yes & no  & yes & 39 & 35\\\\\n\t 6237 & 2790 &  66 & 1200 & 24 & 17 & yes & no  & yes & 39 & 35\\\\\n\t 6238 & 2845 & 100 & 1600 & 24 & 15 & yes & no  & yes & 39 & 35\\\\\n\t 6240 & 3095 & 100 & 1600 & 32 & 15 & yes & no  & yes & 39 & 35\\\\\n\t 6243 & 2723 & 100 & 1200 & 24 & 15 & yes & yes & yes & 39 & 35\\\\\n\t 6244 & 2745 &  66 & 1600 & 24 & 15 & yes & no  & yes & 39 & 35\\\\\n\t 6245 & 3054 &  75 & 1600 & 32 & 15 & yes & no  & yes & 39 & 35\\\\\n\t 6246 & 2744 &  66 & 1200 & 24 & 15 & yes & no  & yes & 39 & 35\\\\\n\t 6249 & 2623 &  66 & 1200 & 24 & 15 & yes & yes & yes & 39 & 35\\\\\n\t 6251 & 2495 &  66 & 1200 & 24 & 15 & yes & no  & yes & 39 & 35\\\\\n\t 6252 & 2995 &  66 & 1600 & 32 & 15 & yes & no  & yes & 39 & 35\\\\\n\t 6253 & 1690 &  66 & 1200 &  8 & 14 & no  & no  & yes & 39 & 35\\\\\n\t 6257 & 2654 & 100 & 1200 & 24 & 15 & yes & no  & yes & 39 & 35\\\\\n\\end{tabular}\n",
            "text/plain": [
              "    ...1 price speed hd   ram screen cd  multi premium ads trend\n",
              "1    491 3990   66   1000 16  14     no  no    yes     139  5   \n",
              "2    616 3990   66   1000 16  14     no  no    yes     176  6   \n",
              "3    721 3025   33   1370  8  14     no  no    yes     249  7   \n",
              "4    901 3895   66   1370  8  14     no  no    yes     249  7   \n",
              "5    982 4295   33   1100 16  14     no  no    yes     298  8   \n",
              "6    994 4494   33   1100 16  14     yes no    yes     298  8   \n",
              "7   1043 4594   50   1100 16  14     yes no    yes     298  8   \n",
              "8   1049 3025   33   1370  8  14     no  no    yes     298  8   \n",
              "9   1099 4495   66   1100 16  14     no  no    yes     298  8   \n",
              "10  1102 3895   66   1370  8  14     no  no    yes     298  8   \n",
              "11  1123 4694   66   1100 16  14     yes no    yes     298  8   \n",
              "12  1177 4395   50   1100 16  14     no  no    yes     298  8   \n",
              "13  1507 5399   66   1200 32  17     yes no    yes     283 10   \n",
              "14  1525 3385   66   1370  8  14     no  no    yes     283 10   \n",
              "15  1611 3135   33   1370  8  14     no  no    yes     283 10   \n",
              "16  1689 2875   33   1370  4  15     no  no    yes     283 10   \n",
              "17  1785 3125   66   1370  4  15     no  no    yes     283 10   \n",
              "18  1836 3205   66   1370  8  14     no  no    yes     259 11   \n",
              "19  1992 5399   66   1200 32  17     yes no    yes     259 11   \n",
              "20  2043 2975   33   1370  8  14     no  no    yes     259 11   \n",
              "21  2062 3795   33   1000 16  14     yes no    yes     275 12   \n",
              "22  2097 5399   66   1200 32  17     yes no    yes     275 12   \n",
              "23  2103 2785   33   1060  8  14     no  no    yes     275 12   \n",
              "24  2149 3995   66   1000 16  14     yes no    yes     275 12   \n",
              "25  2205 3895   50   1000 16  14     yes no    yes     275 12   \n",
              "26  2283 2985   66   1060  8  14     no  no    yes     275 12   \n",
              "27  2469 4799   66   1000 16  17     yes no    yes     216 13   \n",
              "28  3147 3299   66   1000 16  15     yes no    yes     307 16   \n",
              "29  3178 3399  100   1000 16  15     yes no    yes     307 16   \n",
              "30  3231 3499  100   1000 16  15     yes no    yes     307 16   \n",
              "⋮   ⋮    ⋮     ⋮     ⋮    ⋮   ⋮      ⋮   ⋮     ⋮       ⋮   ⋮    \n",
              "460 6205 2723  100   1200 24  15     yes yes   yes     39  34   \n",
              "461 6206 2995   66   1600 32  15     yes no    yes     39  34   \n",
              "462 6207 2654  100   1200 24  15     yes no    yes     39  34   \n",
              "463 6209 2495   66   1200 24  15     yes no    yes     39  34   \n",
              "464 6210 3244   75   1600 32  15     yes no    yes     39  34   \n",
              "465 6212 2623   66   1200 24  15     yes yes   yes     39  34   \n",
              "466 6213 2890  100   1200 24  17     yes no    yes     39  34   \n",
              "467 6214 1740   66   1200  8  14     no  no    yes     39  34   \n",
              "468 6218 2744   66   1200 24  15     yes no    yes     39  34   \n",
              "469 6219 2785   66   1600 24  15     yes no    yes     39  34   \n",
              "470 6222 2595  100   1200 24  15     yes no    yes     39  35   \n",
              "471 6223 2844  100   1200 24  15     yes no    yes     39  35   \n",
              "472 6224 1790  100   1200  8  14     no  no    yes     39  35   \n",
              "473 6226 3244   75   1600 32  15     yes no    yes     39  35   \n",
              "474 6227 3123   75   1600 32  15     yes yes   yes     39  35   \n",
              "475 6228 2554   66   1200 24  15     yes no    yes     39  35   \n",
              "476 6231 2890  100   1200 24  17     yes no    yes     39  35   \n",
              "477 6236 3290   75   1600 32  17     yes no    yes     39  35   \n",
              "478 6237 2790   66   1200 24  17     yes no    yes     39  35   \n",
              "479 6238 2845  100   1600 24  15     yes no    yes     39  35   \n",
              "480 6240 3095  100   1600 32  15     yes no    yes     39  35   \n",
              "481 6243 2723  100   1200 24  15     yes yes   yes     39  35   \n",
              "482 6244 2745   66   1600 24  15     yes no    yes     39  35   \n",
              "483 6245 3054   75   1600 32  15     yes no    yes     39  35   \n",
              "484 6246 2744   66   1200 24  15     yes no    yes     39  35   \n",
              "485 6249 2623   66   1200 24  15     yes yes   yes     39  35   \n",
              "486 6251 2495   66   1200 24  15     yes no    yes     39  35   \n",
              "487 6252 2995   66   1600 32  15     yes no    yes     39  35   \n",
              "488 6253 1690   66   1200  8  14     no  no    yes     39  35   \n",
              "489 6257 2654  100   1200 24  15     yes no    yes     39  35   "
            ]
          },
          "metadata": {}
        }
      ]
    },
    {
      "cell_type": "code",
      "source": [
        "tmp <- c()\n",
        "for (i in 1: length(rownames(C4_dataset))){\n",
        "  tmp <- append(tmp, 0.6 * C4_dataset$speed[i] / max(C4_dataset$speed) + 0.4 * C4_dataset$ram[i] / max(C4_dataset$ram))\n",
        "}\n",
        "C4_dataset$specs <- tmp"
      ],
      "metadata": {
        "id": "2n0Lcaw37_wR"
      },
      "id": "2n0Lcaw37_wR",
      "execution_count": 137,
      "outputs": []
    },
    {
      "cell_type": "code",
      "source": [
        "tmp <- c()\n",
        "for (i in 1: length(rownames(C4_dataset))){\n",
        "  tmp <- append(tmp, abs(C4_dataset$specs[i] - H2))\n",
        "}\n",
        "C4_dataset$specs <- tmp"
      ],
      "metadata": {
        "id": "1Vv3HRqZ7cG_"
      },
      "id": "1Vv3HRqZ7cG_",
      "execution_count": 138,
      "outputs": []
    },
    {
      "cell_type": "code",
      "source": [
        "specs4 <- min(C4_dataset$specs)\n",
        "comp4 <- subset(C4_dataset, specs == specs4)\n",
        "View(comp4)"
      ],
      "metadata": {
        "id": "Io19qcft8ZkG",
        "outputId": "936ca8f8-154d-45e1-a451-5645c9e10666",
        "colab": {
          "base_uri": "https://localhost:8080/",
          "height": 129
        }
      },
      "id": "Io19qcft8ZkG",
      "execution_count": 139,
      "outputs": [
        {
          "output_type": "display_data",
          "data": {
            "text/plain": [
              "  ...1 price speed hd   ram screen cd multi premium ads trend specs     \n",
              "1 1689 2875  33    1370 4   15     no no    yes     283 10    0.02505585"
            ],
            "text/html": [
              "<table class=\"dataframe\">\n",
              "<caption>A tibble: 1 × 12</caption>\n",
              "<thead>\n",
              "\t<tr><th scope=col>...1</th><th scope=col>price</th><th scope=col>speed</th><th scope=col>hd</th><th scope=col>ram</th><th scope=col>screen</th><th scope=col>cd</th><th scope=col>multi</th><th scope=col>premium</th><th scope=col>ads</th><th scope=col>trend</th><th scope=col>specs</th></tr>\n",
              "\t<tr><th scope=col>&lt;int&gt;</th><th scope=col>&lt;int&gt;</th><th scope=col>&lt;int&gt;</th><th scope=col>&lt;int&gt;</th><th scope=col>&lt;int&gt;</th><th scope=col>&lt;int&gt;</th><th scope=col>&lt;chr&gt;</th><th scope=col>&lt;chr&gt;</th><th scope=col>&lt;chr&gt;</th><th scope=col>&lt;int&gt;</th><th scope=col>&lt;int&gt;</th><th scope=col>&lt;dbl&gt;</th></tr>\n",
              "</thead>\n",
              "<tbody>\n",
              "\t<tr><td>1689</td><td>2875</td><td>33</td><td>1370</td><td>4</td><td>15</td><td>no</td><td>no</td><td>yes</td><td>283</td><td>10</td><td>0.02505585</td></tr>\n",
              "</tbody>\n",
              "</table>\n"
            ],
            "text/markdown": "\nA tibble: 1 × 12\n\n| ...1 &lt;int&gt; | price &lt;int&gt; | speed &lt;int&gt; | hd &lt;int&gt; | ram &lt;int&gt; | screen &lt;int&gt; | cd &lt;chr&gt; | multi &lt;chr&gt; | premium &lt;chr&gt; | ads &lt;int&gt; | trend &lt;int&gt; | specs &lt;dbl&gt; |\n|---|---|---|---|---|---|---|---|---|---|---|---|\n| 1689 | 2875 | 33 | 1370 | 4 | 15 | no | no | yes | 283 | 10 | 0.02505585 |\n\n",
            "text/latex": "A tibble: 1 × 12\n\\begin{tabular}{llllllllllll}\n ...1 & price & speed & hd & ram & screen & cd & multi & premium & ads & trend & specs\\\\\n <int> & <int> & <int> & <int> & <int> & <int> & <chr> & <chr> & <chr> & <int> & <int> & <dbl>\\\\\n\\hline\n\t 1689 & 2875 & 33 & 1370 & 4 & 15 & no & no & yes & 283 & 10 & 0.02505585\\\\\n\\end{tabular}\n"
          },
          "metadata": {}
        }
      ]
    },
    {
      "cell_type": "code",
      "source": [
        "resultComp4 <- comp4[which.min(comp4$trend), ]\n",
        "resultComp4"
      ],
      "metadata": {
        "id": "BiKjGaB24mCj",
        "outputId": "084635d4-5afc-4994-997e-11984fa802b0",
        "colab": {
          "base_uri": "https://localhost:8080/",
          "height": 129
        }
      },
      "id": "BiKjGaB24mCj",
      "execution_count": 140,
      "outputs": [
        {
          "output_type": "display_data",
          "data": {
            "text/html": [
              "<table class=\"dataframe\">\n",
              "<caption>A tibble: 1 × 12</caption>\n",
              "<thead>\n",
              "\t<tr><th scope=col>...1</th><th scope=col>price</th><th scope=col>speed</th><th scope=col>hd</th><th scope=col>ram</th><th scope=col>screen</th><th scope=col>cd</th><th scope=col>multi</th><th scope=col>premium</th><th scope=col>ads</th><th scope=col>trend</th><th scope=col>specs</th></tr>\n",
              "\t<tr><th scope=col>&lt;int&gt;</th><th scope=col>&lt;int&gt;</th><th scope=col>&lt;int&gt;</th><th scope=col>&lt;int&gt;</th><th scope=col>&lt;int&gt;</th><th scope=col>&lt;int&gt;</th><th scope=col>&lt;chr&gt;</th><th scope=col>&lt;chr&gt;</th><th scope=col>&lt;chr&gt;</th><th scope=col>&lt;int&gt;</th><th scope=col>&lt;int&gt;</th><th scope=col>&lt;dbl&gt;</th></tr>\n",
              "</thead>\n",
              "<tbody>\n",
              "\t<tr><td>1689</td><td>2875</td><td>33</td><td>1370</td><td>4</td><td>15</td><td>no</td><td>no</td><td>yes</td><td>283</td><td>10</td><td>0.02505585</td></tr>\n",
              "</tbody>\n",
              "</table>\n"
            ],
            "text/markdown": "\nA tibble: 1 × 12\n\n| ...1 &lt;int&gt; | price &lt;int&gt; | speed &lt;int&gt; | hd &lt;int&gt; | ram &lt;int&gt; | screen &lt;int&gt; | cd &lt;chr&gt; | multi &lt;chr&gt; | premium &lt;chr&gt; | ads &lt;int&gt; | trend &lt;int&gt; | specs &lt;dbl&gt; |\n|---|---|---|---|---|---|---|---|---|---|---|---|\n| 1689 | 2875 | 33 | 1370 | 4 | 15 | no | no | yes | 283 | 10 | 0.02505585 |\n\n",
            "text/latex": "A tibble: 1 × 12\n\\begin{tabular}{llllllllllll}\n ...1 & price & speed & hd & ram & screen & cd & multi & premium & ads & trend & specs\\\\\n <int> & <int> & <int> & <int> & <int> & <int> & <chr> & <chr> & <chr> & <int> & <int> & <dbl>\\\\\n\\hline\n\t 1689 & 2875 & 33 & 1370 & 4 & 15 & no & no & yes & 283 & 10 & 0.02505585\\\\\n\\end{tabular}\n",
            "text/plain": [
              "  ...1 price speed hd   ram screen cd multi premium ads trend specs     \n",
              "1 1689 2875  33    1370 4   15     no no    yes     283 10    0.02505585"
            ]
          },
          "metadata": {}
        }
      ]
    },
    {
      "cell_type": "markdown",
      "source": [
        "# Вывод:"
      ],
      "metadata": {
        "id": "K2Jr7pwd4qhh"
      },
      "id": "K2Jr7pwd4qhh"
    },
    {
      "cell_type": "markdown",
      "source": [
        "Кол-во компьютеров:"
      ],
      "metadata": {
        "id": "SFvcqMsr4yad"
      },
      "id": "SFvcqMsr4yad"
    },
    {
      "cell_type": "code",
      "source": [
        "Ns"
      ],
      "metadata": {
        "id": "tBxIRgnR43DD",
        "outputId": "7137073e-ec3f-4815-f2fa-c3a42288cd92",
        "colab": {
          "base_uri": "https://localhost:8080/",
          "height": 34
        }
      },
      "id": "tBxIRgnR43DD",
      "execution_count": 141,
      "outputs": [
        {
          "output_type": "display_data",
          "data": {
            "text/html": [
              "<style>\n",
              ".list-inline {list-style: none; margin:0; padding: 0}\n",
              ".list-inline>li {display: inline-block}\n",
              ".list-inline>li:not(:last-child)::after {content: \"\\00b7\"; padding: 0 .5ex}\n",
              "</style>\n",
              "<ol class=list-inline><li>6</li><li>6</li><li>11</li><li>4</li></ol>\n"
            ],
            "text/markdown": "1. 6\n2. 6\n3. 11\n4. 4\n\n\n",
            "text/latex": "\\begin{enumerate*}\n\\item 6\n\\item 6\n\\item 11\n\\item 4\n\\end{enumerate*}\n",
            "text/plain": [
              "[1]  6  6 11  4"
            ]
          },
          "metadata": {}
        }
      ]
    },
    {
      "cell_type": "markdown",
      "source": [
        "Номера компьютеров:"
      ],
      "metadata": {
        "id": "0I7pf79K6I7P"
      },
      "id": "0I7pf79K6I7P"
    },
    {
      "cell_type": "code",
      "source": [
        "c(resultComp1$...1\t, resultComp2$...1\t, resultComp3$...1\t, resultComp4$...1\t)"
      ],
      "metadata": {
        "id": "QC316fW346Ve",
        "outputId": "dcc2afae-aa04-436b-d93f-8d88d3dd8843",
        "colab": {
          "base_uri": "https://localhost:8080/",
          "height": 34
        }
      },
      "id": "QC316fW346Ve",
      "execution_count": 142,
      "outputs": [
        {
          "output_type": "display_data",
          "data": {
            "text/html": [
              "<style>\n",
              ".list-inline {list-style: none; margin:0; padding: 0}\n",
              ".list-inline>li {display: inline-block}\n",
              ".list-inline>li:not(:last-child)::after {content: \"\\00b7\"; padding: 0 .5ex}\n",
              "</style>\n",
              "<ol class=list-inline><li>5476</li><li>18</li><li>5793</li><li>1689</li></ol>\n"
            ],
            "text/markdown": "1. 5476\n2. 18\n3. 5793\n4. 1689\n\n\n",
            "text/latex": "\\begin{enumerate*}\n\\item 5476\n\\item 18\n\\item 5793\n\\item 1689\n\\end{enumerate*}\n",
            "text/plain": [
              "[1] 5476   18 5793 1689"
            ]
          },
          "metadata": {}
        }
      ]
    },
    {
      "cell_type": "markdown",
      "source": [
        " Суммарная стоимость:"
      ],
      "metadata": {
        "id": "SAypu3gU6Y6K"
      },
      "id": "SAypu3gU6Y6K"
    },
    {
      "cell_type": "code",
      "source": [
        "N1*resultComp1$price + N2*resultComp2$price + N3*resultComp3$price + N4*resultComp4$price"
      ],
      "metadata": {
        "id": "UCgqZKoI6Sws",
        "outputId": "03811db4-053d-4918-9f31-242e9c68df91",
        "colab": {
          "base_uri": "https://localhost:8080/",
          "height": 34
        }
      },
      "id": "UCgqZKoI6Sws",
      "execution_count": 143,
      "outputs": [
        {
          "output_type": "display_data",
          "data": {
            "text/html": [
              "51809"
            ],
            "text/markdown": "51809",
            "text/latex": "51809",
            "text/plain": [
              "[1] 51809"
            ]
          },
          "metadata": {}
        }
      ]
    }
  ],
  "metadata": {
    "kernelspec": {
      "display_name": "R",
      "name": "ir"
    },
    "language_info": {
      "name": "R"
    },
    "colab": {
      "provenance": []
    }
  },
  "nbformat": 4,
  "nbformat_minor": 5
}