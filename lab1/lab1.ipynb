{
 "cells": [
  {
   "cell_type": "code",
   "execution_count": null,
   "id": "9c8a95e8-0ac0-4a8b-b2a0-1decd36361ed",
   "metadata": {},
   "outputs": [],
   "source": [
    "print(\"Hi!\")"
   ]
  }
 ],
 "metadata": {
  "kernelspec": {
   "display_name": "Python 3 (ipykernel)",
   "language": "python",
   "name": "python3"
  },
  "language_info": {
   "codemirror_mode": {
    "name": "ipython",
    "version": 3
   },
   "file_extension": ".py",
   "mimetype": "text/x-python",
   "name": "python",
   "nbconvert_exporter": "python",
   "pygments_lexer": "ipython3",
   "version": "3.12.2"
  }
 },
 "nbformat": 4,
 "nbformat_minor": 5
}
