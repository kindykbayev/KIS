{
  "cells": [
    {
      "cell_type": "code",
      "execution_count": 1,
      "id": "9c8a95e8-0ac0-4a8b-b2a0-1decd36361ed",
      "metadata": {
        "colab": {
          "base_uri": "https://localhost:8080/"
        },
        "id": "9c8a95e8-0ac0-4a8b-b2a0-1decd36361ed",
        "outputId": "489185db-2af3-4ce6-face-5938958be1cf"
      },
      "outputs": [
        {
          "output_type": "stream",
          "name": "stderr",
          "text": [
            "Installing package into ‘/usr/local/lib/R/site-library’\n",
            "(as ‘lib’ is unspecified)\n",
            "\n"
          ]
        }
      ],
      "source": [
        "# Установить необходимый пакет для работы с URL\n",
        "install.packages(\"readr\")\n",
        "\n",
        "# Загрузить библиотеку\n",
        "library(readr)"
      ]
    },
    {
      "cell_type": "code",
      "source": [
        "# Указать URL-адрес файла CSV на GitHub\n",
        "url <- \"https://raw.githubusercontent.com/kindykbayev/KIS/main/lab1/Computers.csv\""
      ],
      "metadata": {
        "id": "Lj7gsiCcdyAm"
      },
      "id": "Lj7gsiCcdyAm",
      "execution_count": 2,
      "outputs": []
    },
    {
      "cell_type": "code",
      "source": [
        "Sys.setenv(\"VROOM_CONNECTION_SIZE\" = 1048576)"
      ],
      "metadata": {
        "id": "0lTraVZ6fVt9"
      },
      "id": "0lTraVZ6fVt9",
      "execution_count": 3,
      "outputs": []
    },
    {
      "cell_type": "code",
      "source": [
        "# Прочитать CSV-файл\n",
        "data <- read_csv(url, col_types = cols(.default = \"integer\", cd = col_character(), multi = col_character(), premium = col_character()))"
      ],
      "metadata": {
        "colab": {
          "base_uri": "https://localhost:8080/"
        },
        "id": "CjqtDQvVeIb_",
        "outputId": "b152294d-71c9-4e2a-b1ed-3fb13f01c037"
      },
      "id": "CjqtDQvVeIb_",
      "execution_count": 4,
      "outputs": [
        {
          "output_type": "stream",
          "name": "stderr",
          "text": [
            "\u001b[1m\u001b[22mNew names:\n",
            "\u001b[36m•\u001b[39m `` -> `...1`\n"
          ]
        }
      ]
    },
    {
      "cell_type": "code",
      "source": [
        "View(data)"
      ],
      "metadata": {
        "colab": {
          "base_uri": "https://localhost:8080/",
          "height": 1000
        },
        "id": "6H5YqfSXgWgJ",
        "outputId": "f52b69de-5d54-400f-f46e-f912e2a6dd66"
      },
      "id": "6H5YqfSXgWgJ",
      "execution_count": 5,
      "outputs": [
        {
          "output_type": "display_data",
          "data": {
            "text/plain": [
              "     ...1 price speed hd   ram screen cd  multi premium ads trend\n",
              "1     1   1499  25     80   4  14     no  no    yes     94  1    \n",
              "2     2   1795  33     85   2  14     no  no    yes     94  1    \n",
              "3     3   1595  25    170   4  15     no  no    yes     94  1    \n",
              "4     4   1849  25    170   8  14     no  no    no      94  1    \n",
              "5     5   3295  33    340  16  14     no  no    yes     94  1    \n",
              "6     6   3695  66    340  16  14     no  no    yes     94  1    \n",
              "7     7   1720  25    170   4  14     yes no    yes     94  1    \n",
              "8     8   1995  50     85   2  14     no  no    yes     94  1    \n",
              "9     9   2225  50    210   8  14     no  no    yes     94  1    \n",
              "10   10   2575  50    210   4  15     no  no    yes     94  1    \n",
              "11   11   2195  33    170   8  15     no  no    yes     94  1    \n",
              "12   12   2605  66    210   8  14     no  no    yes     94  1    \n",
              "13   13   2045  50    130   4  14     no  no    yes     94  1    \n",
              "14   14   2295  25    245   8  14     no  no    yes     94  1    \n",
              "15   15   2699  50    212   8  14     no  no    yes     94  1    \n",
              "16   16   2225  50    130   4  14     no  no    yes     94  1    \n",
              "17   17   1595  33     85   2  14     no  no    yes     94  1    \n",
              "18   18   2325  33    210   4  15     no  no    yes     94  1    \n",
              "19   19   2095  33    250   4  15     no  no    yes     94  1    \n",
              "20   20   4395  66    452   8  14     no  no    yes     94  1    \n",
              "21   21   1695  33    130   4  14     no  no    yes     94  1    \n",
              "22   22   2795  66    130   4  14     no  no    yes     94  1    \n",
              "23   23   2895  25    340  16  14     no  no    yes     94  1    \n",
              "24   24   2875  50    210   4  17     no  no    yes     94  1    \n",
              "25   25   4195  50    452   8  14     no  no    yes     94  1    \n",
              "26   26   1290  33     80   2  14     no  no    yes     94  1    \n",
              "27   27   1975  33    130   4  14     no  no    yes     94  1    \n",
              "28   28   3995  33    452   8  14     no  no    yes     94  1    \n",
              "29   29   3095  33    340  16  14     no  no    yes     94  1    \n",
              "30   30   3244  66    245   8  14     no  no    yes     94  1    \n",
              "⋮    ⋮    ⋮     ⋮     ⋮    ⋮   ⋮      ⋮   ⋮     ⋮       ⋮   ⋮    \n",
              "6230 6230 2344   66    850 16  15     yes no    yes     39  35   \n",
              "6231 6231 2890  100   1200 24  17     yes no    yes     39  35   \n",
              "6232 6232 2390   66    850 16  17     yes no    yes     39  35   \n",
              "6233 6233 1495   66    528  8  14     no  no    yes     39  35   \n",
              "6234 6234 1844  100    528  8  14     no  no    yes     39  35   \n",
              "6235 6235 1699   66    630  8  15     no  no    no      39  35   \n",
              "6236 6236 3290   75   1600 32  17     yes no    yes     39  35   \n",
              "6237 6237 2790   66   1200 24  17     yes no    yes     39  35   \n",
              "6238 6238 2845  100   1600 24  15     yes no    yes     39  35   \n",
              "6239 6239 1744   66    528  8  14     no  no    yes     39  35   \n",
              "6240 6240 3095  100   1600 32  15     yes no    yes     39  35   \n",
              "6241 6241 1595  100    528  8  14     no  no    yes     39  35   \n",
              "6242 6242 2254  100    850 16  15     yes no    yes     39  35   \n",
              "6243 6243 2723  100   1200 24  15     yes yes   yes     39  35   \n",
              "6244 6244 2745   66   1600 24  15     yes no    yes     39  35   \n",
              "6245 6245 3054   75   1600 32  15     yes no    yes     39  35   \n",
              "6246 6246 2744   66   1200 24  15     yes no    yes     39  35   \n",
              "6247 6247 1554   66    528  8  14     no  no    yes     39  35   \n",
              "6248 6248 1654  100    528  8  14     no  no    yes     39  35   \n",
              "6249 6249 2623   66   1200 24  15     yes yes   yes     39  35   \n",
              "6250 6250 2095   66    850 16  15     yes no    yes     39  35   \n",
              "6251 6251 2495   66   1200 24  15     yes no    yes     39  35   \n",
              "6252 6252 2995   66   1600 32  15     yes no    yes     39  35   \n",
              "6253 6253 1690   66   1200  8  14     no  no    yes     39  35   \n",
              "6254 6254 2154   66    850 16  15     yes no    yes     39  35   \n",
              "6255 6255 1690  100    528  8  15     no  no    yes     39  35   \n",
              "6256 6256 2223   66    850 16  15     yes yes   yes     39  35   \n",
              "6257 6257 2654  100   1200 24  15     yes no    yes     39  35   \n",
              "6258 6258 2195  100    850 16  15     yes no    yes     39  35   \n",
              "6259 6259 2490  100    850 16  17     yes no    yes     39  35   "
            ],
            "text/html": [
              "<table class=\"dataframe\">\n",
              "<caption>A spec_tbl_df: 6259 × 11</caption>\n",
              "<thead>\n",
              "\t<tr><th scope=col>...1</th><th scope=col>price</th><th scope=col>speed</th><th scope=col>hd</th><th scope=col>ram</th><th scope=col>screen</th><th scope=col>cd</th><th scope=col>multi</th><th scope=col>premium</th><th scope=col>ads</th><th scope=col>trend</th></tr>\n",
              "\t<tr><th scope=col>&lt;int&gt;</th><th scope=col>&lt;int&gt;</th><th scope=col>&lt;int&gt;</th><th scope=col>&lt;int&gt;</th><th scope=col>&lt;int&gt;</th><th scope=col>&lt;int&gt;</th><th scope=col>&lt;chr&gt;</th><th scope=col>&lt;chr&gt;</th><th scope=col>&lt;chr&gt;</th><th scope=col>&lt;int&gt;</th><th scope=col>&lt;int&gt;</th></tr>\n",
              "</thead>\n",
              "<tbody>\n",
              "\t<tr><td> 1</td><td>1499</td><td>25</td><td> 80</td><td> 4</td><td>14</td><td>no </td><td>no</td><td>yes</td><td>94</td><td>1</td></tr>\n",
              "\t<tr><td> 2</td><td>1795</td><td>33</td><td> 85</td><td> 2</td><td>14</td><td>no </td><td>no</td><td>yes</td><td>94</td><td>1</td></tr>\n",
              "\t<tr><td> 3</td><td>1595</td><td>25</td><td>170</td><td> 4</td><td>15</td><td>no </td><td>no</td><td>yes</td><td>94</td><td>1</td></tr>\n",
              "\t<tr><td> 4</td><td>1849</td><td>25</td><td>170</td><td> 8</td><td>14</td><td>no </td><td>no</td><td>no </td><td>94</td><td>1</td></tr>\n",
              "\t<tr><td> 5</td><td>3295</td><td>33</td><td>340</td><td>16</td><td>14</td><td>no </td><td>no</td><td>yes</td><td>94</td><td>1</td></tr>\n",
              "\t<tr><td> 6</td><td>3695</td><td>66</td><td>340</td><td>16</td><td>14</td><td>no </td><td>no</td><td>yes</td><td>94</td><td>1</td></tr>\n",
              "\t<tr><td> 7</td><td>1720</td><td>25</td><td>170</td><td> 4</td><td>14</td><td>yes</td><td>no</td><td>yes</td><td>94</td><td>1</td></tr>\n",
              "\t<tr><td> 8</td><td>1995</td><td>50</td><td> 85</td><td> 2</td><td>14</td><td>no </td><td>no</td><td>yes</td><td>94</td><td>1</td></tr>\n",
              "\t<tr><td> 9</td><td>2225</td><td>50</td><td>210</td><td> 8</td><td>14</td><td>no </td><td>no</td><td>yes</td><td>94</td><td>1</td></tr>\n",
              "\t<tr><td>10</td><td>2575</td><td>50</td><td>210</td><td> 4</td><td>15</td><td>no </td><td>no</td><td>yes</td><td>94</td><td>1</td></tr>\n",
              "\t<tr><td>11</td><td>2195</td><td>33</td><td>170</td><td> 8</td><td>15</td><td>no </td><td>no</td><td>yes</td><td>94</td><td>1</td></tr>\n",
              "\t<tr><td>12</td><td>2605</td><td>66</td><td>210</td><td> 8</td><td>14</td><td>no </td><td>no</td><td>yes</td><td>94</td><td>1</td></tr>\n",
              "\t<tr><td>13</td><td>2045</td><td>50</td><td>130</td><td> 4</td><td>14</td><td>no </td><td>no</td><td>yes</td><td>94</td><td>1</td></tr>\n",
              "\t<tr><td>14</td><td>2295</td><td>25</td><td>245</td><td> 8</td><td>14</td><td>no </td><td>no</td><td>yes</td><td>94</td><td>1</td></tr>\n",
              "\t<tr><td>15</td><td>2699</td><td>50</td><td>212</td><td> 8</td><td>14</td><td>no </td><td>no</td><td>yes</td><td>94</td><td>1</td></tr>\n",
              "\t<tr><td>16</td><td>2225</td><td>50</td><td>130</td><td> 4</td><td>14</td><td>no </td><td>no</td><td>yes</td><td>94</td><td>1</td></tr>\n",
              "\t<tr><td>17</td><td>1595</td><td>33</td><td> 85</td><td> 2</td><td>14</td><td>no </td><td>no</td><td>yes</td><td>94</td><td>1</td></tr>\n",
              "\t<tr><td>18</td><td>2325</td><td>33</td><td>210</td><td> 4</td><td>15</td><td>no </td><td>no</td><td>yes</td><td>94</td><td>1</td></tr>\n",
              "\t<tr><td>19</td><td>2095</td><td>33</td><td>250</td><td> 4</td><td>15</td><td>no </td><td>no</td><td>yes</td><td>94</td><td>1</td></tr>\n",
              "\t<tr><td>20</td><td>4395</td><td>66</td><td>452</td><td> 8</td><td>14</td><td>no </td><td>no</td><td>yes</td><td>94</td><td>1</td></tr>\n",
              "\t<tr><td>21</td><td>1695</td><td>33</td><td>130</td><td> 4</td><td>14</td><td>no </td><td>no</td><td>yes</td><td>94</td><td>1</td></tr>\n",
              "\t<tr><td>22</td><td>2795</td><td>66</td><td>130</td><td> 4</td><td>14</td><td>no </td><td>no</td><td>yes</td><td>94</td><td>1</td></tr>\n",
              "\t<tr><td>23</td><td>2895</td><td>25</td><td>340</td><td>16</td><td>14</td><td>no </td><td>no</td><td>yes</td><td>94</td><td>1</td></tr>\n",
              "\t<tr><td>24</td><td>2875</td><td>50</td><td>210</td><td> 4</td><td>17</td><td>no </td><td>no</td><td>yes</td><td>94</td><td>1</td></tr>\n",
              "\t<tr><td>25</td><td>4195</td><td>50</td><td>452</td><td> 8</td><td>14</td><td>no </td><td>no</td><td>yes</td><td>94</td><td>1</td></tr>\n",
              "\t<tr><td>26</td><td>1290</td><td>33</td><td> 80</td><td> 2</td><td>14</td><td>no </td><td>no</td><td>yes</td><td>94</td><td>1</td></tr>\n",
              "\t<tr><td>27</td><td>1975</td><td>33</td><td>130</td><td> 4</td><td>14</td><td>no </td><td>no</td><td>yes</td><td>94</td><td>1</td></tr>\n",
              "\t<tr><td>28</td><td>3995</td><td>33</td><td>452</td><td> 8</td><td>14</td><td>no </td><td>no</td><td>yes</td><td>94</td><td>1</td></tr>\n",
              "\t<tr><td>29</td><td>3095</td><td>33</td><td>340</td><td>16</td><td>14</td><td>no </td><td>no</td><td>yes</td><td>94</td><td>1</td></tr>\n",
              "\t<tr><td>30</td><td>3244</td><td>66</td><td>245</td><td> 8</td><td>14</td><td>no </td><td>no</td><td>yes</td><td>94</td><td>1</td></tr>\n",
              "\t<tr><td>⋮</td><td>⋮</td><td>⋮</td><td>⋮</td><td>⋮</td><td>⋮</td><td>⋮</td><td>⋮</td><td>⋮</td><td>⋮</td><td>⋮</td></tr>\n",
              "\t<tr><td>6230</td><td>2344</td><td> 66</td><td> 850</td><td>16</td><td>15</td><td>yes</td><td>no </td><td>yes</td><td>39</td><td>35</td></tr>\n",
              "\t<tr><td>6231</td><td>2890</td><td>100</td><td>1200</td><td>24</td><td>17</td><td>yes</td><td>no </td><td>yes</td><td>39</td><td>35</td></tr>\n",
              "\t<tr><td>6232</td><td>2390</td><td> 66</td><td> 850</td><td>16</td><td>17</td><td>yes</td><td>no </td><td>yes</td><td>39</td><td>35</td></tr>\n",
              "\t<tr><td>6233</td><td>1495</td><td> 66</td><td> 528</td><td> 8</td><td>14</td><td>no </td><td>no </td><td>yes</td><td>39</td><td>35</td></tr>\n",
              "\t<tr><td>6234</td><td>1844</td><td>100</td><td> 528</td><td> 8</td><td>14</td><td>no </td><td>no </td><td>yes</td><td>39</td><td>35</td></tr>\n",
              "\t<tr><td>6235</td><td>1699</td><td> 66</td><td> 630</td><td> 8</td><td>15</td><td>no </td><td>no </td><td>no </td><td>39</td><td>35</td></tr>\n",
              "\t<tr><td>6236</td><td>3290</td><td> 75</td><td>1600</td><td>32</td><td>17</td><td>yes</td><td>no </td><td>yes</td><td>39</td><td>35</td></tr>\n",
              "\t<tr><td>6237</td><td>2790</td><td> 66</td><td>1200</td><td>24</td><td>17</td><td>yes</td><td>no </td><td>yes</td><td>39</td><td>35</td></tr>\n",
              "\t<tr><td>6238</td><td>2845</td><td>100</td><td>1600</td><td>24</td><td>15</td><td>yes</td><td>no </td><td>yes</td><td>39</td><td>35</td></tr>\n",
              "\t<tr><td>6239</td><td>1744</td><td> 66</td><td> 528</td><td> 8</td><td>14</td><td>no </td><td>no </td><td>yes</td><td>39</td><td>35</td></tr>\n",
              "\t<tr><td>6240</td><td>3095</td><td>100</td><td>1600</td><td>32</td><td>15</td><td>yes</td><td>no </td><td>yes</td><td>39</td><td>35</td></tr>\n",
              "\t<tr><td>6241</td><td>1595</td><td>100</td><td> 528</td><td> 8</td><td>14</td><td>no </td><td>no </td><td>yes</td><td>39</td><td>35</td></tr>\n",
              "\t<tr><td>6242</td><td>2254</td><td>100</td><td> 850</td><td>16</td><td>15</td><td>yes</td><td>no </td><td>yes</td><td>39</td><td>35</td></tr>\n",
              "\t<tr><td>6243</td><td>2723</td><td>100</td><td>1200</td><td>24</td><td>15</td><td>yes</td><td>yes</td><td>yes</td><td>39</td><td>35</td></tr>\n",
              "\t<tr><td>6244</td><td>2745</td><td> 66</td><td>1600</td><td>24</td><td>15</td><td>yes</td><td>no </td><td>yes</td><td>39</td><td>35</td></tr>\n",
              "\t<tr><td>6245</td><td>3054</td><td> 75</td><td>1600</td><td>32</td><td>15</td><td>yes</td><td>no </td><td>yes</td><td>39</td><td>35</td></tr>\n",
              "\t<tr><td>6246</td><td>2744</td><td> 66</td><td>1200</td><td>24</td><td>15</td><td>yes</td><td>no </td><td>yes</td><td>39</td><td>35</td></tr>\n",
              "\t<tr><td>6247</td><td>1554</td><td> 66</td><td> 528</td><td> 8</td><td>14</td><td>no </td><td>no </td><td>yes</td><td>39</td><td>35</td></tr>\n",
              "\t<tr><td>6248</td><td>1654</td><td>100</td><td> 528</td><td> 8</td><td>14</td><td>no </td><td>no </td><td>yes</td><td>39</td><td>35</td></tr>\n",
              "\t<tr><td>6249</td><td>2623</td><td> 66</td><td>1200</td><td>24</td><td>15</td><td>yes</td><td>yes</td><td>yes</td><td>39</td><td>35</td></tr>\n",
              "\t<tr><td>6250</td><td>2095</td><td> 66</td><td> 850</td><td>16</td><td>15</td><td>yes</td><td>no </td><td>yes</td><td>39</td><td>35</td></tr>\n",
              "\t<tr><td>6251</td><td>2495</td><td> 66</td><td>1200</td><td>24</td><td>15</td><td>yes</td><td>no </td><td>yes</td><td>39</td><td>35</td></tr>\n",
              "\t<tr><td>6252</td><td>2995</td><td> 66</td><td>1600</td><td>32</td><td>15</td><td>yes</td><td>no </td><td>yes</td><td>39</td><td>35</td></tr>\n",
              "\t<tr><td>6253</td><td>1690</td><td> 66</td><td>1200</td><td> 8</td><td>14</td><td>no </td><td>no </td><td>yes</td><td>39</td><td>35</td></tr>\n",
              "\t<tr><td>6254</td><td>2154</td><td> 66</td><td> 850</td><td>16</td><td>15</td><td>yes</td><td>no </td><td>yes</td><td>39</td><td>35</td></tr>\n",
              "\t<tr><td>6255</td><td>1690</td><td>100</td><td> 528</td><td> 8</td><td>15</td><td>no </td><td>no </td><td>yes</td><td>39</td><td>35</td></tr>\n",
              "\t<tr><td>6256</td><td>2223</td><td> 66</td><td> 850</td><td>16</td><td>15</td><td>yes</td><td>yes</td><td>yes</td><td>39</td><td>35</td></tr>\n",
              "\t<tr><td>6257</td><td>2654</td><td>100</td><td>1200</td><td>24</td><td>15</td><td>yes</td><td>no </td><td>yes</td><td>39</td><td>35</td></tr>\n",
              "\t<tr><td>6258</td><td>2195</td><td>100</td><td> 850</td><td>16</td><td>15</td><td>yes</td><td>no </td><td>yes</td><td>39</td><td>35</td></tr>\n",
              "\t<tr><td>6259</td><td>2490</td><td>100</td><td> 850</td><td>16</td><td>17</td><td>yes</td><td>no </td><td>yes</td><td>39</td><td>35</td></tr>\n",
              "</tbody>\n",
              "</table>\n"
            ],
            "text/markdown": "\nA spec_tbl_df: 6259 × 11\n\n| ...1 &lt;int&gt; | price &lt;int&gt; | speed &lt;int&gt; | hd &lt;int&gt; | ram &lt;int&gt; | screen &lt;int&gt; | cd &lt;chr&gt; | multi &lt;chr&gt; | premium &lt;chr&gt; | ads &lt;int&gt; | trend &lt;int&gt; |\n|---|---|---|---|---|---|---|---|---|---|---|\n|  1 | 1499 | 25 |  80 |  4 | 14 | no  | no | yes | 94 | 1 |\n|  2 | 1795 | 33 |  85 |  2 | 14 | no  | no | yes | 94 | 1 |\n|  3 | 1595 | 25 | 170 |  4 | 15 | no  | no | yes | 94 | 1 |\n|  4 | 1849 | 25 | 170 |  8 | 14 | no  | no | no  | 94 | 1 |\n|  5 | 3295 | 33 | 340 | 16 | 14 | no  | no | yes | 94 | 1 |\n|  6 | 3695 | 66 | 340 | 16 | 14 | no  | no | yes | 94 | 1 |\n|  7 | 1720 | 25 | 170 |  4 | 14 | yes | no | yes | 94 | 1 |\n|  8 | 1995 | 50 |  85 |  2 | 14 | no  | no | yes | 94 | 1 |\n|  9 | 2225 | 50 | 210 |  8 | 14 | no  | no | yes | 94 | 1 |\n| 10 | 2575 | 50 | 210 |  4 | 15 | no  | no | yes | 94 | 1 |\n| 11 | 2195 | 33 | 170 |  8 | 15 | no  | no | yes | 94 | 1 |\n| 12 | 2605 | 66 | 210 |  8 | 14 | no  | no | yes | 94 | 1 |\n| 13 | 2045 | 50 | 130 |  4 | 14 | no  | no | yes | 94 | 1 |\n| 14 | 2295 | 25 | 245 |  8 | 14 | no  | no | yes | 94 | 1 |\n| 15 | 2699 | 50 | 212 |  8 | 14 | no  | no | yes | 94 | 1 |\n| 16 | 2225 | 50 | 130 |  4 | 14 | no  | no | yes | 94 | 1 |\n| 17 | 1595 | 33 |  85 |  2 | 14 | no  | no | yes | 94 | 1 |\n| 18 | 2325 | 33 | 210 |  4 | 15 | no  | no | yes | 94 | 1 |\n| 19 | 2095 | 33 | 250 |  4 | 15 | no  | no | yes | 94 | 1 |\n| 20 | 4395 | 66 | 452 |  8 | 14 | no  | no | yes | 94 | 1 |\n| 21 | 1695 | 33 | 130 |  4 | 14 | no  | no | yes | 94 | 1 |\n| 22 | 2795 | 66 | 130 |  4 | 14 | no  | no | yes | 94 | 1 |\n| 23 | 2895 | 25 | 340 | 16 | 14 | no  | no | yes | 94 | 1 |\n| 24 | 2875 | 50 | 210 |  4 | 17 | no  | no | yes | 94 | 1 |\n| 25 | 4195 | 50 | 452 |  8 | 14 | no  | no | yes | 94 | 1 |\n| 26 | 1290 | 33 |  80 |  2 | 14 | no  | no | yes | 94 | 1 |\n| 27 | 1975 | 33 | 130 |  4 | 14 | no  | no | yes | 94 | 1 |\n| 28 | 3995 | 33 | 452 |  8 | 14 | no  | no | yes | 94 | 1 |\n| 29 | 3095 | 33 | 340 | 16 | 14 | no  | no | yes | 94 | 1 |\n| 30 | 3244 | 66 | 245 |  8 | 14 | no  | no | yes | 94 | 1 |\n| ⋮ | ⋮ | ⋮ | ⋮ | ⋮ | ⋮ | ⋮ | ⋮ | ⋮ | ⋮ | ⋮ |\n| 6230 | 2344 |  66 |  850 | 16 | 15 | yes | no  | yes | 39 | 35 |\n| 6231 | 2890 | 100 | 1200 | 24 | 17 | yes | no  | yes | 39 | 35 |\n| 6232 | 2390 |  66 |  850 | 16 | 17 | yes | no  | yes | 39 | 35 |\n| 6233 | 1495 |  66 |  528 |  8 | 14 | no  | no  | yes | 39 | 35 |\n| 6234 | 1844 | 100 |  528 |  8 | 14 | no  | no  | yes | 39 | 35 |\n| 6235 | 1699 |  66 |  630 |  8 | 15 | no  | no  | no  | 39 | 35 |\n| 6236 | 3290 |  75 | 1600 | 32 | 17 | yes | no  | yes | 39 | 35 |\n| 6237 | 2790 |  66 | 1200 | 24 | 17 | yes | no  | yes | 39 | 35 |\n| 6238 | 2845 | 100 | 1600 | 24 | 15 | yes | no  | yes | 39 | 35 |\n| 6239 | 1744 |  66 |  528 |  8 | 14 | no  | no  | yes | 39 | 35 |\n| 6240 | 3095 | 100 | 1600 | 32 | 15 | yes | no  | yes | 39 | 35 |\n| 6241 | 1595 | 100 |  528 |  8 | 14 | no  | no  | yes | 39 | 35 |\n| 6242 | 2254 | 100 |  850 | 16 | 15 | yes | no  | yes | 39 | 35 |\n| 6243 | 2723 | 100 | 1200 | 24 | 15 | yes | yes | yes | 39 | 35 |\n| 6244 | 2745 |  66 | 1600 | 24 | 15 | yes | no  | yes | 39 | 35 |\n| 6245 | 3054 |  75 | 1600 | 32 | 15 | yes | no  | yes | 39 | 35 |\n| 6246 | 2744 |  66 | 1200 | 24 | 15 | yes | no  | yes | 39 | 35 |\n| 6247 | 1554 |  66 |  528 |  8 | 14 | no  | no  | yes | 39 | 35 |\n| 6248 | 1654 | 100 |  528 |  8 | 14 | no  | no  | yes | 39 | 35 |\n| 6249 | 2623 |  66 | 1200 | 24 | 15 | yes | yes | yes | 39 | 35 |\n| 6250 | 2095 |  66 |  850 | 16 | 15 | yes | no  | yes | 39 | 35 |\n| 6251 | 2495 |  66 | 1200 | 24 | 15 | yes | no  | yes | 39 | 35 |\n| 6252 | 2995 |  66 | 1600 | 32 | 15 | yes | no  | yes | 39 | 35 |\n| 6253 | 1690 |  66 | 1200 |  8 | 14 | no  | no  | yes | 39 | 35 |\n| 6254 | 2154 |  66 |  850 | 16 | 15 | yes | no  | yes | 39 | 35 |\n| 6255 | 1690 | 100 |  528 |  8 | 15 | no  | no  | yes | 39 | 35 |\n| 6256 | 2223 |  66 |  850 | 16 | 15 | yes | yes | yes | 39 | 35 |\n| 6257 | 2654 | 100 | 1200 | 24 | 15 | yes | no  | yes | 39 | 35 |\n| 6258 | 2195 | 100 |  850 | 16 | 15 | yes | no  | yes | 39 | 35 |\n| 6259 | 2490 | 100 |  850 | 16 | 17 | yes | no  | yes | 39 | 35 |\n\n",
            "text/latex": "A spec\\_tbl\\_df: 6259 × 11\n\\begin{tabular}{lllllllllll}\n ...1 & price & speed & hd & ram & screen & cd & multi & premium & ads & trend\\\\\n <int> & <int> & <int> & <int> & <int> & <int> & <chr> & <chr> & <chr> & <int> & <int>\\\\\n\\hline\n\t  1 & 1499 & 25 &  80 &  4 & 14 & no  & no & yes & 94 & 1\\\\\n\t  2 & 1795 & 33 &  85 &  2 & 14 & no  & no & yes & 94 & 1\\\\\n\t  3 & 1595 & 25 & 170 &  4 & 15 & no  & no & yes & 94 & 1\\\\\n\t  4 & 1849 & 25 & 170 &  8 & 14 & no  & no & no  & 94 & 1\\\\\n\t  5 & 3295 & 33 & 340 & 16 & 14 & no  & no & yes & 94 & 1\\\\\n\t  6 & 3695 & 66 & 340 & 16 & 14 & no  & no & yes & 94 & 1\\\\\n\t  7 & 1720 & 25 & 170 &  4 & 14 & yes & no & yes & 94 & 1\\\\\n\t  8 & 1995 & 50 &  85 &  2 & 14 & no  & no & yes & 94 & 1\\\\\n\t  9 & 2225 & 50 & 210 &  8 & 14 & no  & no & yes & 94 & 1\\\\\n\t 10 & 2575 & 50 & 210 &  4 & 15 & no  & no & yes & 94 & 1\\\\\n\t 11 & 2195 & 33 & 170 &  8 & 15 & no  & no & yes & 94 & 1\\\\\n\t 12 & 2605 & 66 & 210 &  8 & 14 & no  & no & yes & 94 & 1\\\\\n\t 13 & 2045 & 50 & 130 &  4 & 14 & no  & no & yes & 94 & 1\\\\\n\t 14 & 2295 & 25 & 245 &  8 & 14 & no  & no & yes & 94 & 1\\\\\n\t 15 & 2699 & 50 & 212 &  8 & 14 & no  & no & yes & 94 & 1\\\\\n\t 16 & 2225 & 50 & 130 &  4 & 14 & no  & no & yes & 94 & 1\\\\\n\t 17 & 1595 & 33 &  85 &  2 & 14 & no  & no & yes & 94 & 1\\\\\n\t 18 & 2325 & 33 & 210 &  4 & 15 & no  & no & yes & 94 & 1\\\\\n\t 19 & 2095 & 33 & 250 &  4 & 15 & no  & no & yes & 94 & 1\\\\\n\t 20 & 4395 & 66 & 452 &  8 & 14 & no  & no & yes & 94 & 1\\\\\n\t 21 & 1695 & 33 & 130 &  4 & 14 & no  & no & yes & 94 & 1\\\\\n\t 22 & 2795 & 66 & 130 &  4 & 14 & no  & no & yes & 94 & 1\\\\\n\t 23 & 2895 & 25 & 340 & 16 & 14 & no  & no & yes & 94 & 1\\\\\n\t 24 & 2875 & 50 & 210 &  4 & 17 & no  & no & yes & 94 & 1\\\\\n\t 25 & 4195 & 50 & 452 &  8 & 14 & no  & no & yes & 94 & 1\\\\\n\t 26 & 1290 & 33 &  80 &  2 & 14 & no  & no & yes & 94 & 1\\\\\n\t 27 & 1975 & 33 & 130 &  4 & 14 & no  & no & yes & 94 & 1\\\\\n\t 28 & 3995 & 33 & 452 &  8 & 14 & no  & no & yes & 94 & 1\\\\\n\t 29 & 3095 & 33 & 340 & 16 & 14 & no  & no & yes & 94 & 1\\\\\n\t 30 & 3244 & 66 & 245 &  8 & 14 & no  & no & yes & 94 & 1\\\\\n\t ⋮ & ⋮ & ⋮ & ⋮ & ⋮ & ⋮ & ⋮ & ⋮ & ⋮ & ⋮ & ⋮\\\\\n\t 6230 & 2344 &  66 &  850 & 16 & 15 & yes & no  & yes & 39 & 35\\\\\n\t 6231 & 2890 & 100 & 1200 & 24 & 17 & yes & no  & yes & 39 & 35\\\\\n\t 6232 & 2390 &  66 &  850 & 16 & 17 & yes & no  & yes & 39 & 35\\\\\n\t 6233 & 1495 &  66 &  528 &  8 & 14 & no  & no  & yes & 39 & 35\\\\\n\t 6234 & 1844 & 100 &  528 &  8 & 14 & no  & no  & yes & 39 & 35\\\\\n\t 6235 & 1699 &  66 &  630 &  8 & 15 & no  & no  & no  & 39 & 35\\\\\n\t 6236 & 3290 &  75 & 1600 & 32 & 17 & yes & no  & yes & 39 & 35\\\\\n\t 6237 & 2790 &  66 & 1200 & 24 & 17 & yes & no  & yes & 39 & 35\\\\\n\t 6238 & 2845 & 100 & 1600 & 24 & 15 & yes & no  & yes & 39 & 35\\\\\n\t 6239 & 1744 &  66 &  528 &  8 & 14 & no  & no  & yes & 39 & 35\\\\\n\t 6240 & 3095 & 100 & 1600 & 32 & 15 & yes & no  & yes & 39 & 35\\\\\n\t 6241 & 1595 & 100 &  528 &  8 & 14 & no  & no  & yes & 39 & 35\\\\\n\t 6242 & 2254 & 100 &  850 & 16 & 15 & yes & no  & yes & 39 & 35\\\\\n\t 6243 & 2723 & 100 & 1200 & 24 & 15 & yes & yes & yes & 39 & 35\\\\\n\t 6244 & 2745 &  66 & 1600 & 24 & 15 & yes & no  & yes & 39 & 35\\\\\n\t 6245 & 3054 &  75 & 1600 & 32 & 15 & yes & no  & yes & 39 & 35\\\\\n\t 6246 & 2744 &  66 & 1200 & 24 & 15 & yes & no  & yes & 39 & 35\\\\\n\t 6247 & 1554 &  66 &  528 &  8 & 14 & no  & no  & yes & 39 & 35\\\\\n\t 6248 & 1654 & 100 &  528 &  8 & 14 & no  & no  & yes & 39 & 35\\\\\n\t 6249 & 2623 &  66 & 1200 & 24 & 15 & yes & yes & yes & 39 & 35\\\\\n\t 6250 & 2095 &  66 &  850 & 16 & 15 & yes & no  & yes & 39 & 35\\\\\n\t 6251 & 2495 &  66 & 1200 & 24 & 15 & yes & no  & yes & 39 & 35\\\\\n\t 6252 & 2995 &  66 & 1600 & 32 & 15 & yes & no  & yes & 39 & 35\\\\\n\t 6253 & 1690 &  66 & 1200 &  8 & 14 & no  & no  & yes & 39 & 35\\\\\n\t 6254 & 2154 &  66 &  850 & 16 & 15 & yes & no  & yes & 39 & 35\\\\\n\t 6255 & 1690 & 100 &  528 &  8 & 15 & no  & no  & yes & 39 & 35\\\\\n\t 6256 & 2223 &  66 &  850 & 16 & 15 & yes & yes & yes & 39 & 35\\\\\n\t 6257 & 2654 & 100 & 1200 & 24 & 15 & yes & no  & yes & 39 & 35\\\\\n\t 6258 & 2195 & 100 &  850 & 16 & 15 & yes & no  & yes & 39 & 35\\\\\n\t 6259 & 2490 & 100 &  850 & 16 & 17 & yes & no  & yes & 39 & 35\\\\\n\\end{tabular}\n"
          },
          "metadata": {}
        }
      ]
    },
    {
      "cell_type": "code",
      "source": [
        "set.seed(13)\n",
        "Count_low<-data.frame()\n",
        "for (i in c(1:50)){\n",
        "    Count_low<-rbind(Count_low, c(i,sample(c(3:6),1), sample(c(6:20),1), sample(c(1:20),1), sample(c(1:9),1)))}\n",
        "colnames(Count_low)<-c(\"Вариант\",\"Количество С1 >=\",\"Количество С2 >=\", \"Количество С3 >=\", \"Количество С4 >=\")\n",
        "View(Count_low[6, ])"
      ],
      "metadata": {
        "id": "jH6rvGj_Mp0s",
        "outputId": "14e6e4ab-1cda-427c-a1d4-7a78b449d2f8",
        "colab": {
          "base_uri": "https://localhost:8080/",
          "height": 129
        }
      },
      "id": "jH6rvGj_Mp0s",
      "execution_count": 6,
      "outputs": [
        {
          "output_type": "display_data",
          "data": {
            "text/plain": [
              "  Вариант Количество С1 >= Количество С2 >= Количество С3 >= Количество С4 >=\n",
              "6 6       6                6                11               4               "
            ],
            "text/html": [
              "<table class=\"dataframe\">\n",
              "<caption>A data.frame: 1 × 5</caption>\n",
              "<thead>\n",
              "\t<tr><th></th><th scope=col>Вариант</th><th scope=col>Количество С1 &gt;=</th><th scope=col>Количество С2 &gt;=</th><th scope=col>Количество С3 &gt;=</th><th scope=col>Количество С4 &gt;=</th></tr>\n",
              "\t<tr><th></th><th scope=col>&lt;int&gt;</th><th scope=col>&lt;int&gt;</th><th scope=col>&lt;int&gt;</th><th scope=col>&lt;int&gt;</th><th scope=col>&lt;int&gt;</th></tr>\n",
              "</thead>\n",
              "<tbody>\n",
              "\t<tr><th scope=row>6</th><td>6</td><td>6</td><td>6</td><td>11</td><td>4</td></tr>\n",
              "</tbody>\n",
              "</table>\n"
            ],
            "text/markdown": "\nA data.frame: 1 × 5\n\n| <!--/--> | Вариант &lt;int&gt; | Количество С1 &gt;= &lt;int&gt; | Количество С2 &gt;= &lt;int&gt; | Количество С3 &gt;= &lt;int&gt; | Количество С4 &gt;= &lt;int&gt; |\n|---|---|---|---|---|---|\n| 6 | 6 | 6 | 6 | 11 | 4 |\n\n",
            "text/latex": "A data.frame: 1 × 5\n\\begin{tabular}{r|lllll}\n  & Вариант & Количество С1 >= & Количество С2 >= & Количество С3 >= & Количество С4 >=\\\\\n  & <int> & <int> & <int> & <int> & <int>\\\\\n\\hline\n\t6 & 6 & 6 & 6 & 11 & 4\\\\\n\\end{tabular}\n"
          },
          "metadata": {}
        }
      ]
    },
    {
      "cell_type": "code",
      "source": [
        "Count_up<-data.frame()\n",
        "for (i in c(1:50)){\n",
        "    Count_up<-rbind(Count_up, c(i,Count_low[i,2]+sample(c(3:6),1), Count_low[i,3]+sample(c(6:20),1),\n",
        "                                          Count_low[i,4]+sample(c(1:20),1), Count_low[i,5]+sample(c(1:9),1)))}\n",
        "colnames(Count_up)<-c(\"Вариант\",\"Количество С1 <=\",\"Количество С2 <=\", \"Количество С3 <=\", \"Количество С4 <=\")\n",
        "View(Count_up[6, ])"
      ],
      "metadata": {
        "id": "3JD2k-yYMshV",
        "outputId": "3c469aaf-e6c7-4fe9-f9aa-d06c00875c14",
        "colab": {
          "base_uri": "https://localhost:8080/",
          "height": 129
        }
      },
      "id": "3JD2k-yYMshV",
      "execution_count": 7,
      "outputs": [
        {
          "output_type": "display_data",
          "data": {
            "text/plain": [
              "  Вариант Количество С1 <= Количество С2 <= Количество С3 <= Количество С4 <=\n",
              "6 6       10               22               15               13              "
            ],
            "text/html": [
              "<table class=\"dataframe\">\n",
              "<caption>A data.frame: 1 × 5</caption>\n",
              "<thead>\n",
              "\t<tr><th></th><th scope=col>Вариант</th><th scope=col>Количество С1 &lt;=</th><th scope=col>Количество С2 &lt;=</th><th scope=col>Количество С3 &lt;=</th><th scope=col>Количество С4 &lt;=</th></tr>\n",
              "\t<tr><th></th><th scope=col>&lt;int&gt;</th><th scope=col>&lt;int&gt;</th><th scope=col>&lt;int&gt;</th><th scope=col>&lt;int&gt;</th><th scope=col>&lt;int&gt;</th></tr>\n",
              "</thead>\n",
              "<tbody>\n",
              "\t<tr><th scope=row>6</th><td>6</td><td>10</td><td>22</td><td>15</td><td>13</td></tr>\n",
              "</tbody>\n",
              "</table>\n"
            ],
            "text/markdown": "\nA data.frame: 1 × 5\n\n| <!--/--> | Вариант &lt;int&gt; | Количество С1 &lt;= &lt;int&gt; | Количество С2 &lt;= &lt;int&gt; | Количество С3 &lt;= &lt;int&gt; | Количество С4 &lt;= &lt;int&gt; |\n|---|---|---|---|---|---|\n| 6 | 6 | 10 | 22 | 15 | 13 |\n\n",
            "text/latex": "A data.frame: 1 × 5\n\\begin{tabular}{r|lllll}\n  & Вариант & Количество С1 <= & Количество С2 <= & Количество С3 <= & Количество С4 <=\\\\\n  & <int> & <int> & <int> & <int> & <int>\\\\\n\\hline\n\t6 & 6 & 10 & 22 & 15 & 13\\\\\n\\end{tabular}\n"
          },
          "metadata": {}
        }
      ]
    },
    {
      "cell_type": "code",
      "source": [
        "Res<-lm(price~speed+ram+hd, data)\n",
        "Res"
      ],
      "metadata": {
        "id": "QWFA0L3eM8Nw",
        "outputId": "9ab00165-d739-48c5-8cfe-02f282f02884",
        "colab": {
          "base_uri": "https://localhost:8080/",
          "height": 142
        }
      },
      "id": "QWFA0L3eM8Nw",
      "execution_count": 8,
      "outputs": [
        {
          "output_type": "display_data",
          "data": {
            "text/plain": [
              "\n",
              "Call:\n",
              "lm(formula = price ~ speed + ram + hd, data = data)\n",
              "\n",
              "Coefficients:\n",
              "(Intercept)        speed          ram           hd  \n",
              "  1492.1775       5.8112      78.2357      -0.5357  \n"
            ]
          },
          "metadata": {}
        }
      ]
    },
    {
      "cell_type": "code",
      "source": [
        "g<-predict(Res,data)\n",
        "View(data.frame(data$price, g))"
      ],
      "metadata": {
        "id": "052fK9i0_z3U",
        "outputId": "f9336dc1-963f-48a4-af60-adcac29a5494",
        "colab": {
          "base_uri": "https://localhost:8080/",
          "height": 1000
        }
      },
      "id": "052fK9i0_z3U",
      "execution_count": 9,
      "outputs": [
        {
          "output_type": "display_data",
          "data": {
            "text/plain": [
              "     data.price g       \n",
              "1    1499       1907.542\n",
              "2    1795       1794.882\n",
              "3    1595       1859.328\n",
              "4    1849       2172.271\n",
              "5    3295       2753.573\n",
              "6    3695       2945.343\n",
              "7    1720       1859.328\n",
              "8    1995       1893.672\n",
              "9    2225       2296.121\n",
              "10   2575       1983.179\n",
              "11   2195       2218.760\n",
              "12   2605       2389.100\n",
              "13   2045       2026.036\n",
              "14   2295       2132.092\n",
              "15   2699       2295.050\n",
              "16   2225       2026.036\n",
              "17   1595       1794.882\n",
              "18   2325       1884.388\n",
              "19   2095       1862.960\n",
              "20   4395       2259.456\n",
              "21   1695       1927.246\n",
              "22   2795       2119.015\n",
              "23   2895       2707.084\n",
              "24   2875       1983.179\n",
              "25   4195       2166.477\n",
              "26   1290       1797.561\n",
              "27   1975       1927.246\n",
              "28   3995       2067.687\n",
              "29   3095       2753.573\n",
              "30   3244       2370.350\n",
              "⋮    ⋮          ⋮       \n",
              "6230 2344       2672.125\n",
              "6231 2890       3308.089\n",
              "6232 2390       2672.125\n",
              "6233 1495       2218.741\n",
              "6234 1844       2416.322\n",
              "6235 1699       2164.098\n",
              "6236 3290       3574.407\n",
              "6237 2790       3110.509\n",
              "6238 2845       3093.801\n",
              "6239 1744       2218.741\n",
              "6240 3095       3719.687\n",
              "6241 1595       2416.322\n",
              "6242 2254       2869.706\n",
              "6243 2723       3308.089\n",
              "6244 2745       2896.221\n",
              "6245 3054       3574.407\n",
              "6246 2744       3110.509\n",
              "6247 1554       2218.741\n",
              "6248 1654       2416.322\n",
              "6249 2623       3110.509\n",
              "6250 2095       2672.125\n",
              "6251 2495       3110.509\n",
              "6252 2995       3522.106\n",
              "6253 1690       1858.737\n",
              "6254 2154       2672.125\n",
              "6255 1690       2416.322\n",
              "6256 2223       2672.125\n",
              "6257 2654       3308.089\n",
              "6258 2195       2869.706\n",
              "6259 2490       2869.706"
            ],
            "text/html": [
              "<table class=\"dataframe\">\n",
              "<caption>A data.frame: 6259 × 2</caption>\n",
              "<thead>\n",
              "\t<tr><th></th><th scope=col>data.price</th><th scope=col>g</th></tr>\n",
              "\t<tr><th></th><th scope=col>&lt;int&gt;</th><th scope=col>&lt;dbl&gt;</th></tr>\n",
              "</thead>\n",
              "<tbody>\n",
              "\t<tr><th scope=row>1</th><td>1499</td><td>1907.542</td></tr>\n",
              "\t<tr><th scope=row>2</th><td>1795</td><td>1794.882</td></tr>\n",
              "\t<tr><th scope=row>3</th><td>1595</td><td>1859.328</td></tr>\n",
              "\t<tr><th scope=row>4</th><td>1849</td><td>2172.271</td></tr>\n",
              "\t<tr><th scope=row>5</th><td>3295</td><td>2753.573</td></tr>\n",
              "\t<tr><th scope=row>6</th><td>3695</td><td>2945.343</td></tr>\n",
              "\t<tr><th scope=row>7</th><td>1720</td><td>1859.328</td></tr>\n",
              "\t<tr><th scope=row>8</th><td>1995</td><td>1893.672</td></tr>\n",
              "\t<tr><th scope=row>9</th><td>2225</td><td>2296.121</td></tr>\n",
              "\t<tr><th scope=row>10</th><td>2575</td><td>1983.179</td></tr>\n",
              "\t<tr><th scope=row>11</th><td>2195</td><td>2218.760</td></tr>\n",
              "\t<tr><th scope=row>12</th><td>2605</td><td>2389.100</td></tr>\n",
              "\t<tr><th scope=row>13</th><td>2045</td><td>2026.036</td></tr>\n",
              "\t<tr><th scope=row>14</th><td>2295</td><td>2132.092</td></tr>\n",
              "\t<tr><th scope=row>15</th><td>2699</td><td>2295.050</td></tr>\n",
              "\t<tr><th scope=row>16</th><td>2225</td><td>2026.036</td></tr>\n",
              "\t<tr><th scope=row>17</th><td>1595</td><td>1794.882</td></tr>\n",
              "\t<tr><th scope=row>18</th><td>2325</td><td>1884.388</td></tr>\n",
              "\t<tr><th scope=row>19</th><td>2095</td><td>1862.960</td></tr>\n",
              "\t<tr><th scope=row>20</th><td>4395</td><td>2259.456</td></tr>\n",
              "\t<tr><th scope=row>21</th><td>1695</td><td>1927.246</td></tr>\n",
              "\t<tr><th scope=row>22</th><td>2795</td><td>2119.015</td></tr>\n",
              "\t<tr><th scope=row>23</th><td>2895</td><td>2707.084</td></tr>\n",
              "\t<tr><th scope=row>24</th><td>2875</td><td>1983.179</td></tr>\n",
              "\t<tr><th scope=row>25</th><td>4195</td><td>2166.477</td></tr>\n",
              "\t<tr><th scope=row>26</th><td>1290</td><td>1797.561</td></tr>\n",
              "\t<tr><th scope=row>27</th><td>1975</td><td>1927.246</td></tr>\n",
              "\t<tr><th scope=row>28</th><td>3995</td><td>2067.687</td></tr>\n",
              "\t<tr><th scope=row>29</th><td>3095</td><td>2753.573</td></tr>\n",
              "\t<tr><th scope=row>30</th><td>3244</td><td>2370.350</td></tr>\n",
              "\t<tr><th scope=row>⋮</th><td>⋮</td><td>⋮</td></tr>\n",
              "\t<tr><th scope=row>6230</th><td>2344</td><td>2672.125</td></tr>\n",
              "\t<tr><th scope=row>6231</th><td>2890</td><td>3308.089</td></tr>\n",
              "\t<tr><th scope=row>6232</th><td>2390</td><td>2672.125</td></tr>\n",
              "\t<tr><th scope=row>6233</th><td>1495</td><td>2218.741</td></tr>\n",
              "\t<tr><th scope=row>6234</th><td>1844</td><td>2416.322</td></tr>\n",
              "\t<tr><th scope=row>6235</th><td>1699</td><td>2164.098</td></tr>\n",
              "\t<tr><th scope=row>6236</th><td>3290</td><td>3574.407</td></tr>\n",
              "\t<tr><th scope=row>6237</th><td>2790</td><td>3110.509</td></tr>\n",
              "\t<tr><th scope=row>6238</th><td>2845</td><td>3093.801</td></tr>\n",
              "\t<tr><th scope=row>6239</th><td>1744</td><td>2218.741</td></tr>\n",
              "\t<tr><th scope=row>6240</th><td>3095</td><td>3719.687</td></tr>\n",
              "\t<tr><th scope=row>6241</th><td>1595</td><td>2416.322</td></tr>\n",
              "\t<tr><th scope=row>6242</th><td>2254</td><td>2869.706</td></tr>\n",
              "\t<tr><th scope=row>6243</th><td>2723</td><td>3308.089</td></tr>\n",
              "\t<tr><th scope=row>6244</th><td>2745</td><td>2896.221</td></tr>\n",
              "\t<tr><th scope=row>6245</th><td>3054</td><td>3574.407</td></tr>\n",
              "\t<tr><th scope=row>6246</th><td>2744</td><td>3110.509</td></tr>\n",
              "\t<tr><th scope=row>6247</th><td>1554</td><td>2218.741</td></tr>\n",
              "\t<tr><th scope=row>6248</th><td>1654</td><td>2416.322</td></tr>\n",
              "\t<tr><th scope=row>6249</th><td>2623</td><td>3110.509</td></tr>\n",
              "\t<tr><th scope=row>6250</th><td>2095</td><td>2672.125</td></tr>\n",
              "\t<tr><th scope=row>6251</th><td>2495</td><td>3110.509</td></tr>\n",
              "\t<tr><th scope=row>6252</th><td>2995</td><td>3522.106</td></tr>\n",
              "\t<tr><th scope=row>6253</th><td>1690</td><td>1858.737</td></tr>\n",
              "\t<tr><th scope=row>6254</th><td>2154</td><td>2672.125</td></tr>\n",
              "\t<tr><th scope=row>6255</th><td>1690</td><td>2416.322</td></tr>\n",
              "\t<tr><th scope=row>6256</th><td>2223</td><td>2672.125</td></tr>\n",
              "\t<tr><th scope=row>6257</th><td>2654</td><td>3308.089</td></tr>\n",
              "\t<tr><th scope=row>6258</th><td>2195</td><td>2869.706</td></tr>\n",
              "\t<tr><th scope=row>6259</th><td>2490</td><td>2869.706</td></tr>\n",
              "</tbody>\n",
              "</table>\n"
            ],
            "text/markdown": "\nA data.frame: 6259 × 2\n\n| <!--/--> | data.price &lt;int&gt; | g &lt;dbl&gt; |\n|---|---|---|\n| 1 | 1499 | 1907.542 |\n| 2 | 1795 | 1794.882 |\n| 3 | 1595 | 1859.328 |\n| 4 | 1849 | 2172.271 |\n| 5 | 3295 | 2753.573 |\n| 6 | 3695 | 2945.343 |\n| 7 | 1720 | 1859.328 |\n| 8 | 1995 | 1893.672 |\n| 9 | 2225 | 2296.121 |\n| 10 | 2575 | 1983.179 |\n| 11 | 2195 | 2218.760 |\n| 12 | 2605 | 2389.100 |\n| 13 | 2045 | 2026.036 |\n| 14 | 2295 | 2132.092 |\n| 15 | 2699 | 2295.050 |\n| 16 | 2225 | 2026.036 |\n| 17 | 1595 | 1794.882 |\n| 18 | 2325 | 1884.388 |\n| 19 | 2095 | 1862.960 |\n| 20 | 4395 | 2259.456 |\n| 21 | 1695 | 1927.246 |\n| 22 | 2795 | 2119.015 |\n| 23 | 2895 | 2707.084 |\n| 24 | 2875 | 1983.179 |\n| 25 | 4195 | 2166.477 |\n| 26 | 1290 | 1797.561 |\n| 27 | 1975 | 1927.246 |\n| 28 | 3995 | 2067.687 |\n| 29 | 3095 | 2753.573 |\n| 30 | 3244 | 2370.350 |\n| ⋮ | ⋮ | ⋮ |\n| 6230 | 2344 | 2672.125 |\n| 6231 | 2890 | 3308.089 |\n| 6232 | 2390 | 2672.125 |\n| 6233 | 1495 | 2218.741 |\n| 6234 | 1844 | 2416.322 |\n| 6235 | 1699 | 2164.098 |\n| 6236 | 3290 | 3574.407 |\n| 6237 | 2790 | 3110.509 |\n| 6238 | 2845 | 3093.801 |\n| 6239 | 1744 | 2218.741 |\n| 6240 | 3095 | 3719.687 |\n| 6241 | 1595 | 2416.322 |\n| 6242 | 2254 | 2869.706 |\n| 6243 | 2723 | 3308.089 |\n| 6244 | 2745 | 2896.221 |\n| 6245 | 3054 | 3574.407 |\n| 6246 | 2744 | 3110.509 |\n| 6247 | 1554 | 2218.741 |\n| 6248 | 1654 | 2416.322 |\n| 6249 | 2623 | 3110.509 |\n| 6250 | 2095 | 2672.125 |\n| 6251 | 2495 | 3110.509 |\n| 6252 | 2995 | 3522.106 |\n| 6253 | 1690 | 1858.737 |\n| 6254 | 2154 | 2672.125 |\n| 6255 | 1690 | 2416.322 |\n| 6256 | 2223 | 2672.125 |\n| 6257 | 2654 | 3308.089 |\n| 6258 | 2195 | 2869.706 |\n| 6259 | 2490 | 2869.706 |\n\n",
            "text/latex": "A data.frame: 6259 × 2\n\\begin{tabular}{r|ll}\n  & data.price & g\\\\\n  & <int> & <dbl>\\\\\n\\hline\n\t1 & 1499 & 1907.542\\\\\n\t2 & 1795 & 1794.882\\\\\n\t3 & 1595 & 1859.328\\\\\n\t4 & 1849 & 2172.271\\\\\n\t5 & 3295 & 2753.573\\\\\n\t6 & 3695 & 2945.343\\\\\n\t7 & 1720 & 1859.328\\\\\n\t8 & 1995 & 1893.672\\\\\n\t9 & 2225 & 2296.121\\\\\n\t10 & 2575 & 1983.179\\\\\n\t11 & 2195 & 2218.760\\\\\n\t12 & 2605 & 2389.100\\\\\n\t13 & 2045 & 2026.036\\\\\n\t14 & 2295 & 2132.092\\\\\n\t15 & 2699 & 2295.050\\\\\n\t16 & 2225 & 2026.036\\\\\n\t17 & 1595 & 1794.882\\\\\n\t18 & 2325 & 1884.388\\\\\n\t19 & 2095 & 1862.960\\\\\n\t20 & 4395 & 2259.456\\\\\n\t21 & 1695 & 1927.246\\\\\n\t22 & 2795 & 2119.015\\\\\n\t23 & 2895 & 2707.084\\\\\n\t24 & 2875 & 1983.179\\\\\n\t25 & 4195 & 2166.477\\\\\n\t26 & 1290 & 1797.561\\\\\n\t27 & 1975 & 1927.246\\\\\n\t28 & 3995 & 2067.687\\\\\n\t29 & 3095 & 2753.573\\\\\n\t30 & 3244 & 2370.350\\\\\n\t⋮ & ⋮ & ⋮\\\\\n\t6230 & 2344 & 2672.125\\\\\n\t6231 & 2890 & 3308.089\\\\\n\t6232 & 2390 & 2672.125\\\\\n\t6233 & 1495 & 2218.741\\\\\n\t6234 & 1844 & 2416.322\\\\\n\t6235 & 1699 & 2164.098\\\\\n\t6236 & 3290 & 3574.407\\\\\n\t6237 & 2790 & 3110.509\\\\\n\t6238 & 2845 & 3093.801\\\\\n\t6239 & 1744 & 2218.741\\\\\n\t6240 & 3095 & 3719.687\\\\\n\t6241 & 1595 & 2416.322\\\\\n\t6242 & 2254 & 2869.706\\\\\n\t6243 & 2723 & 3308.089\\\\\n\t6244 & 2745 & 2896.221\\\\\n\t6245 & 3054 & 3574.407\\\\\n\t6246 & 2744 & 3110.509\\\\\n\t6247 & 1554 & 2218.741\\\\\n\t6248 & 1654 & 2416.322\\\\\n\t6249 & 2623 & 3110.509\\\\\n\t6250 & 2095 & 2672.125\\\\\n\t6251 & 2495 & 3110.509\\\\\n\t6252 & 2995 & 3522.106\\\\\n\t6253 & 1690 & 1858.737\\\\\n\t6254 & 2154 & 2672.125\\\\\n\t6255 & 1690 & 2416.322\\\\\n\t6256 & 2223 & 2672.125\\\\\n\t6257 & 2654 & 3308.089\\\\\n\t6258 & 2195 & 2869.706\\\\\n\t6259 & 2490 & 2869.706\\\\\n\\end{tabular}\n"
          },
          "metadata": {}
        }
      ]
    },
    {
      "cell_type": "markdown",
      "source": [
        "Существует 4 сегмента в которые требуется выбрать кол-во компьютеров установленное вариантом:\n",
        "$$6<=С1<=10$$\n",
        "$$6<=С2<=22$$\n",
        "$$11<=С3<=15$$\n",
        "$$4<=С4<=13$$\n",
        "\n",
        "Стоимость отдельного компьютера от конструктивных параметров  𝑠𝑝𝑒𝑒𝑑,𝑟𝑎𝑚,ℎ𝑑  выражена ранее через регрессионную зависимость:\n",
        "$$𝑝𝑟𝑖𝑐𝑒=1492.1775+5.8112⋅𝑠𝑝𝑒𝑒𝑑+78.2357⋅𝑟𝑎𝑚−0.5357⋅ℎ𝑑$$"
      ],
      "metadata": {
        "id": "sjv_gUGiDp5s"
      },
      "id": "sjv_gUGiDp5s"
    },
    {
      "cell_type": "markdown",
      "source": [
        "Добавим ограничения нижнего уровня:\n",
        " - суммарная стоимость компьютеров сегмента $C_1$ должна быть не более 10000 у.е.\n",
        " - суммарная производительность $C_2$ не менее 300 (считаем аддитивной характеристикой от количества входящих ПК)\n",
        " - максимальный объем ОЗУ для сегмента $C_3$ не более 8\n",
        " - минимальный объем жесткого диска для сегмента для сегмента $C_4$ не менее 1000\n",
        " - Суммарная производительность для С4 - не менее 800 (считаем аддитивной характеристикой от количества входящих ПК)"
      ],
      "metadata": {
        "id": "bzYUZDyPNB8W"
      },
      "id": "bzYUZDyPNB8W"
    },
    {
      "cell_type": "markdown",
      "source": [
        "Введём переменные:\n",
        "\n",
        "$N_1$ - количество серверов\n",
        "\n",
        "$N_2$ - количество компьютеров сегмента аналитиков и менеджеров\n",
        "\n",
        "$N_3$ - количество компьютеров сегмента обслуживающего персонала\n",
        "\n",
        "$N_4$ - количество компьютеров сегмента с видео, аудио оборудованием\n",
        "\n",
        "$price$ - стоимость компьютера без учёта характеристик\n",
        "\n",
        "$speed$ - зависимость стоимости компьютера от его скорости\n",
        "\n",
        "$ram$ - зависимость стоимости компьютера от его оперативной памяти\n",
        "\n",
        "$hd$ - зависимость стоимости компьютера от объёма диска\n",
        "\n",
        "Критерий верхнего уровня:\n",
        "\n",
        "$$𝐻1=𝑁1⋅𝑝𝑟𝑖𝑐𝑒1+𝑁2⋅𝑝𝑟𝑖𝑐𝑒2+𝑁3⋅𝑝𝑟𝑖𝑐𝑒3+𝑁4⋅𝑝𝑟𝑖𝑐𝑒4→min$$\n",
        "\n",
        "После подстановки регрессионных зависимостей получаем:\n",
        "\n",
        "$$𝐻_1=1492.1775𝑁_1+5.8112⋅𝑠𝑝𝑒𝑒𝑑_1⋅𝑁_1+78.2357⋅𝑟𝑎𝑚_1⋅𝑁_1−0.5357⋅ℎ𝑑_1⋅𝑁_1$$\n",
        "\n",
        "$$+1492.1775𝑁_2+5.8112⋅𝑠𝑝𝑒𝑒𝑑_2⋅𝑁_2+78.2357⋅𝑟𝑎𝑚_2⋅𝑁_2−0.5357⋅ℎ𝑑_2⋅𝑁_2$$\n",
        "\n",
        "$$+1492.1775𝑁_3+5.8112⋅𝑠𝑝𝑒𝑒𝑑_3⋅𝑁_3+78.2357⋅𝑟𝑎𝑚_3⋅𝑁_3−0.5357⋅ℎ𝑑_3⋅𝑁_3$$\n",
        "\n",
        "$$+1492.1775𝑁_4+5.8112⋅𝑠𝑝𝑒𝑒𝑑_4⋅𝑁_4\n",
        "+78.2357⋅𝑟𝑎𝑚_4⋅𝑁_4−0.5357⋅ℎ𝑑_4⋅𝑁_4$$"
      ],
      "metadata": {
        "id": "0lLEWzHrUzvw"
      },
      "id": "0lLEWzHrUzvw"
    },
    {
      "cell_type": "markdown",
      "source": [
        "Обозначим:\n",
        "$$1492.1775N_1 = p_1,$$\n",
        "$$6\\cdot1492.1775\\leq p_1\\leq 10\\cdot 1492.1775$$\n",
        "$$speed_1\\cdot N_1 = s_1$$\n",
        "$$ram_1\\cdot N_1 = r_1$$\n",
        "$$ hd_1\\cdot N_1 = h_1$$\n",
        "___\n",
        "$$1492.1775N_2 = p_2,$$\n",
        "$$6\\cdot 1492.1775\\leq p_2\\leq 22\\cdot 1492.1775$$\n",
        "$$speed_2\\cdot N_2 = s_2$$\n",
        "$$ram_2\\cdot N_2 = r_2$$\n",
        "$$hd_2\\cdot N_2 = h_2$$\n",
        "___\n",
        "$$1492.1775N_3 = p_3,$$\n",
        "$$11\\cdot 1492.1775\\leq p_3\\leq 15\\cdot 1492.1775$$\n",
        "$$speed_3\\cdot N_3 = s_3$$\n",
        "$$ram_3\\cdot N_3 = r_3$$\n",
        "$$hd_3\\cdot N_3 = h_3$$\n",
        "___\n",
        "$$1492.1775N_4 = p_4,$$\n",
        "$$4\\cdot 1492.1775\\leq p_4\\leq 13\\cdot 1492.1775$$\n",
        "$$speed_2\\cdot N_4 = s_4$$\n",
        "$$ram_2\\cdot N_4 = r_4$$\n",
        "$$hd_2\\cdot N_4 = h_4$$"
      ],
      "metadata": {
        "id": "V2YhpeRCX5ey"
      },
      "id": "V2YhpeRCX5ey"
    },
    {
      "cell_type": "markdown",
      "source": [
        "Для нахождения ограничений на остальные  $𝑥_i$  можно взять усредненные характеристики:"
      ],
      "metadata": {
        "id": "7Rebggbsabla"
      },
      "id": "7Rebggbsabla"
    },
    {
      "cell_type": "code",
      "source": [
        "mean(data$speed)\n",
        "mean(data$ram)\n",
        "mean(data$hd)"
      ],
      "metadata": {
        "id": "5ARW0zpDa9j3",
        "outputId": "a3571cae-5f47-4e20-c780-ffcb3b6ee2c6",
        "colab": {
          "base_uri": "https://localhost:8080/",
          "height": 69
        }
      },
      "id": "5ARW0zpDa9j3",
      "execution_count": 10,
      "outputs": [
        {
          "output_type": "display_data",
          "data": {
            "text/html": [
              "52.0110241252596"
            ],
            "text/markdown": "52.0110241252596",
            "text/latex": "52.0110241252596",
            "text/plain": [
              "[1] 52.01102"
            ]
          },
          "metadata": {}
        },
        {
          "output_type": "display_data",
          "data": {
            "text/html": [
              "8.28694679661288"
            ],
            "text/markdown": "8.28694679661288",
            "text/latex": "8.28694679661288",
            "text/plain": [
              "[1] 8.286947"
            ]
          },
          "metadata": {}
        },
        {
          "output_type": "display_data",
          "data": {
            "text/html": [
              "416.601693561272"
            ],
            "text/markdown": "416.601693561272",
            "text/latex": "416.601693561272",
            "text/plain": [
              "[1] 416.6017"
            ]
          },
          "metadata": {}
        }
      ]
    },
    {
      "cell_type": "markdown",
      "source": [
        "Соответственно остальные ограничения следующие:\n",
        "<center>price</center>\n",
        "$$6\\cdot 1492.1775\\leq p_{1}\\leq 10 \\cdot 1492.1775$$\n",
        "<center>speed</center>\n",
        "$$6\\cdot 52.011\\leq s_1\\leq 10\\cdot 52.011$$\n",
        "<center>ram</center>\n",
        "$$6\\cdot 8.2869\\leq r_1\\leq 10\\cdot 8.2869$$\n",
        "<center>hd</center>\n",
        "$$6\\cdot 416.6017\\leq h_1\\leq 10\\cdot 416.6017$$\n",
        "\n",
        "\n",
        "---\n",
        "\n",
        "\n",
        "\n",
        "<center>price</center>\n",
        "$$6\\cdot 1492.1775\\leq p_{2}\\leq 22\\cdot 1492.1775$$\n",
        "<center>speed</center>\n",
        "$$6\\cdot 52.011\\leq s_2\\leq 22\\cdot 52.011$$\n",
        "<center>ram</center>\n",
        "$$6\\cdot 8.2869\\leq r_2\\leq 22\\cdot 8.2869$$\n",
        "<center>hd</center>\n",
        "$$6\\cdot 416.6017\\leq h_2\\leq 22\\cdot 416.6017$$\n",
        "\n",
        "\n",
        "---\n",
        "\n",
        "\n",
        "\n",
        "<center>price</center>\n",
        "$$11\\cdot 1492.1775\\leq p_{3}\\leq 15\\cdot 1492.1775$$\n",
        "<center>speed</center>\n",
        "$$11\\cdot 52.011\\leq s_3\\leq 15\\cdot 52.011$$\n",
        "<center>ram</center>\n",
        "$$11\\cdot 8.2869\\leq r_3\\leq 15\\cdot 8.2869$$\n",
        "<center>hd</center>\n",
        "$$11\\cdot 416.6017\\leq h_3\\leq 15\\cdot 416.6017$$\n",
        "\n",
        "\n",
        "---\n",
        "\n",
        "\n",
        "\n",
        "<center>price</center>\n",
        "$$4\\cdot 1492.1775\\leq p_{4}\\leq 13\\cdot 1492.1775$$\n",
        "<center>speed</center>\n",
        "$$4\\cdot 52.011\\leq s_4\\leq 13\\cdot 52.011$$\n",
        "<center>ram</center>\n",
        "$$4\\cdot 8.2869\\leq r_4\\leq 13\\cdot 8.2869$$\n",
        "<center>hd</center>\n",
        "$$4\\cdot 416.6017\\leq h_4\\leq 13\\cdot 416.6017$$\n"
      ],
      "metadata": {
        "id": "GZLAX25acNRg"
      },
      "id": "GZLAX25acNRg"
    },
    {
      "cell_type": "markdown",
      "source": [
        "Учтем ограничения нижнего уровня:"
      ],
      "metadata": {
        "id": "JBQE6yJReQhf"
      },
      "id": "JBQE6yJReQhf"
    },
    {
      "cell_type": "markdown",
      "source": [
        "$$p_{1} + 5.8112\\cdot s_{1} + 78.2357\\cdot r_{1} - 0.5357\\cdot h_{1} \\leq 10000$$\n",
        "$$s_{2} + r_{2} \\geq 300$$\n",
        "$${𝑟𝑎𝑚}_3 \\leq 8$$\n",
        "$${hd}_4 \\geq 1000$$\n",
        "$$s_{4} + r_{4} \\geq 800$$"
      ],
      "metadata": {
        "id": "V7UdCqueeRze"
      },
      "id": "V7UdCqueeRze"
    },
    {
      "cell_type": "markdown",
      "source": [
        "Проведём нормализацию $s_2$ и $r_2$ для $С_2$ и $s_4$ и $r_4$ для $С_4$, для этого необходимо найти максимальные значения speed, ram, $N_2$ и $N_4$."
      ],
      "metadata": {
        "id": "FyXR1KU5lk0B"
      },
      "id": "FyXR1KU5lk0B"
    },
    {
      "cell_type": "code",
      "source": [
        "max(data$speed)\n",
        "max(data$ram)"
      ],
      "metadata": {
        "id": "48-C9GJomFRl",
        "outputId": "fe34e5be-1fbe-4d21-950f-3421bca8a53b",
        "colab": {
          "base_uri": "https://localhost:8080/",
          "height": 52
        }
      },
      "id": "48-C9GJomFRl",
      "execution_count": 11,
      "outputs": [
        {
          "output_type": "display_data",
          "data": {
            "text/html": [
              "100"
            ],
            "text/markdown": "100",
            "text/latex": "100",
            "text/plain": [
              "[1] 100"
            ]
          },
          "metadata": {}
        },
        {
          "output_type": "display_data",
          "data": {
            "text/html": [
              "32"
            ],
            "text/markdown": "32",
            "text/latex": "32",
            "text/plain": [
              "[1] 32"
            ]
          },
          "metadata": {}
        }
      ]
    },
    {
      "cell_type": "markdown",
      "source": [
        "$$\\bar{s}_{2}=\\frac{s_{2}}{max(N_2)\\cdot max(speed)}=\\frac{s_{2}}{22\\cdot 100}=\\frac{s_{2}}{2200}$$\n",
        "$$\\bar{r}_{2}=\\frac{r_{2}}{max(N_2)\\cdot max(ram)}=\\frac{r_{2}}{22\\cdot 32}=\\frac{r_{2}}{704}$$\n",
        "\n",
        "$$\\bar{s}_{4}=\\frac{s_{4}}{max(N_4)\\cdot max(speed)}=\\frac{s_{4}}{13\\cdot 100}=\\frac{s_{4}}{1300}$$\n",
        "$$\\bar{r}_{4}=\\frac{r_{4}}{max(N_4)\\cdot max(ram)}=\\frac{r_{4}}{13\\cdot 32}=\\frac{r_{4}}{416}$$"
      ],
      "metadata": {
        "id": "KM4I4zOwmuHm"
      },
      "id": "KM4I4zOwmuHm"
    },
    {
      "cell_type": "markdown",
      "source": [
        "Сформулируем также частные критерии оптимизации на нижнем уровне:\n",
        "Cуммарная производительность (speed, ram) в сегменте  $C_2$ и $C_4$  максимизируется.\n",
        "#Для сегмента $C_2$:\n",
        "$$W_2 = \\alpha\\cdot s_2+\\beta \\cdot r_2\\rightarrow \\max$$\n",
        "Подставим нормализованные значения:\n",
        "$$W_2 = \\alpha\\cdot \\frac{s_{2}}{2200}+\\beta \\cdot \\frac{r_{2}}{704}\\rightarrow \\max$$\n",
        "Предположим что объем оперативной памяти и скорость имеют одинаковую важность для рабочих станций аналитиков и менеджеров, поэтому: $\\alpha = 0.5, \\beta = 0.5$:\n",
        "$$W_2 = 0.5\\cdot \\frac{s_{2}}{2200} + 0.5 \\cdot \\frac{r_{2}}{704}\\rightarrow \\max$$\n",
        "#Для сегмента $C_4$:\n",
        "$$W_4 = \\alpha\\cdot s_4+\\beta \\cdot r_4\\rightarrow \\max$$\n",
        "Подставим нормализованные значения:\n",
        "$$W_4 = \\alpha\\cdot \\frac{s_{4}}{1300}+\\beta \\cdot \\frac{r_{4}}{416}\\rightarrow \\max$$\n",
        "Предположим для станций сопряжения с видео и аудио оборудованием скорость имееет больший приоритет: $\\alpha = 0.6, \\beta = 0.4$:\n",
        "$$W_4 = 0.6\\cdot \\frac{s_{4}}{1300} + 0.4 \\cdot \\frac{r_{4}}{416}\\rightarrow \\max$$\n",
        "#Формируем критерий нижнего уровня:\n",
        "$$H_2=0.5 W_1+0.5\\cdot W_2= 0.5\\cdot 0.5\\cdot \\frac{s_{2}}{2200} + 0.5\\cdot 0.5 \\cdot \\frac{r_{2}}{704} + W_4 = 0.5\\cdot 0.6\\cdot \\frac{s_{4}}{1300} + 0.5\\cdot 0.4 \\cdot \\frac{r_{4}}{416}\\rightarrow \\max$$"
      ],
      "metadata": {
        "id": "ML6jg9XtqRNs"
      },
      "id": "ML6jg9XtqRNs"
    },
    {
      "cell_type": "markdown",
      "source": [],
      "metadata": {
        "id": "XJ2V0KNgaicd"
      },
      "id": "XJ2V0KNgaicd"
    },
    {
      "cell_type": "markdown",
      "source": [
        "#Окончательно получаем:\n",
        "$$𝐻_1={p_{1}}+5.8112⋅{s_{1}}+78.2357{r_{1}}−0.5357⋅{h_{1}}$$\n",
        "\n",
        "$$+{p_{2}}+5.8112⋅{s_{2}}+78.2357⋅{r_{2}}−0.5357⋅{h_{2}}$$\n",
        "\n",
        "$$+{p_{3}}+5.8112⋅{s_{3}}+78.2357⋅{r_{3}}−0.5357⋅{h_{3}}$$\n",
        "\n",
        "$$+{p_{4}}+5.8112⋅{s_{4}}+78.2357⋅{r_{4}}−0.5357⋅{h_{4}}$$\n",
        "___\n",
        "$$H_2= 0.5\\cdot 0.5\\cdot \\frac{s_{2}}{2200} + 0.5\\cdot 0.5 \\cdot \\frac{r_{2}}{704} + 0.5\\cdot 0.6\\cdot \\frac{s_{4}}{1300} + 0.5\\cdot 0.4 \\cdot \\frac{r_{4}}{416}\\rightarrow \\max$$\n",
        "___\n",
        "<center>price</center>\n",
        "$$6\\cdot 1492.1775\\leq p_{1}\\leq 10 \\cdot 1492.1775$$\n",
        "<center>speed</center>\n",
        "$$6\\cdot 52.011\\leq s_1\\leq 10\\cdot 52.011$$\n",
        "<center>ram</center>\n",
        "$$6\\cdot 8.2869\\leq r_1\\leq 10\\cdot 8.2869$$\n",
        "<center>hd</center>\n",
        "$$6\\cdot 416.6017\\leq h_1\\leq 10\\cdot 416.6017$$\n",
        "\n",
        "---\n",
        "\n",
        "<center>price</center>\n",
        "$$6\\cdot 1492.1775\\leq p_{2}\\leq 22\\cdot 1492.1775$$\n",
        "<center>speed</center>\n",
        "$$6\\cdot 52.011\\leq s_2\\leq 22\\cdot 52.011$$\n",
        "<center>ram</center>\n",
        "$$6\\cdot 8.2869\\leq r_2\\leq 22\\cdot 8.2869$$\n",
        "<center>hd</center>\n",
        "$$6\\cdot 416.6017\\leq h_2\\leq 22\\cdot 416.6017$$\n",
        "\n",
        "---\n",
        "\n",
        "<center>price</center>\n",
        "$$11\\cdot 1492.1775\\leq p_{3}\\leq 15\\cdot 1492.1775$$\n",
        "<center>speed</center>\n",
        "$$11\\cdot 52.011\\leq s_3\\leq 15\\cdot 52.011$$\n",
        "<center>ram</center>\n",
        "$$11\\cdot 8.2869\\leq r_3\\leq 15\\cdot 8.2869$$\n",
        "<center>hd</center>\n",
        "$$11\\cdot 416.6017\\leq h_3\\leq 15\\cdot 416.6017$$\n",
        "\n",
        "---\n",
        "\n",
        "<center>price</center>\n",
        "$$4\\cdot 1492.1775\\leq p_{4}\\leq 13\\cdot 1492.1775$$\n",
        "<center>speed</center>\n",
        "$$4\\cdot 52.011\\leq s_4\\leq 13\\cdot 52.011$$\n",
        "<center>ram</center>\n",
        "$$4\\cdot 8.2869\\leq r_4\\leq 13\\cdot 8.2869$$\n",
        "<center>hd</center>\n",
        "$$4\\cdot 416.6017\\leq h_4\\leq 13\\cdot 416.6017$$\n",
        "\n",
        "\n",
        "---\n",
        "\n",
        "$$p_{1} + 5.8112\\cdot s_{1} + 78.2357\\cdot r_{1} - 0.5357\\cdot h_{1} \\leq 10000$$\n",
        "$$s_{2} + r_{2} \\geq 300$$\n",
        "$${𝑟𝑎𝑚}_3 \\leq 8$$\n",
        "$${hd}_4 \\geq 1000$$\n",
        "$$s_{4} + r_{4} \\geq 800$$"
      ],
      "metadata": {
        "id": "vJmPLKcivgmr"
      },
      "id": "vJmPLKcivgmr"
    },
    {
      "cell_type": "markdown",
      "source": [
        "# Оптимизация методом последовательных уступок"
      ],
      "metadata": {
        "id": "zrtWkHsIx-B8"
      },
      "id": "zrtWkHsIx-B8"
    },
    {
      "cell_type": "code",
      "source": [
        "install.packages(\"lpSolve\")"
      ],
      "metadata": {
        "id": "r0AHl-6SyKCR",
        "outputId": "30afc2b3-e878-4dae-b2a6-860f76c91a4a",
        "colab": {
          "base_uri": "https://localhost:8080/"
        }
      },
      "id": "r0AHl-6SyKCR",
      "execution_count": 12,
      "outputs": [
        {
          "output_type": "stream",
          "name": "stderr",
          "text": [
            "Installing package into ‘/usr/local/lib/R/site-library’\n",
            "(as ‘lib’ is unspecified)\n",
            "\n"
          ]
        }
      ]
    },
    {
      "cell_type": "code",
      "source": [
        "library(lpSolve)"
      ],
      "metadata": {
        "id": "BG-Lbb6pyS-4"
      },
      "id": "BG-Lbb6pyS-4",
      "execution_count": 13,
      "outputs": []
    },
    {
      "cell_type": "code",
      "source": [
        "# целевая функция\n",
        "objective.in <- c(1,       5.8112,      78.2357,      -0.5357,\n",
        "                  1,       5.8112,      78.2357,      -0.5357,\n",
        "                  1,       5.8112,      78.2357,      -0.5357,\n",
        "                  1,       5.8112,      78.2357,      -0.5357)\n",
        "\n",
        "# матрица ограничений\n",
        "mat<-c(\n",
        "      # h_2 -> max\n",
        "      0, 0, 0, 0,\n",
        "      0, 0.5 * 0.5 * 1/2200, 0.5* 0.5 * 1/ 704, 0,\n",
        "      0, 0, 0, 0,\n",
        "      0, 0.5 * 0.6 * 1/1300, 0.5 * 0.4 * 1/416, 0)\n",
        "for (i in 1:16){\n",
        "  tmp <- c()\n",
        "  for (j in 1:16){\n",
        "    if (j == i){\n",
        "      tmp <- append(tmp, 1)\n",
        "    }\n",
        "    else{\n",
        "      tmp <- append(tmp, 0)\n",
        "    }\n",
        "  }\n",
        "  mat <- append(mat, tmp)\n",
        "  mat <- append(mat, tmp)\n",
        "}\n",
        "\n",
        "tmp <- c(\n",
        "      # производительность C_2 >= 300\n",
        "      0, 0, 0, 0,\n",
        "      0, 1, 1, 0,\n",
        "      0, 0, 0, 0,\n",
        "      0, 1, 1, 0,\n",
        "      # производительность C_4 >= 800\n",
        "      0, 0, 0, 0,\n",
        "      0, 1, 1, 0,\n",
        "      0, 0, 0, 0,\n",
        "      0, 1, 1, 0,\n",
        "      # стоимость <= 10000\n",
        "      1, 5.8112, 78.2357, -0.5357,\n",
        "      0, 0, 0, 0,\n",
        "      0, 0, 0, 0,\n",
        "      0, 0, 0, 0\n",
        ")\n",
        "mat <- append(mat, tmp)\n",
        "const.mat<-matrix(mat, nrow=36, byrow=TRUE)\n",
        "\n",
        "# ограничения\n",
        "tmp <- c(\"<=\", \">=\")\n",
        "signs <- c()\n",
        "\n",
        "for (i in 1: 16){\n",
        "  signs <- append(signs, tmp)\n",
        "}\n",
        "signs <- append(c(\">=\"), signs)\n",
        "signs <- append(signs, c(\">=\", \">=\", \"<=\"))\n",
        "const.dir<-signs\n",
        "\n",
        "const.rhs<-c(\n",
        "    0,\n",
        "    10 * 1492.1775, 6 * 1492.1775, 10 * 52.0110, 6 * 52.0110, 10 * 8.2869, 6 * 8.2869, 10 * 416.6017, 6 * 416.6017,\n",
        "    22 * 1492.1775, 6 * 1492.1775, 22 * 52.0110, 6 * 52.0110, 22 * 8.2869, 6 * 8.2869, 22 * 416.6017, 6 * 416.6017,\n",
        "    15 * 1492.1775, 11 * 1492.1775, 15 * 52.0110, 11 * 52.0110, 15 * 8.2869, 11 * 8.2869, 15 * 416.6017, 11 * 416.6017,\n",
        "    13 * 1492.1775, 4 * 1492.1775, 13 * 52.0110, 4 * 52.0110, 13 * 8.2869, 4 * 8.2869, 13 * 416.6017, 4 * 416.6017,\n",
        "    300,\n",
        "    800,\n",
        "    10000\n",
        ")\n",
        "\n",
        "# h минимизируется\n",
        "Res<-lp(\"min\", objective.in, const.mat, const.dir, const.rhs)\n",
        "Res"
      ],
      "metadata": {
        "id": "WcOFaKPByhUj",
        "outputId": "644e8896-db0f-46e0-8ba9-750980663397",
        "colab": {
          "base_uri": "https://localhost:8080/",
          "height": 35
        }
      },
      "id": "WcOFaKPByhUj",
      "execution_count": 33,
      "outputs": [
        {
          "output_type": "display_data",
          "data": {
            "text/plain": [
              "Error: no feasible solution found"
            ]
          },
          "metadata": {}
        }
      ]
    },
    {
      "cell_type": "code",
      "source": [
        "solution <- Res$solution\n",
        "solution"
      ],
      "metadata": {
        "id": "xv3mxJ4Jnu3V",
        "outputId": "7061db3f-0097-4a9d-e133-007e3f1d361e",
        "colab": {
          "base_uri": "https://localhost:8080/",
          "height": 34
        }
      },
      "id": "xv3mxJ4Jnu3V",
      "execution_count": 22,
      "outputs": [
        {
          "output_type": "display_data",
          "data": {
            "text/html": [
              "<style>\n",
              ".list-inline {list-style: none; margin:0; padding: 0}\n",
              ".list-inline>li {display: inline-block}\n",
              ".list-inline>li:not(:last-child)::after {content: \"\\00b7\"; padding: 0 .5ex}\n",
              "</style>\n",
              "<ol class=list-inline><li>5968.71</li><li>208.044</li><li>33.1476</li><li>2916.2119</li><li>19398.3075</li><li>676.143</li><li>107.7297</li><li>9165.2374</li><li>22382.6625</li><li>780.165</li><li>124.3035</li><li>13747.8561</li><li>1492.1775</li><li>52.011</li><li>8.2869</li><li>3332.8136</li></ol>\n"
            ],
            "text/markdown": "1. 5968.71\n2. 208.044\n3. 33.1476\n4. 2916.2119\n5. 19398.3075\n6. 676.143\n7. 107.7297\n8. 9165.2374\n9. 22382.6625\n10. 780.165\n11. 124.3035\n12. 13747.8561\n13. 1492.1775\n14. 52.011\n15. 8.2869\n16. 3332.8136\n\n\n",
            "text/latex": "\\begin{enumerate*}\n\\item 5968.71\n\\item 208.044\n\\item 33.1476\n\\item 2916.2119\n\\item 19398.3075\n\\item 676.143\n\\item 107.7297\n\\item 9165.2374\n\\item 22382.6625\n\\item 780.165\n\\item 124.3035\n\\item 13747.8561\n\\item 1492.1775\n\\item 52.011\n\\item 8.2869\n\\item 3332.8136\n\\end{enumerate*}\n",
            "text/plain": [
              " [1]  5968.7100   208.0440    33.1476  2916.2119 19398.3075   676.1430\n",
              " [7]   107.7297  9165.2374 22382.6625   780.1650   124.3035 13747.8561\n",
              "[13]  1492.1775    52.0110     8.2869  3332.8136"
            ]
          },
          "metadata": {}
        }
      ]
    },
    {
      "cell_type": "code",
      "source": [
        "HH1 <- function(sol){\n",
        "  return (sum(\n",
        "    c(1,       5.8112,      78.2357,      -0.5357,\n",
        "      1,       5.8112,      78.2357,      -0.5357,\n",
        "      1,       5.8112,      78.2357,      -0.5357,\n",
        "      1,       5.8112,      78.2357,      -0.5357) * sol\n",
        "  ))\n",
        "}\n",
        "\n",
        "HH2 <- function(sol){\n",
        "  return (sum(\n",
        "    c(0, 0, 0, 0,\n",
        "      0, 0.5 * 0.5 * 1/2200, 0.5* 0.5 * 1/ 704, 0,\n",
        "      0, 0, 0, 0,\n",
        "      0, 0.5 * 0.6 * 1/1300, 0.5 * 0.4 * 1/416, 0) * sol\n",
        "  ))\n",
        "}\n",
        "\n",
        "H1 = HH1(Res$solution)\n",
        "H2 = HH2(Res$solution)\n",
        "\n",
        "HH1(Res$solution)\n",
        "\"==========\"\n",
        "HH2(Res$solution)"
      ],
      "metadata": {
        "id": "GkzaMnXcqDK2",
        "outputId": "7daac178-5f7e-4cda-e8c1-46070ff026d9",
        "colab": {
          "base_uri": "https://localhost:8080/",
          "height": 69
        }
      },
      "id": "GkzaMnXcqDK2",
      "execution_count": 23,
      "outputs": [
        {
          "output_type": "display_data",
          "data": {
            "text/html": [
              "64988.77595419"
            ],
            "text/markdown": "64988.77595419",
            "text/latex": "64988.77595419",
            "text/plain": [
              "[1] 64988.78"
            ]
          },
          "metadata": {}
        },
        {
          "output_type": "display_data",
          "data": {
            "text/html": [
              "'=========='"
            ],
            "text/markdown": "'=========='",
            "text/latex": "'=========='",
            "text/plain": [
              "[1] \"==========\""
            ]
          },
          "metadata": {}
        },
        {
          "output_type": "display_data",
          "data": {
            "text/html": [
              "0.131077342329545"
            ],
            "text/markdown": "0.131077342329545",
            "text/latex": "0.131077342329545",
            "text/plain": [
              "[1] 0.1310773"
            ]
          },
          "metadata": {}
        }
      ]
    },
    {
      "cell_type": "code",
      "source": [
        "xs = solution[c(1, 5, 9, 13)]\n",
        "Ns = xs / 1492.1775\n",
        "Ns"
      ],
      "metadata": {
        "id": "zfI4qZimqrOh",
        "outputId": "e44405fd-b154-4ae4-8095-609538a53853",
        "colab": {
          "base_uri": "https://localhost:8080/",
          "height": 34
        }
      },
      "id": "zfI4qZimqrOh",
      "execution_count": 24,
      "outputs": [
        {
          "output_type": "display_data",
          "data": {
            "text/html": [
              "<style>\n",
              ".list-inline {list-style: none; margin:0; padding: 0}\n",
              ".list-inline>li {display: inline-block}\n",
              ".list-inline>li:not(:last-child)::after {content: \"\\00b7\"; padding: 0 .5ex}\n",
              "</style>\n",
              "<ol class=list-inline><li>4</li><li>13</li><li>15</li><li>1</li></ol>\n"
            ],
            "text/markdown": "1. 4\n2. 13\n3. 15\n4. 1\n\n\n",
            "text/latex": "\\begin{enumerate*}\n\\item 4\n\\item 13\n\\item 15\n\\item 1\n\\end{enumerate*}\n",
            "text/plain": [
              "[1]  4 13 15  1"
            ]
          },
          "metadata": {}
        }
      ]
    }
  ],
  "metadata": {
    "kernelspec": {
      "display_name": "R",
      "name": "ir"
    },
    "language_info": {
      "name": "R"
    },
    "colab": {
      "provenance": []
    }
  },
  "nbformat": 4,
  "nbformat_minor": 5
}