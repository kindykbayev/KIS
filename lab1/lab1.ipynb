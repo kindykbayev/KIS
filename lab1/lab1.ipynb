{
  "cells": [
    {
      "cell_type": "code",
      "execution_count": 2,
      "id": "9c8a95e8-0ac0-4a8b-b2a0-1decd36361ed",
      "metadata": {
        "colab": {
          "base_uri": "https://localhost:8080/"
        },
        "id": "9c8a95e8-0ac0-4a8b-b2a0-1decd36361ed",
        "outputId": "be4ac24d-d014-4e1c-d610-635ec1dfe303"
      },
      "outputs": [
        {
          "output_type": "stream",
          "name": "stderr",
          "text": [
            "Installing package into ‘/usr/local/lib/R/site-library’\n",
            "(as ‘lib’ is unspecified)\n",
            "\n"
          ]
        }
      ],
      "source": [
        "# Установить необходимый пакет для работы с URL\n",
        "install.packages(\"readr\")\n",
        "\n",
        "# Загрузить библиотеку\n",
        "library(readr)\n",
        "\n"
      ]
    },
    {
      "cell_type": "code",
      "source": [
        "# Указать URL-адрес файла CSV на GitHub\n",
        "url <- \"https://raw.githubusercontent.com/kindykbayev/KIS/main/lab1/Computers.csv\""
      ],
      "metadata": {
        "id": "Lj7gsiCcdyAm"
      },
      "id": "Lj7gsiCcdyAm",
      "execution_count": 15,
      "outputs": []
    },
    {
      "cell_type": "code",
      "source": [
        "Sys.setenv(\"VROOM_CONNECTION_SIZE\" = 1048576)"
      ],
      "metadata": {
        "id": "0lTraVZ6fVt9"
      },
      "id": "0lTraVZ6fVt9",
      "execution_count": 13,
      "outputs": []
    },
    {
      "cell_type": "code",
      "source": [
        "# Прочитать CSV-файл\n",
        "data <- read_csv(url)\n",
        "\n"
      ],
      "metadata": {
        "colab": {
          "base_uri": "https://localhost:8080/"
        },
        "id": "CjqtDQvVeIb_",
        "outputId": "440f8bbe-194d-470d-b044-ce4847316b24"
      },
      "id": "CjqtDQvVeIb_",
      "execution_count": 21,
      "outputs": [
        {
          "output_type": "stream",
          "name": "stderr",
          "text": [
            "\u001b[1m\u001b[22mNew names:\n",
            "\u001b[36m•\u001b[39m `` -> `...1`\n",
            "\u001b[1mRows: \u001b[22m\u001b[34m6259\u001b[39m \u001b[1mColumns: \u001b[22m\u001b[34m11\u001b[39m\n",
            "\u001b[36m──\u001b[39m \u001b[1mColumn specification\u001b[22m \u001b[36m────────────────────────────────────────────────────────\u001b[39m\n",
            "\u001b[1mDelimiter:\u001b[22m \",\"\n",
            "\u001b[31mchr\u001b[39m (3): cd, multi, premium\n",
            "\u001b[32mdbl\u001b[39m (8): ...1, price, speed, hd, ram, screen, ads, trend\n",
            "\n",
            "\u001b[36mℹ\u001b[39m Use `spec()` to retrieve the full column specification for this data.\n",
            "\u001b[36mℹ\u001b[39m Specify the column types or set `show_col_types = FALSE` to quiet this message.\n"
          ]
        }
      ]
    },
    {
      "cell_type": "code",
      "source": [
        "head(data)"
      ],
      "metadata": {
        "colab": {
          "base_uri": "https://localhost:8080/",
          "height": 286
        },
        "id": "6H5YqfSXgWgJ",
        "outputId": "22cb5174-7237-4666-b159-2139447139e6"
      },
      "id": "6H5YqfSXgWgJ",
      "execution_count": 22,
      "outputs": [
        {
          "output_type": "display_data",
          "data": {
            "text/html": [
              "<table class=\"dataframe\">\n",
              "<caption>A tibble: 6 × 11</caption>\n",
              "<thead>\n",
              "\t<tr><th scope=col>...1</th><th scope=col>price</th><th scope=col>speed</th><th scope=col>hd</th><th scope=col>ram</th><th scope=col>screen</th><th scope=col>cd</th><th scope=col>multi</th><th scope=col>premium</th><th scope=col>ads</th><th scope=col>trend</th></tr>\n",
              "\t<tr><th scope=col>&lt;dbl&gt;</th><th scope=col>&lt;dbl&gt;</th><th scope=col>&lt;dbl&gt;</th><th scope=col>&lt;dbl&gt;</th><th scope=col>&lt;dbl&gt;</th><th scope=col>&lt;dbl&gt;</th><th scope=col>&lt;chr&gt;</th><th scope=col>&lt;chr&gt;</th><th scope=col>&lt;chr&gt;</th><th scope=col>&lt;dbl&gt;</th><th scope=col>&lt;dbl&gt;</th></tr>\n",
              "</thead>\n",
              "<tbody>\n",
              "\t<tr><td>1</td><td>1499</td><td>25</td><td> 80</td><td> 4</td><td>14</td><td>no</td><td>no</td><td>yes</td><td>94</td><td>1</td></tr>\n",
              "\t<tr><td>2</td><td>1795</td><td>33</td><td> 85</td><td> 2</td><td>14</td><td>no</td><td>no</td><td>yes</td><td>94</td><td>1</td></tr>\n",
              "\t<tr><td>3</td><td>1595</td><td>25</td><td>170</td><td> 4</td><td>15</td><td>no</td><td>no</td><td>yes</td><td>94</td><td>1</td></tr>\n",
              "\t<tr><td>4</td><td>1849</td><td>25</td><td>170</td><td> 8</td><td>14</td><td>no</td><td>no</td><td>no </td><td>94</td><td>1</td></tr>\n",
              "\t<tr><td>5</td><td>3295</td><td>33</td><td>340</td><td>16</td><td>14</td><td>no</td><td>no</td><td>yes</td><td>94</td><td>1</td></tr>\n",
              "\t<tr><td>6</td><td>3695</td><td>66</td><td>340</td><td>16</td><td>14</td><td>no</td><td>no</td><td>yes</td><td>94</td><td>1</td></tr>\n",
              "</tbody>\n",
              "</table>\n"
            ],
            "text/markdown": "\nA tibble: 6 × 11\n\n| ...1 &lt;dbl&gt; | price &lt;dbl&gt; | speed &lt;dbl&gt; | hd &lt;dbl&gt; | ram &lt;dbl&gt; | screen &lt;dbl&gt; | cd &lt;chr&gt; | multi &lt;chr&gt; | premium &lt;chr&gt; | ads &lt;dbl&gt; | trend &lt;dbl&gt; |\n|---|---|---|---|---|---|---|---|---|---|---|\n| 1 | 1499 | 25 |  80 |  4 | 14 | no | no | yes | 94 | 1 |\n| 2 | 1795 | 33 |  85 |  2 | 14 | no | no | yes | 94 | 1 |\n| 3 | 1595 | 25 | 170 |  4 | 15 | no | no | yes | 94 | 1 |\n| 4 | 1849 | 25 | 170 |  8 | 14 | no | no | no  | 94 | 1 |\n| 5 | 3295 | 33 | 340 | 16 | 14 | no | no | yes | 94 | 1 |\n| 6 | 3695 | 66 | 340 | 16 | 14 | no | no | yes | 94 | 1 |\n\n",
            "text/latex": "A tibble: 6 × 11\n\\begin{tabular}{lllllllllll}\n ...1 & price & speed & hd & ram & screen & cd & multi & premium & ads & trend\\\\\n <dbl> & <dbl> & <dbl> & <dbl> & <dbl> & <dbl> & <chr> & <chr> & <chr> & <dbl> & <dbl>\\\\\n\\hline\n\t 1 & 1499 & 25 &  80 &  4 & 14 & no & no & yes & 94 & 1\\\\\n\t 2 & 1795 & 33 &  85 &  2 & 14 & no & no & yes & 94 & 1\\\\\n\t 3 & 1595 & 25 & 170 &  4 & 15 & no & no & yes & 94 & 1\\\\\n\t 4 & 1849 & 25 & 170 &  8 & 14 & no & no & no  & 94 & 1\\\\\n\t 5 & 3295 & 33 & 340 & 16 & 14 & no & no & yes & 94 & 1\\\\\n\t 6 & 3695 & 66 & 340 & 16 & 14 & no & no & yes & 94 & 1\\\\\n\\end{tabular}\n",
            "text/plain": [
              "  ...1 price speed hd  ram screen cd multi premium ads trend\n",
              "1 1    1499  25     80  4  14     no no    yes     94  1    \n",
              "2 2    1795  33     85  2  14     no no    yes     94  1    \n",
              "3 3    1595  25    170  4  15     no no    yes     94  1    \n",
              "4 4    1849  25    170  8  14     no no    no      94  1    \n",
              "5 5    3295  33    340 16  14     no no    yes     94  1    \n",
              "6 6    3695  66    340 16  14     no no    yes     94  1    "
            ]
          },
          "metadata": {}
        }
      ]
    }
  ],
  "metadata": {
    "kernelspec": {
      "display_name": "R",
      "name": "ir"
    },
    "language_info": {
      "name": "R"
    },
    "colab": {
      "provenance": []
    }
  },
  "nbformat": 4,
  "nbformat_minor": 5
}